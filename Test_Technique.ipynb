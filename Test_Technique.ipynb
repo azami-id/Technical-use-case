{
 "cells": [
  {
   "cell_type": "markdown",
   "id": "80462894-04e6-48c8-9b61-94f826886a2f",
   "metadata": {},
   "source": [
    "# **Test technique Mouratoglou - Trampoline park**"
   ]
  },
  {
   "cell_type": "markdown",
   "id": "ad87c0d1-cbcb-4cfc-819c-6bff74610723",
   "metadata": {},
   "source": [
    "***"
   ]
  },
  {
   "cell_type": "markdown",
   "id": "94793bcf-34d3-44ac-9ea8-db8d29d821c1",
   "metadata": {},
   "source": [
    "### Réponse 1 : un même client est inscrit dans plusieurs parcs"
   ]
  },
  {
   "cell_type": "markdown",
   "id": "e6e38a8c-82a5-473f-8da9-4fe14f578461",
   "metadata": {},
   "source": [
    ">On peut éviter que les clients reçoivent le même email pour chaque parc, nous pourrions choisir le parc avec lequel le client a le plus de fréquentation ou avoir dépensé le plus d'argent et/ou le plus proche de lui. Toutefois, nous pouvons également prendre en compte comme critère additionnel les dates de visites pour savoir les clients les plus actifs ou non actifs et effectuer des segmenation pour répondre au besoins des équipes marketing.\n",
    ">\n",
    ">Critères de d'affectation d'un client à un parc :\n",
    ">\n",
    "> - Nombre total de visite par parc\n",
    ">\n",
    "> - Montant des achats dépensés par parc\n",
    ">\n",
    "> - Données de localisation : proximité, ville, région\n",
    ">"
   ]
  },
  {
   "cell_type": "markdown",
   "id": "c049d219-8966-4c03-864c-5037ec977bc4",
   "metadata": {},
   "source": [
    "#### 1- Création d'une data random pour illustrer cette proposition : voici le script Python\n",
    "\n",
    ">J'ai créer 1000 clients aléatoire comme échatillon de test"
   ]
  },
  {
   "cell_type": "code",
   "execution_count": 305,
   "id": "0761731a-c045-4782-ba50-e5ddcd450c7a",
   "metadata": {},
   "outputs": [],
   "source": [
    "import faker\n",
    "import uuid\n",
    "import pandas as pd\n",
    "\n",
    "# générer 1000 clients aléatoires\n",
    "fake = faker.Faker()\n",
    "clients = []\n",
    "for i in range(1000):\n",
    "    clients.append({\n",
    "        \"id\": str(uuid.uuid4()),\n",
    "        \"nom\": fake.name(),\n",
    "        \"adresse\": fake.address(),\n",
    "        \"email\": fake.email(),\n",
    "    })\n",
    "\n",
    "# générer 10 parcs aléatoires\n",
    "parcs = []\n",
    "for i in range(10):\n",
    "    parcs.append({\n",
    "        \"id\": str(uuid.uuid4()),\n",
    "        \"nom\": fake.company(),\n",
    "        \"adresse\": fake.address(),\n",
    "        \"distance\": fake.random_int(min=1, max=100),\n",
    "    })\n",
    "\n",
    "# générer des inscriptions aléatoires\n",
    "inscriptions = []\n",
    "for client in clients:\n",
    "    for parc in parcs:\n",
    "        inscriptions.append({\n",
    "            \"client_id\": client[\"id\"],\n",
    "            \"parc_id\": parc[\"id\"],\n",
    "            \"date\": fake.date_between(start_date=\"-2y\", end_date=\"today\"),\n",
    "        })\n",
    "\n",
    "# générer des dépenses aléatoires\n",
    "depenses = []\n",
    "for inscription in inscriptions:\n",
    "    depenses.append({\n",
    "        \"client_id\": inscription[\"client_id\"],\n",
    "        \"parc_id\": inscription[\"parc_id\"],\n",
    "        \"montant\": fake.pyfloat(left_digits=2, right_digits=2, positive=True),\n",
    "        \"date\": inscription[\"date\"],\n",
    "    })\n",
    "\n",
    "# covertir les listes en DataFrame\n",
    "clients_df = pd.DataFrame(clients)\n",
    "parcs_df = pd.DataFrame(parcs)\n",
    "inscriptions_df = pd.DataFrame(inscriptions)\n",
    "depenses_df = pd.DataFrame(depenses)\n",
    "\n",
    "# exporter les données en csv\n",
    "clients_df.to_csv(\"clients.csv\", index=False)\n",
    "parcs_df.to_csv(\"parcs.csv\", index=False)\n",
    "inscriptions_df.to_csv(\"inscriptions.csv\", index=False)\n",
    "depenses_df.to_csv(\"depenses.csv\", index=False)"
   ]
  },
  {
   "cell_type": "markdown",
   "id": "e2d74a48-d53d-439e-895f-d24bf3cae4d6",
   "metadata": {},
   "source": [
    "#### 1 - Création de la requête SQL qui effectue l'affectation et le filtrage des clients par parc (voir data aléatoire)"
   ]
  },
  {
   "cell_type": "code",
   "execution_count": 318,
   "id": "fd4876f4-8891-4f91-9424-522eed7d6d92",
   "metadata": {},
   "outputs": [
    {
     "data": {
      "text/html": [
       "<div>\n",
       "<style scoped>\n",
       "    .dataframe tbody tr th:only-of-type {\n",
       "        vertical-align: middle;\n",
       "    }\n",
       "\n",
       "    .dataframe tbody tr th {\n",
       "        vertical-align: top;\n",
       "    }\n",
       "\n",
       "    .dataframe thead th {\n",
       "        text-align: right;\n",
       "    }\n",
       "</style>\n",
       "<table border=\"1\" class=\"dataframe\">\n",
       "  <thead>\n",
       "    <tr style=\"text-align: right;\">\n",
       "      <th></th>\n",
       "      <th>client_id</th>\n",
       "      <th>parc_id</th>\n",
       "      <th>dépenses_max</th>\n",
       "      <th>distance_min</th>\n",
       "      <th>nb_de_visites_max</th>\n",
       "    </tr>\n",
       "  </thead>\n",
       "  <tbody>\n",
       "    <tr>\n",
       "      <th>0</th>\n",
       "      <td>f843baa7-d3d2-49eb-83f2-e23099682523</td>\n",
       "      <td>134585f4-bc34-4a7e-8fc7-c4ba6af690d7</td>\n",
       "      <td>412.44</td>\n",
       "      <td>71</td>\n",
       "      <td>7</td>\n",
       "    </tr>\n",
       "    <tr>\n",
       "      <th>1</th>\n",
       "      <td>924cf61e-171b-40e9-b226-7fe930015008</td>\n",
       "      <td>94719e7e-d522-4315-884d-a38078518594</td>\n",
       "      <td>99.99</td>\n",
       "      <td>11</td>\n",
       "      <td>1</td>\n",
       "    </tr>\n",
       "    <tr>\n",
       "      <th>2</th>\n",
       "      <td>81d39272-8c0b-444e-ac0b-66f87e80972e</td>\n",
       "      <td>7cb5aa5e-1b99-47e5-b521-80353359cbe0</td>\n",
       "      <td>99.99</td>\n",
       "      <td>88</td>\n",
       "      <td>1</td>\n",
       "    </tr>\n",
       "    <tr>\n",
       "      <th>3</th>\n",
       "      <td>ef97dd08-6a77-40c5-855a-e3ab997ca5f6</td>\n",
       "      <td>6db1f68b-38ae-4011-8403-b13d812316ad</td>\n",
       "      <td>99.98</td>\n",
       "      <td>66</td>\n",
       "      <td>1</td>\n",
       "    </tr>\n",
       "    <tr>\n",
       "      <th>4</th>\n",
       "      <td>1b63e336-f537-4731-8aa5-0d6b26fc697e</td>\n",
       "      <td>6db1f68b-38ae-4011-8403-b13d812316ad</td>\n",
       "      <td>99.97</td>\n",
       "      <td>66</td>\n",
       "      <td>1</td>\n",
       "    </tr>\n",
       "  </tbody>\n",
       "</table>\n",
       "</div>"
      ],
      "text/plain": [
       "                              client_id                               parc_id  \\\n",
       "0  f843baa7-d3d2-49eb-83f2-e23099682523  134585f4-bc34-4a7e-8fc7-c4ba6af690d7   \n",
       "1  924cf61e-171b-40e9-b226-7fe930015008  94719e7e-d522-4315-884d-a38078518594   \n",
       "2  81d39272-8c0b-444e-ac0b-66f87e80972e  7cb5aa5e-1b99-47e5-b521-80353359cbe0   \n",
       "3  ef97dd08-6a77-40c5-855a-e3ab997ca5f6  6db1f68b-38ae-4011-8403-b13d812316ad   \n",
       "4  1b63e336-f537-4731-8aa5-0d6b26fc697e  6db1f68b-38ae-4011-8403-b13d812316ad   \n",
       "\n",
       "   dépenses_max  distance_min  nb_de_visites_max  \n",
       "0        412.44            71                  7  \n",
       "1         99.99            11                  1  \n",
       "2         99.99            88                  1  \n",
       "3         99.98            66                  1  \n",
       "4         99.97            66                  1  "
      ]
     },
     "execution_count": 318,
     "metadata": {},
     "output_type": "execute_result"
    }
   ],
   "source": [
    "import sqlite3\n",
    "import pandas as pd\n",
    "\n",
    "# connexion à la base de données\n",
    "conn = sqlite3.connect('Database.db') \n",
    "\n",
    "# création de cursor\n",
    "cursor = conn.cursor()\n",
    "\n",
    "# executer la requête\n",
    "cursor.execute(\"\"\"\n",
    "SELECT c.id AS client_id,\n",
    "       pc.parc_id,\n",
    "       pc.dépenses AS dépenses_max,\n",
    "       pc.distance AS distance_min,\n",
    "       pc.nb_de_visites AS nb_de_visites_max\n",
    "FROM clients c\n",
    "JOIN (\n",
    "    SELECT i.client_id,\n",
    "           i.parc_id,\n",
    "           SUM(d.montant) AS dépenses,\n",
    "           p.distance,\n",
    "           COUNT(i.parc_id) AS nb_de_visites,\n",
    "           ROW_NUMBER() OVER (PARTITION BY i.client_id ORDER BY SUM(d.montant) DESC, p.distance ASC, COUNT(i.parc_id) DESC) AS rang\n",
    "    FROM inscriptions i\n",
    "    JOIN depenses d ON i.client_id = d.client_id AND i.parc_id = d.parc_id\n",
    "    JOIN parcs p ON i.parc_id = p.id\n",
    "    GROUP BY i.client_id, i.parc_id, p.distance\n",
    ") pc ON c.id = pc.client_id\n",
    "WHERE pc.rang = 1\n",
    "ORDER BY pc.dépenses DESC, pc.distance ASC, pc.nb_de_visites DESC;\n",
    "\"\"\")\n",
    "# cette requête SQL permet de filtrer les clients en fonction des critères séléctionnées (dépenses, nb de visite, localisation)\n",
    "# Retourner toutes les lignes\n",
    "rows = cursor.fetchall()\n",
    "\n",
    "# fermer la connexion\n",
    "conn.close()\n",
    "\n",
    "# création d'un DataFrame à partir des résultats\n",
    "df = pd.DataFrame(rows, columns=['client_id', 'parc_id', 'dépenses_max', 'distance_min', 'nb_de_visites_max'])\n",
    "\n",
    "# affichage du DataFrame\n",
    "df.head()"
   ]
  },
  {
   "cell_type": "markdown",
   "id": "d9d5a8e5-36e8-4dbb-90e0-1bac06501084",
   "metadata": {},
   "source": [
    "---"
   ]
  },
  {
   "cell_type": "markdown",
   "id": "58ec1836-f29f-4a8b-a463-b50e9ca20656",
   "metadata": {},
   "source": [
    "### Réponse 2 : Optimisation des performances"
   ]
  },
  {
   "cell_type": "markdown",
   "id": "712c8ced-c176-46f9-828e-6dffc63c53da",
   "metadata": {},
   "source": [
    "#### 1 - Optimisation des scripts & requêtes SQL"
   ]
  },
  {
   "cell_type": "markdown",
   "id": "815e2aed-d1f1-408c-81e9-048001b2fe58",
   "metadata": {},
   "source": [
    ">Pour méliorer la rapidité d'exécution du code je proposes quelques bonnes pratiques pour améliorer le temps d'exécution du code :\n",
    "> - utiliser une base de données pour stocker les données, ce qui permettra des requêtes plus rapides\n",
    "> - mettre en place un système de cache pour ne recharger les données que lorsqu'il s'agit des données nouvelles (par exemple en ne rechargeant que les données des 3 derniers mois par rapport à N-1)\n",
    "> - optimiser les requêtes SQL en utilisant des index aux tables"
   ]
  },
  {
   "cell_type": "markdown",
   "id": "3ba21c9e-aa56-41c1-abc3-74b09baa97f5",
   "metadata": {},
   "source": [
    "#### 2- Solution Alternative"
   ]
  },
  {
   "cell_type": "markdown",
   "id": "6eb5bcd1-fd4c-46c7-8aaf-6ac7e2743d31",
   "metadata": {},
   "source": [
    ">une solution alternative pourrait être de mettre en place un dashboard interactif avec POWER BI. Cela permettrait aux équipes d'avoir une vue consolidée et actualisée des ventes en temps réel, avec des fonctionnalités de filtrage, de comparaison, etc. Les données pourraient être rechargées automatiquement depuis une base de données ou d'autres sources de données qu'on peut connecter à notre ETL."
   ]
  },
  {
   "cell_type": "markdown",
   "id": "4e2a5113-67e5-4704-b35a-3e78291576a5",
   "metadata": {},
   "source": [
    "---"
   ]
  },
  {
   "cell_type": "markdown",
   "id": "c7c36165-4123-4719-bad7-cb1b51180dc0",
   "metadata": {},
   "source": [
    "### Réponse 3 : nettoyage des données"
   ]
  },
  {
   "cell_type": "markdown",
   "id": "7bf0534d-083f-4eed-a739-5315c1fb086b",
   "metadata": {},
   "source": [
    "#### Nettoyages des emails et numéro de téléphone "
   ]
  },
  {
   "cell_type": "markdown",
   "id": "3eb4a602-666a-4720-b9d5-58b2d1f33c1f",
   "metadata": {},
   "source": [
    ">Pour nettoyer les emails et numéros de téléphone, on pourrait :\n",
    ">\n",
    "> - vérifier la validité du format (ex : email avec un @ et un domaine, numéro de téléphone avec le bon nombre de chiffres)\n",
    "> - supprimer les espaces, caractères spéciaux, etc.\n",
    "> - appliquer des règles spécifiques (ex : formater les numéros de téléphone dans un format standard)\n",
    "> - utiliser des librairies de nettoyage de données comme regex "
   ]
  },
  {
   "cell_type": "code",
   "execution_count": 297,
   "id": "607345c9-d1f9-4fe3-91d6-46754a855c1f",
   "metadata": {},
   "outputs": [],
   "source": [
    "import re\n",
    "\n",
    "def nettoyer_email(email):\n",
    "    # supprimer les espaces et convertir en minuscules\n",
    "    email = email.strip().lower()\n",
    "    \n",
    "    # vérifier le format avec une expression régulière\n",
    "    if re.match(r'^[\\w\\.-]+@[\\w\\.-]+\\.\\w+$', email):\n",
    "        return email\n",
    "    else:\n",
    "        return None\n",
    "\n",
    "def nettoyer_telephone(telephone):\n",
    "    # supprimer les espaces et les caractères non numériques\n",
    "    telephone = re.sub(r'[^0-9]', '', telephone)\n",
    "    \n",
    "    # vérifier la longueur (10 chiffres pour un numéro français)\n",
    "    if len(telephone) == 10:\n",
    "        return telephone\n",
    "    else:\n",
    "        return None"
   ]
  },
  {
   "cell_type": "markdown",
   "id": "60501a0b-a4e1-41ed-ad3d-ac15e8a9276e",
   "metadata": {},
   "source": [
    "---"
   ]
  },
  {
   "cell_type": "markdown",
   "id": "8c04429e-fa3e-4341-a7d2-c30bbbf179da",
   "metadata": {},
   "source": [
    "### Réponse 4 : Analyse des kpi's et Data visualisation"
   ]
  },
  {
   "cell_type": "markdown",
   "id": "2f911574-0cfa-4ff9-a08c-b430bef87ce4",
   "metadata": {},
   "source": [
    "#### 1 - Les indicateurs clès pour analyser les réservations"
   ]
  },
  {
   "cell_type": "markdown",
   "id": "e8db037f-565e-425c-9a55-5932c7659230",
   "metadata": {},
   "source": [
    ">Pour analyser le comportement des clients en termes de réservation, on pourrait utiliser des indicateurs comme :\n",
    "> - Le délai moyen entre la réservation et la date d'arrivée\n",
    "> - Le taux de réservation de dernière minute (ex : moins d'1 semaine avant l'arrivée)\n",
    "> - Le profil des clients en fonction du délai de réservation (ex : familles réservent plus tôt, jeunes réservent plus tard)\n",
    "> \n",
    ">La moyenne et la médiane peuvent être toutes deux pertinentes selon l'objectif d'analyse :\n",
    ">  - La moyenne permet d'avoir une vision globale du comportement\n",
    ">  - La médiane est plus robuste aux valeurs extrêmes et permet d'avoir un indicateur plus représentatif de la tendance centrale"
   ]
  },
  {
   "cell_type": "markdown",
   "id": "af47b64d-19a6-4069-9930-aba881ae26bf",
   "metadata": {},
   "source": [
    "#### 2 - Data visualisation"
   ]
  },
  {
   "cell_type": "code",
   "execution_count": 466,
   "id": "a8bb30dc-c6f3-4410-a9e6-b9f0d3da3eb4",
   "metadata": {},
   "outputs": [
    {
     "data": {
      "application/vnd.plotly.v1+json": {
       "config": {
        "plotlyServerURL": "https://plot.ly"
       },
       "data": [
        {
         "alignmentgroup": "True",
         "hovertemplate": "parc_id=%{x}<br>frequence_reservation=%{y}<extra></extra>",
         "legendgroup": "",
         "marker": {
          "color": "#636efa",
          "pattern": {
           "shape": ""
          }
         },
         "name": "",
         "offsetgroup": "",
         "orientation": "v",
         "showlegend": false,
         "textposition": "auto",
         "type": "bar",
         "x": [
          1,
          2,
          3,
          4,
          5,
          6,
          7,
          8,
          9,
          10
         ],
         "xaxis": "x",
         "y": [
          1.8611111111111112,
          2.4375,
          2.193877551020408,
          2.0093457943925235,
          2.0408163265306123,
          1.8269230769230769,
          1.988888888888889,
          1.9626168224299065,
          1.797872340425532,
          2.073170731707317
         ],
         "yaxis": "y"
        }
       ],
       "layout": {
        "autosize": true,
        "barmode": "relative",
        "legend": {
         "tracegroupgap": 0
        },
        "template": {
         "data": {
          "bar": [
           {
            "error_x": {
             "color": "#2a3f5f"
            },
            "error_y": {
             "color": "#2a3f5f"
            },
            "marker": {
             "line": {
              "color": "#E5ECF6",
              "width": 0.5
             },
             "pattern": {
              "fillmode": "overlay",
              "size": 10,
              "solidity": 0.2
             }
            },
            "type": "bar"
           }
          ],
          "barpolar": [
           {
            "marker": {
             "line": {
              "color": "#E5ECF6",
              "width": 0.5
             },
             "pattern": {
              "fillmode": "overlay",
              "size": 10,
              "solidity": 0.2
             }
            },
            "type": "barpolar"
           }
          ],
          "carpet": [
           {
            "aaxis": {
             "endlinecolor": "#2a3f5f",
             "gridcolor": "white",
             "linecolor": "white",
             "minorgridcolor": "white",
             "startlinecolor": "#2a3f5f"
            },
            "baxis": {
             "endlinecolor": "#2a3f5f",
             "gridcolor": "white",
             "linecolor": "white",
             "minorgridcolor": "white",
             "startlinecolor": "#2a3f5f"
            },
            "type": "carpet"
           }
          ],
          "choropleth": [
           {
            "colorbar": {
             "outlinewidth": 0,
             "ticks": ""
            },
            "type": "choropleth"
           }
          ],
          "contour": [
           {
            "colorbar": {
             "outlinewidth": 0,
             "ticks": ""
            },
            "colorscale": [
             [
              0,
              "#0d0887"
             ],
             [
              0.1111111111111111,
              "#46039f"
             ],
             [
              0.2222222222222222,
              "#7201a8"
             ],
             [
              0.3333333333333333,
              "#9c179e"
             ],
             [
              0.4444444444444444,
              "#bd3786"
             ],
             [
              0.5555555555555556,
              "#d8576b"
             ],
             [
              0.6666666666666666,
              "#ed7953"
             ],
             [
              0.7777777777777778,
              "#fb9f3a"
             ],
             [
              0.8888888888888888,
              "#fdca26"
             ],
             [
              1,
              "#f0f921"
             ]
            ],
            "type": "contour"
           }
          ],
          "contourcarpet": [
           {
            "colorbar": {
             "outlinewidth": 0,
             "ticks": ""
            },
            "type": "contourcarpet"
           }
          ],
          "heatmap": [
           {
            "colorbar": {
             "outlinewidth": 0,
             "ticks": ""
            },
            "colorscale": [
             [
              0,
              "#0d0887"
             ],
             [
              0.1111111111111111,
              "#46039f"
             ],
             [
              0.2222222222222222,
              "#7201a8"
             ],
             [
              0.3333333333333333,
              "#9c179e"
             ],
             [
              0.4444444444444444,
              "#bd3786"
             ],
             [
              0.5555555555555556,
              "#d8576b"
             ],
             [
              0.6666666666666666,
              "#ed7953"
             ],
             [
              0.7777777777777778,
              "#fb9f3a"
             ],
             [
              0.8888888888888888,
              "#fdca26"
             ],
             [
              1,
              "#f0f921"
             ]
            ],
            "type": "heatmap"
           }
          ],
          "heatmapgl": [
           {
            "colorbar": {
             "outlinewidth": 0,
             "ticks": ""
            },
            "colorscale": [
             [
              0,
              "#0d0887"
             ],
             [
              0.1111111111111111,
              "#46039f"
             ],
             [
              0.2222222222222222,
              "#7201a8"
             ],
             [
              0.3333333333333333,
              "#9c179e"
             ],
             [
              0.4444444444444444,
              "#bd3786"
             ],
             [
              0.5555555555555556,
              "#d8576b"
             ],
             [
              0.6666666666666666,
              "#ed7953"
             ],
             [
              0.7777777777777778,
              "#fb9f3a"
             ],
             [
              0.8888888888888888,
              "#fdca26"
             ],
             [
              1,
              "#f0f921"
             ]
            ],
            "type": "heatmapgl"
           }
          ],
          "histogram": [
           {
            "marker": {
             "pattern": {
              "fillmode": "overlay",
              "size": 10,
              "solidity": 0.2
             }
            },
            "type": "histogram"
           }
          ],
          "histogram2d": [
           {
            "colorbar": {
             "outlinewidth": 0,
             "ticks": ""
            },
            "colorscale": [
             [
              0,
              "#0d0887"
             ],
             [
              0.1111111111111111,
              "#46039f"
             ],
             [
              0.2222222222222222,
              "#7201a8"
             ],
             [
              0.3333333333333333,
              "#9c179e"
             ],
             [
              0.4444444444444444,
              "#bd3786"
             ],
             [
              0.5555555555555556,
              "#d8576b"
             ],
             [
              0.6666666666666666,
              "#ed7953"
             ],
             [
              0.7777777777777778,
              "#fb9f3a"
             ],
             [
              0.8888888888888888,
              "#fdca26"
             ],
             [
              1,
              "#f0f921"
             ]
            ],
            "type": "histogram2d"
           }
          ],
          "histogram2dcontour": [
           {
            "colorbar": {
             "outlinewidth": 0,
             "ticks": ""
            },
            "colorscale": [
             [
              0,
              "#0d0887"
             ],
             [
              0.1111111111111111,
              "#46039f"
             ],
             [
              0.2222222222222222,
              "#7201a8"
             ],
             [
              0.3333333333333333,
              "#9c179e"
             ],
             [
              0.4444444444444444,
              "#bd3786"
             ],
             [
              0.5555555555555556,
              "#d8576b"
             ],
             [
              0.6666666666666666,
              "#ed7953"
             ],
             [
              0.7777777777777778,
              "#fb9f3a"
             ],
             [
              0.8888888888888888,
              "#fdca26"
             ],
             [
              1,
              "#f0f921"
             ]
            ],
            "type": "histogram2dcontour"
           }
          ],
          "mesh3d": [
           {
            "colorbar": {
             "outlinewidth": 0,
             "ticks": ""
            },
            "type": "mesh3d"
           }
          ],
          "parcoords": [
           {
            "line": {
             "colorbar": {
              "outlinewidth": 0,
              "ticks": ""
             }
            },
            "type": "parcoords"
           }
          ],
          "pie": [
           {
            "automargin": true,
            "type": "pie"
           }
          ],
          "scatter": [
           {
            "fillpattern": {
             "fillmode": "overlay",
             "size": 10,
             "solidity": 0.2
            },
            "type": "scatter"
           }
          ],
          "scatter3d": [
           {
            "line": {
             "colorbar": {
              "outlinewidth": 0,
              "ticks": ""
             }
            },
            "marker": {
             "colorbar": {
              "outlinewidth": 0,
              "ticks": ""
             }
            },
            "type": "scatter3d"
           }
          ],
          "scattercarpet": [
           {
            "marker": {
             "colorbar": {
              "outlinewidth": 0,
              "ticks": ""
             }
            },
            "type": "scattercarpet"
           }
          ],
          "scattergeo": [
           {
            "marker": {
             "colorbar": {
              "outlinewidth": 0,
              "ticks": ""
             }
            },
            "type": "scattergeo"
           }
          ],
          "scattergl": [
           {
            "marker": {
             "colorbar": {
              "outlinewidth": 0,
              "ticks": ""
             }
            },
            "type": "scattergl"
           }
          ],
          "scattermapbox": [
           {
            "marker": {
             "colorbar": {
              "outlinewidth": 0,
              "ticks": ""
             }
            },
            "type": "scattermapbox"
           }
          ],
          "scatterpolar": [
           {
            "marker": {
             "colorbar": {
              "outlinewidth": 0,
              "ticks": ""
             }
            },
            "type": "scatterpolar"
           }
          ],
          "scatterpolargl": [
           {
            "marker": {
             "colorbar": {
              "outlinewidth": 0,
              "ticks": ""
             }
            },
            "type": "scatterpolargl"
           }
          ],
          "scatterternary": [
           {
            "marker": {
             "colorbar": {
              "outlinewidth": 0,
              "ticks": ""
             }
            },
            "type": "scatterternary"
           }
          ],
          "surface": [
           {
            "colorbar": {
             "outlinewidth": 0,
             "ticks": ""
            },
            "colorscale": [
             [
              0,
              "#0d0887"
             ],
             [
              0.1111111111111111,
              "#46039f"
             ],
             [
              0.2222222222222222,
              "#7201a8"
             ],
             [
              0.3333333333333333,
              "#9c179e"
             ],
             [
              0.4444444444444444,
              "#bd3786"
             ],
             [
              0.5555555555555556,
              "#d8576b"
             ],
             [
              0.6666666666666666,
              "#ed7953"
             ],
             [
              0.7777777777777778,
              "#fb9f3a"
             ],
             [
              0.8888888888888888,
              "#fdca26"
             ],
             [
              1,
              "#f0f921"
             ]
            ],
            "type": "surface"
           }
          ],
          "table": [
           {
            "cells": {
             "fill": {
              "color": "#EBF0F8"
             },
             "line": {
              "color": "white"
             }
            },
            "header": {
             "fill": {
              "color": "#C8D4E3"
             },
             "line": {
              "color": "white"
             }
            },
            "type": "table"
           }
          ]
         },
         "layout": {
          "annotationdefaults": {
           "arrowcolor": "#2a3f5f",
           "arrowhead": 0,
           "arrowwidth": 1
          },
          "autotypenumbers": "strict",
          "coloraxis": {
           "colorbar": {
            "outlinewidth": 0,
            "ticks": ""
           }
          },
          "colorscale": {
           "diverging": [
            [
             0,
             "#8e0152"
            ],
            [
             0.1,
             "#c51b7d"
            ],
            [
             0.2,
             "#de77ae"
            ],
            [
             0.3,
             "#f1b6da"
            ],
            [
             0.4,
             "#fde0ef"
            ],
            [
             0.5,
             "#f7f7f7"
            ],
            [
             0.6,
             "#e6f5d0"
            ],
            [
             0.7,
             "#b8e186"
            ],
            [
             0.8,
             "#7fbc41"
            ],
            [
             0.9,
             "#4d9221"
            ],
            [
             1,
             "#276419"
            ]
           ],
           "sequential": [
            [
             0,
             "#0d0887"
            ],
            [
             0.1111111111111111,
             "#46039f"
            ],
            [
             0.2222222222222222,
             "#7201a8"
            ],
            [
             0.3333333333333333,
             "#9c179e"
            ],
            [
             0.4444444444444444,
             "#bd3786"
            ],
            [
             0.5555555555555556,
             "#d8576b"
            ],
            [
             0.6666666666666666,
             "#ed7953"
            ],
            [
             0.7777777777777778,
             "#fb9f3a"
            ],
            [
             0.8888888888888888,
             "#fdca26"
            ],
            [
             1,
             "#f0f921"
            ]
           ],
           "sequentialminus": [
            [
             0,
             "#0d0887"
            ],
            [
             0.1111111111111111,
             "#46039f"
            ],
            [
             0.2222222222222222,
             "#7201a8"
            ],
            [
             0.3333333333333333,
             "#9c179e"
            ],
            [
             0.4444444444444444,
             "#bd3786"
            ],
            [
             0.5555555555555556,
             "#d8576b"
            ],
            [
             0.6666666666666666,
             "#ed7953"
            ],
            [
             0.7777777777777778,
             "#fb9f3a"
            ],
            [
             0.8888888888888888,
             "#fdca26"
            ],
            [
             1,
             "#f0f921"
            ]
           ]
          },
          "colorway": [
           "#636efa",
           "#EF553B",
           "#00cc96",
           "#ab63fa",
           "#FFA15A",
           "#19d3f3",
           "#FF6692",
           "#B6E880",
           "#FF97FF",
           "#FECB52"
          ],
          "font": {
           "color": "#2a3f5f"
          },
          "geo": {
           "bgcolor": "white",
           "lakecolor": "white",
           "landcolor": "#E5ECF6",
           "showlakes": true,
           "showland": true,
           "subunitcolor": "white"
          },
          "hoverlabel": {
           "align": "left"
          },
          "hovermode": "closest",
          "mapbox": {
           "style": "light"
          },
          "paper_bgcolor": "white",
          "plot_bgcolor": "#E5ECF6",
          "polar": {
           "angularaxis": {
            "gridcolor": "white",
            "linecolor": "white",
            "ticks": ""
           },
           "bgcolor": "#E5ECF6",
           "radialaxis": {
            "gridcolor": "white",
            "linecolor": "white",
            "ticks": ""
           }
          },
          "scene": {
           "xaxis": {
            "backgroundcolor": "#E5ECF6",
            "gridcolor": "white",
            "gridwidth": 2,
            "linecolor": "white",
            "showbackground": true,
            "ticks": "",
            "zerolinecolor": "white"
           },
           "yaxis": {
            "backgroundcolor": "#E5ECF6",
            "gridcolor": "white",
            "gridwidth": 2,
            "linecolor": "white",
            "showbackground": true,
            "ticks": "",
            "zerolinecolor": "white"
           },
           "zaxis": {
            "backgroundcolor": "#E5ECF6",
            "gridcolor": "white",
            "gridwidth": 2,
            "linecolor": "white",
            "showbackground": true,
            "ticks": "",
            "zerolinecolor": "white"
           }
          },
          "shapedefaults": {
           "line": {
            "color": "#2a3f5f"
           }
          },
          "ternary": {
           "aaxis": {
            "gridcolor": "white",
            "linecolor": "white",
            "ticks": ""
           },
           "baxis": {
            "gridcolor": "white",
            "linecolor": "white",
            "ticks": ""
           },
           "bgcolor": "#E5ECF6",
           "caxis": {
            "gridcolor": "white",
            "linecolor": "white",
            "ticks": ""
           }
          },
          "title": {
           "x": 0.05
          },
          "xaxis": {
           "automargin": true,
           "gridcolor": "white",
           "linecolor": "white",
           "ticks": "",
           "title": {
            "standoff": 15
           },
           "zerolinecolor": "white",
           "zerolinewidth": 2
          },
          "yaxis": {
           "automargin": true,
           "gridcolor": "white",
           "linecolor": "white",
           "ticks": "",
           "title": {
            "standoff": 15
           },
           "zerolinecolor": "white",
           "zerolinewidth": 2
          }
         }
        },
        "title": {
         "text": "fréquence de réservation moyenne par parc"
        },
        "xaxis": {
         "anchor": "y",
         "autorange": true,
         "domain": [
          0,
          1
         ],
         "range": [
          0.5,
          10.5
         ],
         "title": {
          "text": "Parc ID"
         },
         "type": "linear"
        },
        "yaxis": {
         "anchor": "x",
         "autorange": true,
         "domain": [
          0,
          1
         ],
         "range": [
          0,
          2.5657894736842106
         ],
         "title": {
          "text": "Fréquence de réservation moyenne"
         },
         "type": "linear"
        }
       }
      },
      "image/png": "[encoded data removed]",
      "text/html": [
       "<div>                            <div id=\"09d609a6-1e94-46db-9ff7-d6bd1021b350\" class=\"plotly-graph-div\" style=\"height:525px; width:100%;\"></div>            <script type=\"text/javascript\">                require([\"plotly\"], function(Plotly) {                    window.PLOTLYENV=window.PLOTLYENV || {};                                    if (document.getElementById(\"09d609a6-1e94-46db-9ff7-d6bd1021b350\")) {                    Plotly.newPlot(                        \"09d609a6-1e94-46db-9ff7-d6bd1021b350\",                        [{\"alignmentgroup\":\"True\",\"hovertemplate\":\"parc_id=%{x}<br>frequence_reservation=%{y}<extra></extra>\",\"legendgroup\":\"\",\"marker\":{\"color\":\"#636efa\",\"pattern\":{\"shape\":\"\"}},\"name\":\"\",\"offsetgroup\":\"\",\"orientation\":\"v\",\"showlegend\":false,\"textposition\":\"auto\",\"x\":[1,2,3,4,5,6,7,8,9,10],\"xaxis\":\"x\",\"y\":[1.8611111111111112,2.4375,2.193877551020408,2.0093457943925235,2.0408163265306123,1.8269230769230769,1.988888888888889,1.9626168224299065,1.797872340425532,2.073170731707317],\"yaxis\":\"y\",\"type\":\"bar\"}],                        {\"template\":{\"data\":{\"histogram2dcontour\":[{\"type\":\"histogram2dcontour\",\"colorbar\":{\"outlinewidth\":0,\"ticks\":\"\"},\"colorscale\":[[0.0,\"#0d0887\"],[0.1111111111111111,\"#46039f\"],[0.2222222222222222,\"#7201a8\"],[0.3333333333333333,\"#9c179e\"],[0.4444444444444444,\"#bd3786\"],[0.5555555555555556,\"#d8576b\"],[0.6666666666666666,\"#ed7953\"],[0.7777777777777778,\"#fb9f3a\"],[0.8888888888888888,\"#fdca26\"],[1.0,\"#f0f921\"]]}],\"choropleth\":[{\"type\":\"choropleth\",\"colorbar\":{\"outlinewidth\":0,\"ticks\":\"\"}}],\"histogram2d\":[{\"type\":\"histogram2d\",\"colorbar\":{\"outlinewidth\":0,\"ticks\":\"\"},\"colorscale\":[[0.0,\"#0d0887\"],[0.1111111111111111,\"#46039f\"],[0.2222222222222222,\"#7201a8\"],[0.3333333333333333,\"#9c179e\"],[0.4444444444444444,\"#bd3786\"],[0.5555555555555556,\"#d8576b\"],[0.6666666666666666,\"#ed7953\"],[0.7777777777777778,\"#fb9f3a\"],[0.8888888888888888,\"#fdca26\"],[1.0,\"#f0f921\"]]}],\"heatmap\":[{\"type\":\"heatmap\",\"colorbar\":{\"outlinewidth\":0,\"ticks\":\"\"},\"colorscale\":[[0.0,\"#0d0887\"],[0.1111111111111111,\"#46039f\"],[0.2222222222222222,\"#7201a8\"],[0.3333333333333333,\"#9c179e\"],[0.4444444444444444,\"#bd3786\"],[0.5555555555555556,\"#d8576b\"],[0.6666666666666666,\"#ed7953\"],[0.7777777777777778,\"#fb9f3a\"],[0.8888888888888888,\"#fdca26\"],[1.0,\"#f0f921\"]]}],\"heatmapgl\":[{\"type\":\"heatmapgl\",\"colorbar\":{\"outlinewidth\":0,\"ticks\":\"\"},\"colorscale\":[[0.0,\"#0d0887\"],[0.1111111111111111,\"#46039f\"],[0.2222222222222222,\"#7201a8\"],[0.3333333333333333,\"#9c179e\"],[0.4444444444444444,\"#bd3786\"],[0.5555555555555556,\"#d8576b\"],[0.6666666666666666,\"#ed7953\"],[0.7777777777777778,\"#fb9f3a\"],[0.8888888888888888,\"#fdca26\"],[1.0,\"#f0f921\"]]}],\"contourcarpet\":[{\"type\":\"contourcarpet\",\"colorbar\":{\"outlinewidth\":0,\"ticks\":\"\"}}],\"contour\":[{\"type\":\"contour\",\"colorbar\":{\"outlinewidth\":0,\"ticks\":\"\"},\"colorscale\":[[0.0,\"#0d0887\"],[0.1111111111111111,\"#46039f\"],[0.2222222222222222,\"#7201a8\"],[0.3333333333333333,\"#9c179e\"],[0.4444444444444444,\"#bd3786\"],[0.5555555555555556,\"#d8576b\"],[0.6666666666666666,\"#ed7953\"],[0.7777777777777778,\"#fb9f3a\"],[0.8888888888888888,\"#fdca26\"],[1.0,\"#f0f921\"]]}],\"surface\":[{\"type\":\"surface\",\"colorbar\":{\"outlinewidth\":0,\"ticks\":\"\"},\"colorscale\":[[0.0,\"#0d0887\"],[0.1111111111111111,\"#46039f\"],[0.2222222222222222,\"#7201a8\"],[0.3333333333333333,\"#9c179e\"],[0.4444444444444444,\"#bd3786\"],[0.5555555555555556,\"#d8576b\"],[0.6666666666666666,\"#ed7953\"],[0.7777777777777778,\"#fb9f3a\"],[0.8888888888888888,\"#fdca26\"],[1.0,\"#f0f921\"]]}],\"mesh3d\":[{\"type\":\"mesh3d\",\"colorbar\":{\"outlinewidth\":0,\"ticks\":\"\"}}],\"scatter\":[{\"fillpattern\":{\"fillmode\":\"overlay\",\"size\":10,\"solidity\":0.2},\"type\":\"scatter\"}],\"parcoords\":[{\"type\":\"parcoords\",\"line\":{\"colorbar\":{\"outlinewidth\":0,\"ticks\":\"\"}}}],\"scatterpolargl\":[{\"type\":\"scatterpolargl\",\"marker\":{\"colorbar\":{\"outlinewidth\":0,\"ticks\":\"\"}}}],\"bar\":[{\"error_x\":{\"color\":\"#2a3f5f\"},\"error_y\":{\"color\":\"#2a3f5f\"},\"marker\":{\"line\":{\"color\":\"#E5ECF6\",\"width\":0.5},\"pattern\":{\"fillmode\":\"overlay\",\"size\":10,\"solidity\":0.2}},\"type\":\"bar\"}],\"scattergeo\":[{\"type\":\"scattergeo\",\"marker\":{\"colorbar\":{\"outlinewidth\":0,\"ticks\":\"\"}}}],\"scatterpolar\":[{\"type\":\"scatterpolar\",\"marker\":{\"colorbar\":{\"outlinewidth\":0,\"ticks\":\"\"}}}],\"histogram\":[{\"marker\":{\"pattern\":{\"fillmode\":\"overlay\",\"size\":10,\"solidity\":0.2}},\"type\":\"histogram\"}],\"scattergl\":[{\"type\":\"scattergl\",\"marker\":{\"colorbar\":{\"outlinewidth\":0,\"ticks\":\"\"}}}],\"scatter3d\":[{\"type\":\"scatter3d\",\"line\":{\"colorbar\":{\"outlinewidth\":0,\"ticks\":\"\"}},\"marker\":{\"colorbar\":{\"outlinewidth\":0,\"ticks\":\"\"}}}],\"scattermapbox\":[{\"type\":\"scattermapbox\",\"marker\":{\"colorbar\":{\"outlinewidth\":0,\"ticks\":\"\"}}}],\"scatterternary\":[{\"type\":\"scatterternary\",\"marker\":{\"colorbar\":{\"outlinewidth\":0,\"ticks\":\"\"}}}],\"scattercarpet\":[{\"type\":\"scattercarpet\",\"marker\":{\"colorbar\":{\"outlinewidth\":0,\"ticks\":\"\"}}}],\"carpet\":[{\"aaxis\":{\"endlinecolor\":\"#2a3f5f\",\"gridcolor\":\"white\",\"linecolor\":\"white\",\"minorgridcolor\":\"white\",\"startlinecolor\":\"#2a3f5f\"},\"baxis\":{\"endlinecolor\":\"#2a3f5f\",\"gridcolor\":\"white\",\"linecolor\":\"white\",\"minorgridcolor\":\"white\",\"startlinecolor\":\"#2a3f5f\"},\"type\":\"carpet\"}],\"table\":[{\"cells\":{\"fill\":{\"color\":\"#EBF0F8\"},\"line\":{\"color\":\"white\"}},\"header\":{\"fill\":{\"color\":\"#C8D4E3\"},\"line\":{\"color\":\"white\"}},\"type\":\"table\"}],\"barpolar\":[{\"marker\":{\"line\":{\"color\":\"#E5ECF6\",\"width\":0.5},\"pattern\":{\"fillmode\":\"overlay\",\"size\":10,\"solidity\":0.2}},\"type\":\"barpolar\"}],\"pie\":[{\"automargin\":true,\"type\":\"pie\"}]},\"layout\":{\"autotypenumbers\":\"strict\",\"colorway\":[\"#636efa\",\"#EF553B\",\"#00cc96\",\"#ab63fa\",\"#FFA15A\",\"#19d3f3\",\"#FF6692\",\"#B6E880\",\"#FF97FF\",\"#FECB52\"],\"font\":{\"color\":\"#2a3f5f\"},\"hovermode\":\"closest\",\"hoverlabel\":{\"align\":\"left\"},\"paper_bgcolor\":\"white\",\"plot_bgcolor\":\"#E5ECF6\",\"polar\":{\"bgcolor\":\"#E5ECF6\",\"angularaxis\":{\"gridcolor\":\"white\",\"linecolor\":\"white\",\"ticks\":\"\"},\"radialaxis\":{\"gridcolor\":\"white\",\"linecolor\":\"white\",\"ticks\":\"\"}},\"ternary\":{\"bgcolor\":\"#E5ECF6\",\"aaxis\":{\"gridcolor\":\"white\",\"linecolor\":\"white\",\"ticks\":\"\"},\"baxis\":{\"gridcolor\":\"white\",\"linecolor\":\"white\",\"ticks\":\"\"},\"caxis\":{\"gridcolor\":\"white\",\"linecolor\":\"white\",\"ticks\":\"\"}},\"coloraxis\":{\"colorbar\":{\"outlinewidth\":0,\"ticks\":\"\"}},\"colorscale\":{\"sequential\":[[0.0,\"#0d0887\"],[0.1111111111111111,\"#46039f\"],[0.2222222222222222,\"#7201a8\"],[0.3333333333333333,\"#9c179e\"],[0.4444444444444444,\"#bd3786\"],[0.5555555555555556,\"#d8576b\"],[0.6666666666666666,\"#ed7953\"],[0.7777777777777778,\"#fb9f3a\"],[0.8888888888888888,\"#fdca26\"],[1.0,\"#f0f921\"]],\"sequentialminus\":[[0.0,\"#0d0887\"],[0.1111111111111111,\"#46039f\"],[0.2222222222222222,\"#7201a8\"],[0.3333333333333333,\"#9c179e\"],[0.4444444444444444,\"#bd3786\"],[0.5555555555555556,\"#d8576b\"],[0.6666666666666666,\"#ed7953\"],[0.7777777777777778,\"#fb9f3a\"],[0.8888888888888888,\"#fdca26\"],[1.0,\"#f0f921\"]],\"diverging\":[[0,\"#8e0152\"],[0.1,\"#c51b7d\"],[0.2,\"#de77ae\"],[0.3,\"#f1b6da\"],[0.4,\"#fde0ef\"],[0.5,\"#f7f7f7\"],[0.6,\"#e6f5d0\"],[0.7,\"#b8e186\"],[0.8,\"#7fbc41\"],[0.9,\"#4d9221\"],[1,\"#276419\"]]},\"xaxis\":{\"gridcolor\":\"white\",\"linecolor\":\"white\",\"ticks\":\"\",\"title\":{\"standoff\":15},\"zerolinecolor\":\"white\",\"automargin\":true,\"zerolinewidth\":2},\"yaxis\":{\"gridcolor\":\"white\",\"linecolor\":\"white\",\"ticks\":\"\",\"title\":{\"standoff\":15},\"zerolinecolor\":\"white\",\"automargin\":true,\"zerolinewidth\":2},\"scene\":{\"xaxis\":{\"backgroundcolor\":\"#E5ECF6\",\"gridcolor\":\"white\",\"linecolor\":\"white\",\"showbackground\":true,\"ticks\":\"\",\"zerolinecolor\":\"white\",\"gridwidth\":2},\"yaxis\":{\"backgroundcolor\":\"#E5ECF6\",\"gridcolor\":\"white\",\"linecolor\":\"white\",\"showbackground\":true,\"ticks\":\"\",\"zerolinecolor\":\"white\",\"gridwidth\":2},\"zaxis\":{\"backgroundcolor\":\"#E5ECF6\",\"gridcolor\":\"white\",\"linecolor\":\"white\",\"showbackground\":true,\"ticks\":\"\",\"zerolinecolor\":\"white\",\"gridwidth\":2}},\"shapedefaults\":{\"line\":{\"color\":\"#2a3f5f\"}},\"annotationdefaults\":{\"arrowcolor\":\"#2a3f5f\",\"arrowhead\":0,\"arrowwidth\":1},\"geo\":{\"bgcolor\":\"white\",\"landcolor\":\"#E5ECF6\",\"subunitcolor\":\"white\",\"showland\":true,\"showlakes\":true,\"lakecolor\":\"white\"},\"title\":{\"x\":0.05},\"mapbox\":{\"style\":\"light\"}}},\"xaxis\":{\"anchor\":\"y\",\"domain\":[0.0,1.0],\"title\":{\"text\":\"Parc ID\"}},\"yaxis\":{\"anchor\":\"x\",\"domain\":[0.0,1.0],\"title\":{\"text\":\"Fr\\u00e9quence de r\\u00e9servation moyenne\"}},\"legend\":{\"tracegroupgap\":0},\"title\":{\"text\":\"fr\\u00e9quence de r\\u00e9servation moyenne par parc\"},\"barmode\":\"relative\"},                        {\"responsive\": true}                    ).then(function(){\n",
       "                            \n",
       "var gd = document.getElementById('09d609a6-1e94-46db-9ff7-d6bd1021b350');\n",
       "var x = new MutationObserver(function (mutations, observer) {{\n",
       "        var display = window.getComputedStyle(gd).display;\n",
       "        if (!display || display === 'none') {{\n",
       "            console.log([gd, 'removed!']);\n",
       "            Plotly.purge(gd);\n",
       "            observer.disconnect();\n",
       "        }}\n",
       "}});\n",
       "\n",
       "// Listen for the removal of the full notebook cells\n",
       "var notebookContainer = gd.closest('#notebook-container');\n",
       "if (notebookContainer) {{\n",
       "    x.observe(notebookContainer, {childList: true});\n",
       "}}\n",
       "\n",
       "// Listen for the clearing of the current output cell\n",
       "var outputEl = gd.closest('.output');\n",
       "if (outputEl) {{\n",
       "    x.observe(outputEl, {childList: true});\n",
       "}}\n",
       "\n",
       "                        })                };                });            </script>        </div>"
      ]
     },
     "metadata": {},
     "output_type": "display_data"
    }
   ],
   "source": [
    "import pandas as pd\n",
    "import numpy as np\n",
    "import plotly.express as px\n",
    "import plotly.graph_objects as go\n",
    "\n",
    "# définir une graine aléatoire pour la reproductibilité\n",
    "np.random.seed(0)\n",
    "\n",
    "# créer un DataFrame avec 1000 lignes\n",
    "df = pd.DataFrame({\n",
    "    'client_id': np.random.choice(range(1, 501), 1000),\n",
    "    'parc_id': np.random.choice(range(1, 11), 1000),\n",
    "    'temps_reservation': np.random.normal(loc=30, scale=10, size=1000),\n",
    "    'frequence_reservation': np.random.poisson(lam=2, size=1000)\n",
    "})\n",
    "\n",
    "# s'assurer que temps_reservation est positif\n",
    "df['temps_reservation'] = df['temps_reservation'].abs()\n",
    "\n",
    "# arrondir temps_reservation au jour le plus proche\n",
    "df['temps_reservation'] = df['temps_reservation'].round()\n",
    "\n",
    "# fréquence de réservation moyenne par parc\n",
    "fig = px.bar(df.groupby('parc_id')['frequence_reservation'].mean().reset_index(),\n",
    "             x='parc_id', y='frequence_reservation',\n",
    "             title='fréquence de réservation moyenne par parc')\n",
    "fig.update_layout(xaxis_title='Parc ID', yaxis_title='Fréquence de réservation moyenne')\n",
    "fig.show()"
   ]
  },
  {
   "cell_type": "code",
   "execution_count": 468,
   "id": "e64271b2-91ec-468c-8503-2356e00e30b6",
   "metadata": {},
   "outputs": [
    {
     "data": {
      "application/vnd.plotly.v1+json": {
       "config": {
        "plotlyServerURL": "https://plot.ly"
       },
       "data": [
        {
         "hovertemplate": "temps_reservation=%{x}<br>frequence_reservation=%{y}<br>parc_id=%{marker.color}<extra></extra>",
         "legendgroup": "",
         "marker": {
          "color": [
           3,
           3,
           3,
           7,
           5,
           7,
           1,
           5,
           10,
           3,
           2,
           7,
           2,
           8,
           6,
           7,
           2,
           7,
           7,
           7,
           7,
           3,
           6,
           3,
           3,
           4,
           3,
           10,
           4,
           9,
           6,
           5,
           6,
           2,
           6,
           9,
           3,
           10,
           10,
           6,
           7,
           5,
           1,
           9,
           6,
           6,
           6,
           2,
           1,
           1,
           1,
           1,
           1,
           8,
           7,
           4,
           6,
           5,
           4,
           5,
           6,
           2,
           4,
           7,
           8,
           5,
           1,
           1,
           8,
           4,
           4,
           1,
           1,
           10,
           5,
           5,
           6,
           9,
           9,
           1,
           2,
           6,
           10,
           10,
           7,
           2,
           5,
           1,
           5,
           8,
           8,
           8,
           7,
           3,
           7,
           1,
           3,
           8,
           8,
           3,
           7,
           2,
           4,
           8,
           1,
           6,
           5,
           6,
           6,
           4,
           9,
           1,
           2,
           6,
           5,
           2,
           6,
           1,
           7,
           9,
           9,
           7,
           4,
           5,
           5,
           4,
           7,
           6,
           10,
           9,
           2,
           4,
           9,
           2,
           6,
           9,
           1,
           4,
           8,
           2,
           8,
           9,
           1,
           8,
           6,
           10,
           10,
           7,
           9,
           8,
           6,
           10,
           2,
           1,
           1,
           6,
           7,
           4,
           7,
           2,
           8,
           8,
           1,
           8,
           7,
           1,
           5,
           3,
           8,
           6,
           3,
           9,
           6,
           7,
           7,
           5,
           2,
           6,
           5,
           6,
           6,
           7,
           4,
           9,
           2,
           5,
           3,
           10,
           8,
           5,
           2,
           9,
           3,
           4,
           4,
           5,
           2,
           7,
           3,
           6,
           5,
           10,
           2,
           6,
           10,
           5,
           6,
           8,
           5,
           5,
           3,
           3,
           2,
           4,
           1,
           2,
           10,
           2,
           7,
           10,
           9,
           7,
           4,
           1,
           8,
           4,
           3,
           6,
           10,
           8,
           4,
           5,
           8,
           7,
           8,
           4,
           7,
           10,
           4,
           8,
           2,
           4,
           8,
           9,
           9,
           5,
           6,
           4,
           7,
           10,
           7,
           3,
           10,
           4,
           6,
           8,
           10,
           1,
           8,
           2,
           3,
           6,
           1,
           6,
           9,
           10,
           9,
           3,
           6,
           4,
           2,
           8,
           4,
           9,
           6,
           6,
           2,
           10,
           8,
           3,
           2,
           1,
           2,
           1,
           2,
           2,
           7,
           9,
           9,
           4,
           3,
           1,
           8,
           5,
           7,
           1,
           6,
           4,
           4,
           10,
           5,
           10,
           1,
           7,
           6,
           4,
           1,
           1,
           2,
           3,
           1,
           3,
           3,
           10,
           7,
           8,
           9,
           10,
           9,
           3,
           5,
           8,
           8,
           6,
           8,
           3,
           5,
           2,
           2,
           2,
           8,
           10,
           1,
           10,
           1,
           3,
           2,
           5,
           7,
           1,
           7,
           7,
           3,
           9,
           7,
           7,
           6,
           3,
           6,
           1,
           4,
           10,
           10,
           8,
           1,
           5,
           2,
           4,
           6,
           8,
           7,
           3,
           8,
           4,
           5,
           10,
           8,
           1,
           1,
           2,
           9,
           4,
           6,
           1,
           2,
           2,
           4,
           8,
           10,
           4,
           8,
           1,
           3,
           5,
           5,
           7,
           1,
           2,
           8,
           7,
           6,
           6,
           8,
           4,
           7,
           9,
           9,
           3,
           2,
           1,
           9,
           8,
           8,
           1,
           5,
           9,
           1,
           5,
           6,
           8,
           3,
           5,
           10,
           8,
           6,
           1,
           5,
           10,
           5,
           1,
           3,
           6,
           6,
           4,
           1,
           1,
           2,
           10,
           10,
           3,
           2,
           1,
           2,
           7,
           4,
           5,
           4,
           7,
           5,
           3,
           4,
           7,
           4,
           4,
           9,
           2,
           4,
           4,
           2,
           6,
           4,
           7,
           5,
           9,
           6,
           8,
           2,
           9,
           3,
           1,
           1,
           5,
           3,
           2,
           3,
           3,
           4,
           5,
           8,
           6,
           2,
           4,
           2,
           1,
           2,
           5,
           1,
           3,
           2,
           4,
           2,
           5,
           8,
           6,
           7,
           10,
           3,
           6,
           3,
           3,
           2,
           4,
           9,
           4,
           1,
           8,
           4,
           9,
           3,
           5,
           4,
           2,
           7,
           6,
           9,
           5,
           4,
           7,
           6,
           4,
           8,
           9,
           9,
           4,
           8,
           9,
           6,
           8,
           3,
           8,
           9,
           1,
           8,
           5,
           9,
           5,
           5,
           1,
           5,
           9,
           1,
           1,
           5,
           8,
           4,
           8,
           8,
           3,
           3,
           2,
           8,
           1,
           8,
           6,
           10,
           8,
           2,
           2,
           3,
           5,
           2,
           5,
           6,
           9,
           3,
           2,
           7,
           4,
           1,
           4,
           10,
           6,
           2,
           4,
           8,
           2,
           2,
           8,
           10,
           5,
           3,
           1,
           4,
           3,
           5,
           1,
           1,
           10,
           4,
           9,
           4,
           1,
           5,
           5,
           1,
           3,
           6,
           6,
           9,
           3,
           8,
           4,
           7,
           2,
           1,
           3,
           3,
           6,
           6,
           2,
           3,
           9,
           8,
           4,
           8,
           4,
           2,
           1,
           2,
           1,
           9,
           9,
           6,
           4,
           4,
           2,
           1,
           7,
           2,
           7,
           10,
           6,
           8,
           1,
           2,
           5,
           10,
           6,
           2,
           7,
           6,
           5,
           5,
           5,
           8,
           3,
           3,
           7,
           6,
           4,
           1,
           9,
           9,
           2,
           9,
           8,
           6,
           8,
           10,
           5,
           1,
           8,
           3,
           4,
           10,
           6,
           5,
           1,
           5,
           6,
           9,
           2,
           5,
           9,
           1,
           2,
           2,
           9,
           10,
           5,
           10,
           1,
           4,
           1,
           8,
           1,
           9,
           2,
           3,
           9,
           6,
           9,
           3,
           2,
           4,
           6,
           1,
           3,
           6,
           9,
           7,
           3,
           8,
           8,
           2,
           9,
           5,
           10,
           4,
           4,
           3,
           10,
           1,
           5,
           7,
           5,
           4,
           3,
           4,
           2,
           2,
           3,
           8,
           3,
           8,
           1,
           2,
           9,
           1,
           6,
           3,
           9,
           1,
           5,
           1,
           4,
           9,
           2,
           7,
           5,
           7,
           10,
           7,
           5,
           8,
           3,
           10,
           9,
           1,
           9,
           7,
           3,
           7,
           10,
           6,
           4,
           8,
           9,
           4,
           9,
           9,
           10,
           10,
           5,
           5,
           2,
           1,
           8,
           7,
           3,
           2,
           1,
           7,
           2,
           7,
           8,
           2,
           6,
           3,
           1,
           3,
           7,
           7,
           4,
           6,
           5,
           8,
           4,
           3,
           7,
           10,
           2,
           6,
           2,
           10,
           4,
           2,
           1,
           8,
           4,
           10,
           7,
           5,
           5,
           4,
           6,
           5,
           5,
           10,
           1,
           1,
           10,
           6,
           1,
           7,
           4,
           9,
           10,
           7,
           3,
           2,
           8,
           8,
           7,
           8,
           6,
           10,
           9,
           9,
           2,
           5,
           7,
           5,
           3,
           8,
           9,
           6,
           8,
           10,
           10,
           7,
           10,
           10,
           4,
           10,
           4,
           8,
           3,
           9,
           2,
           4,
           3,
           2,
           8,
           9,
           8,
           6,
           8,
           8,
           2,
           6,
           7,
           6,
           9,
           9,
           2,
           6,
           3,
           10,
           6,
           2,
           9,
           2,
           8,
           9,
           6,
           1,
           2,
           10,
           6,
           2,
           5,
           10,
           9,
           3,
           9,
           4,
           4,
           8,
           5,
           9,
           4,
           4,
           2,
           8,
           6,
           6,
           8,
           8,
           4,
           3,
           2,
           3,
           10,
           6,
           9,
           9,
           9,
           3,
           3,
           9,
           5,
           2,
           2,
           1,
           3,
           2,
           8,
           1,
           3,
           10,
           4,
           5,
           10,
           4,
           1,
           1,
           7,
           5,
           4,
           4,
           2,
           1,
           8,
           9,
           7,
           3,
           9,
           9,
           10,
           7,
           5,
           2,
           9,
           6,
           5,
           4,
           6,
           8,
           7,
           7,
           10,
           4,
           4,
           3,
           8,
           4,
           10,
           10,
           6,
           10,
           9,
           4,
           9,
           6,
           10,
           1,
           8,
           1,
           2,
           7,
           7,
           5,
           6,
           8,
           7,
           1,
           2,
           7,
           7,
           5,
           3,
           3,
           5,
           5,
           4,
           2,
           1,
           7,
           7,
           1,
           10,
           9,
           10,
           6,
           3,
           10,
           9,
           5,
           5,
           1,
           3,
           6,
           8,
           8,
           2,
           4,
           3,
           1,
           4
          ],
          "coloraxis": "coloraxis",
          "symbol": "circle"
         },
         "mode": "markers",
         "name": "",
         "orientation": "v",
         "showlegend": false,
         "type": "scatter",
         "x": [
          22,
          38,
          13,
          31,
          43,
          41,
          31,
          24,
          39,
          49,
          21,
          23,
          35,
          24,
          32,
          44,
          8,
          35,
          27,
          34,
          49,
          21,
          14,
          33,
          41,
          23,
          15,
          31,
          32,
          14,
          38,
          30,
          16,
          30,
          36,
          4,
          26,
          52,
          44,
          36,
          44,
          13,
          48,
          28,
          40,
          31,
          34,
          35,
          36,
          36,
          47,
          35,
          44,
          28,
          36,
          34,
          38,
          30,
          12,
          12,
          9,
          53,
          34,
          49,
          50,
          35,
          23,
          30,
          24,
          39,
          33,
          38,
          22,
          41,
          34,
          20,
          22,
          11,
          18,
          30,
          19,
          27,
          19,
          21,
          32,
          45,
          25,
          44,
          32,
          27,
          19,
          32,
          45,
          42,
          29,
          37,
          39,
          30,
          22,
          21,
          28,
          36,
          23,
          42,
          23,
          20,
          15,
          30,
          27,
          32,
          51,
          45,
          28,
          29,
          23,
          30,
          25,
          27,
          21,
          24,
          23,
          40,
          32,
          31,
          37,
          38,
          14,
          43,
          19,
          33,
          29,
          26,
          28,
          28,
          17,
          29,
          33,
          17,
          48,
          27,
          11,
          26,
          27,
          53,
          29,
          32,
          22,
          45,
          25,
          33,
          20,
          43,
          26,
          18,
          29,
          43,
          31,
          34,
          42,
          33,
          26,
          12,
          39,
          38,
          30,
          21,
          26,
          24,
          37,
          38,
          22,
          28,
          32,
          34,
          37,
          36,
          26,
          41,
          29,
          37,
          31,
          15,
          16,
          41,
          29,
          20,
          46,
          29,
          32,
          25,
          34,
          21,
          40,
          26,
          14,
          27,
          21,
          33,
          25,
          18,
          26,
          30,
          3,
          10,
          12,
          24,
          31,
          33,
          31,
          45,
          16,
          16,
          34,
          13,
          38,
          37,
          45,
          24,
          14,
          21,
          37,
          24,
          38,
          14,
          48,
          22,
          26,
          21,
          53,
          35,
          21,
          21,
          29,
          28,
          30,
          17,
          29,
          33,
          47,
          46,
          31,
          28,
          37,
          39,
          28,
          18,
          14,
          15,
          20,
          37,
          33,
          41,
          22,
          37,
          37,
          35,
          25,
          30,
          39,
          13,
          31,
          25,
          7,
          40,
          37,
          31,
          20,
          29,
          29,
          35,
          36,
          40,
          33,
          29,
          42,
          37,
          31,
          27,
          36,
          25,
          28,
          35,
          36,
          32,
          30,
          21,
          36,
          42,
          35,
          31,
          42,
          34,
          56,
          27,
          24,
          31,
          17,
          11,
          33,
          14,
          49,
          23,
          32,
          23,
          43,
          24,
          25,
          27,
          30,
          20,
          15,
          33,
          47,
          34,
          33,
          33,
          36,
          28,
          25,
          39,
          14,
          46,
          28,
          20,
          31,
          42,
          14,
          42,
          33,
          17,
          36,
          31,
          29,
          31,
          26,
          18,
          11,
          25,
          12,
          23,
          24,
          30,
          19,
          33,
          30,
          31,
          39,
          22,
          33,
          23,
          9,
          47,
          58,
          53,
          27,
          8,
          49,
          26,
          7,
          31,
          36,
          17,
          38,
          19,
          37,
          42,
          46,
          22,
          20,
          19,
          16,
          11,
          9,
          40,
          34,
          40,
          28,
          37,
          34,
          45,
          36,
          42,
          35,
          30,
          33,
          32,
          37,
          16,
          52,
          21,
          44,
          34,
          51,
          48,
          16,
          34,
          52,
          24,
          22,
          23,
          14,
          27,
          21,
          24,
          30,
          21,
          28,
          41,
          36,
          27,
          30,
          38,
          25,
          32,
          19,
          14,
          42,
          30,
          26,
          19,
          55,
          33,
          34,
          22,
          28,
          33,
          33,
          30,
          23,
          33,
          30,
          46,
          30,
          20,
          25,
          33,
          23,
          28,
          27,
          15,
          37,
          40,
          32,
          30,
          39,
          29,
          22,
          12,
          45,
          14,
          35,
          35,
          36,
          40,
          29,
          26,
          23,
          27,
          23,
          27,
          30,
          18,
          37,
          36,
          38,
          35,
          19,
          21,
          20,
          23,
          29,
          23,
          24,
          40,
          37,
          37,
          30,
          30,
          37,
          31,
          25,
          26,
          38,
          28,
          27,
          45,
          42,
          40,
          48,
          35,
          44,
          41,
          33,
          26,
          16,
          30,
          40,
          15,
          33,
          38,
          7,
          30,
          27,
          25,
          26,
          36,
          36,
          28,
          55,
          25,
          27,
          32,
          21,
          31,
          53,
          40,
          9,
          37,
          25,
          38,
          27,
          45,
          36,
          36,
          36,
          39,
          38,
          37,
          24,
          44,
          35,
          25,
          37,
          29,
          33,
          52,
          43,
          54,
          34,
          22,
          34,
          26,
          28,
          28,
          11,
          40,
          28,
          36,
          35,
          26,
          25,
          23,
          42,
          12,
          15,
          23,
          60,
          18,
          31,
          32,
          36,
          23,
          40,
          19,
          23,
          27,
          43,
          36,
          47,
          20,
          48,
          41,
          22,
          4,
          33,
          43,
          60,
          38,
          36,
          38,
          37,
          24,
          17,
          36,
          14,
          31,
          20,
          41,
          40,
          30,
          25,
          34,
          35,
          30,
          20,
          26,
          32,
          16,
          17,
          25,
          39,
          24,
          28,
          31,
          26,
          34,
          28,
          28,
          30,
          29,
          20,
          26,
          30,
          41,
          35,
          9,
          25,
          34,
          32,
          40,
          44,
          48,
          24,
          24,
          8,
          27,
          35,
          15,
          32,
          41,
          33,
          35,
          30,
          31,
          12,
          41,
          27,
          46,
          19,
          27,
          44,
          18,
          62,
          45,
          17,
          39,
          40,
          43,
          23,
          28,
          27,
          29,
          38,
          29,
          47,
          35,
          43,
          30,
          30,
          33,
          27,
          19,
          31,
          34,
          29,
          10,
          26,
          14,
          44,
          41,
          15,
          16,
          35,
          29,
          39,
          21,
          29,
          17,
          18,
          34,
          47,
          33,
          41,
          45,
          33,
          20,
          31,
          19,
          33,
          39,
          33,
          37,
          12,
          6,
          21,
          14,
          29,
          26,
          28,
          28,
          29,
          45,
          25,
          39,
          41,
          26,
          36,
          19,
          45,
          32,
          34,
          45,
          46,
          35,
          41,
          51,
          36,
          30,
          27,
          15,
          47,
          14,
          19,
          37,
          38,
          31,
          26,
          27,
          34,
          13,
          9,
          13,
          36,
          32,
          25,
          19,
          19,
          26,
          33,
          29,
          24,
          42,
          34,
          40,
          11,
          9,
          41,
          36,
          23,
          7,
          41,
          48,
          37,
          34,
          36,
          31,
          27,
          28,
          34,
          29,
          23,
          36,
          29,
          48,
          37,
          39,
          11,
          43,
          37,
          23,
          35,
          31,
          26,
          48,
          20,
          24,
          34,
          36,
          22,
          13,
          31,
          35,
          18,
          39,
          22,
          18,
          17,
          26,
          19,
          24,
          38,
          22,
          38,
          20,
          19,
          33,
          36,
          34,
          20,
          40,
          29,
          26,
          31,
          31,
          31,
          20,
          24,
          30,
          39,
          34,
          46,
          3,
          29,
          29,
          45,
          38,
          30,
          11,
          26,
          28,
          35,
          23,
          20,
          18,
          32,
          34,
          28,
          43,
          22,
          26,
          45,
          40,
          33,
          47,
          46,
          27,
          21,
          32,
          38,
          38,
          32,
          34,
          27,
          41,
          35,
          29,
          28,
          46,
          26,
          30,
          28,
          14,
          30,
          20,
          35,
          16,
          32,
          40,
          17,
          39,
          30,
          10,
          45,
          52,
          23,
          26,
          42,
          24,
          18,
          34,
          33,
          28,
          41,
          27,
          30,
          31,
          40,
          30,
          25,
          23,
          19,
          29,
          15,
          36,
          36,
          33,
          29,
          28,
          33,
          29,
          43,
          28,
          27,
          12,
          35,
          36,
          22,
          22,
          37,
          31,
          33,
          26,
          37,
          35,
          35,
          28,
          32,
          35,
          18,
          44,
          36,
          45,
          25,
          34,
          36,
          38,
          13,
          33,
          30,
          21,
          34,
          24,
          21,
          26,
          36,
          21,
          20,
          55,
          31,
          19,
          31,
          26,
          28,
          17,
          39,
          30,
          21,
          28,
          13,
          41,
          27,
          36,
          19,
          25,
          38,
          16,
          47,
          26,
          16,
          40,
          40,
          24,
          19,
          31,
          19,
          33,
          37,
          33,
          31,
          21,
          28,
          12,
          21,
          22,
          27,
          17,
          26,
          34,
          25,
          53,
          19,
          47,
          22,
          41,
          49,
          41,
          13,
          59,
          35,
          21,
          41,
          51,
          21,
          14,
          49,
          22,
          21,
          41,
          15,
          44,
          22,
          30,
          39,
          32,
          29,
          34,
          23,
          39,
          30,
          36
         ],
         "xaxis": "x",
         "y": [
          1,
          1,
          2,
          2,
          2,
          3,
          2,
          2,
          2,
          1,
          2,
          2,
          6,
          1,
          1,
          1,
          4,
          1,
          2,
          1,
          1,
          2,
          3,
          2,
          5,
          0,
          1,
          0,
          4,
          1,
          3,
          2,
          2,
          1,
          3,
          1,
          3,
          1,
          3,
          1,
          1,
          1,
          3,
          1,
          2,
          0,
          2,
          1,
          2,
          5,
          0,
          1,
          5,
          1,
          2,
          1,
          2,
          2,
          2,
          3,
          1,
          2,
          7,
          1,
          1,
          0,
          0,
          4,
          2,
          2,
          1,
          2,
          2,
          4,
          3,
          1,
          0,
          2,
          1,
          2,
          3,
          2,
          5,
          3,
          4,
          4,
          0,
          4,
          1,
          2,
          3,
          0,
          3,
          2,
          2,
          2,
          2,
          2,
          1,
          1,
          2,
          0,
          2,
          1,
          0,
          0,
          1,
          1,
          0,
          1,
          1,
          0,
          4,
          7,
          3,
          2,
          1,
          2,
          4,
          2,
          1,
          0,
          1,
          3,
          1,
          3,
          4,
          2,
          1,
          4,
          5,
          1,
          1,
          0,
          4,
          0,
          1,
          2,
          4,
          1,
          1,
          2,
          4,
          4,
          1,
          4,
          0,
          3,
          1,
          0,
          0,
          1,
          1,
          2,
          0,
          0,
          1,
          3,
          1,
          2,
          0,
          3,
          4,
          1,
          0,
          1,
          2,
          3,
          6,
          4,
          1,
          0,
          0,
          0,
          1,
          5,
          5,
          2,
          3,
          1,
          0,
          1,
          1,
          3,
          3,
          0,
          1,
          3,
          3,
          1,
          2,
          1,
          6,
          2,
          4,
          0,
          1,
          1,
          2,
          1,
          0,
          3,
          4,
          2,
          2,
          1,
          0,
          4,
          1,
          3,
          1,
          1,
          3,
          3,
          4,
          2,
          1,
          2,
          3,
          4,
          0,
          1,
          0,
          1,
          1,
          0,
          3,
          1,
          1,
          3,
          3,
          2,
          2,
          4,
          2,
          4,
          0,
          2,
          1,
          1,
          4,
          1,
          2,
          4,
          1,
          1,
          2,
          2,
          6,
          0,
          2,
          4,
          0,
          1,
          5,
          2,
          2,
          1,
          1,
          2,
          0,
          4,
          2,
          2,
          1,
          3,
          0,
          2,
          2,
          0,
          4,
          2,
          0,
          3,
          3,
          3,
          3,
          3,
          3,
          1,
          3,
          0,
          4,
          3,
          4,
          2,
          1,
          3,
          1,
          0,
          3,
          0,
          3,
          0,
          1,
          5,
          2,
          2,
          2,
          2,
          1,
          2,
          4,
          4,
          1,
          5,
          0,
          3,
          3,
          2,
          0,
          1,
          4,
          3,
          2,
          4,
          1,
          3,
          3,
          2,
          1,
          1,
          2,
          1,
          2,
          1,
          3,
          2,
          3,
          1,
          2,
          1,
          5,
          0,
          3,
          1,
          1,
          0,
          5,
          2,
          3,
          0,
          5,
          0,
          1,
          4,
          3,
          4,
          2,
          2,
          2,
          1,
          1,
          0,
          3,
          2,
          4,
          0,
          0,
          0,
          3,
          1,
          3,
          2,
          2,
          0,
          2,
          2,
          0,
          4,
          2,
          5,
          1,
          1,
          2,
          3,
          2,
          2,
          2,
          1,
          1,
          2,
          2,
          3,
          3,
          2,
          0,
          2,
          2,
          2,
          2,
          1,
          1,
          1,
          3,
          2,
          1,
          6,
          2,
          1,
          1,
          0,
          1,
          1,
          5,
          3,
          1,
          4,
          1,
          2,
          5,
          2,
          0,
          5,
          1,
          4,
          1,
          4,
          2,
          1,
          3,
          2,
          1,
          3,
          2,
          4,
          5,
          3,
          3,
          2,
          1,
          2,
          3,
          2,
          1,
          1,
          1,
          4,
          4,
          1,
          2,
          2,
          1,
          0,
          1,
          5,
          4,
          2,
          4,
          0,
          2,
          5,
          4,
          0,
          1,
          1,
          3,
          1,
          2,
          2,
          1,
          2,
          1,
          0,
          4,
          4,
          2,
          2,
          3,
          3,
          3,
          3,
          0,
          0,
          3,
          5,
          3,
          0,
          1,
          2,
          2,
          3,
          3,
          2,
          1,
          4,
          3,
          1,
          2,
          1,
          3,
          4,
          0,
          2,
          2,
          3,
          5,
          2,
          1,
          1,
          3,
          3,
          2,
          1,
          2,
          1,
          4,
          1,
          0,
          1,
          2,
          4,
          2,
          0,
          2,
          1,
          5,
          3,
          4,
          1,
          2,
          1,
          1,
          0,
          2,
          1,
          2,
          1,
          0,
          1,
          2,
          2,
          3,
          2,
          4,
          0,
          3,
          6,
          2,
          2,
          2,
          2,
          3,
          2,
          2,
          1,
          3,
          1,
          2,
          1,
          1,
          4,
          0,
          3,
          2,
          3,
          0,
          0,
          1,
          3,
          1,
          2,
          3,
          1,
          3,
          1,
          2,
          2,
          0,
          2,
          1,
          2,
          2,
          2,
          2,
          0,
          3,
          4,
          3,
          1,
          3,
          0,
          1,
          5,
          2,
          2,
          1,
          1,
          3,
          4,
          0,
          3,
          0,
          0,
          4,
          2,
          3,
          3,
          2,
          4,
          2,
          1,
          0,
          1,
          3,
          3,
          1,
          0,
          2,
          0,
          0,
          3,
          4,
          0,
          3,
          3,
          2,
          2,
          1,
          2,
          0,
          3,
          1,
          3,
          1,
          4,
          3,
          1,
          1,
          0,
          1,
          6,
          0,
          1,
          1,
          2,
          3,
          2,
          1,
          3,
          2,
          2,
          1,
          2,
          2,
          1,
          4,
          0,
          2,
          2,
          4,
          2,
          1,
          4,
          3,
          4,
          1,
          1,
          2,
          2,
          2,
          0,
          1,
          3,
          3,
          5,
          2,
          3,
          2,
          2,
          3,
          3,
          1,
          1,
          3,
          0,
          3,
          1,
          0,
          3,
          1,
          4,
          2,
          3,
          1,
          0,
          5,
          2,
          3,
          1,
          0,
          0,
          1,
          0,
          2,
          2,
          0,
          4,
          2,
          2,
          4,
          2,
          1,
          3,
          1,
          4,
          2,
          2,
          2,
          1,
          1,
          2,
          4,
          0,
          1,
          2,
          2,
          2,
          2,
          2,
          3,
          0,
          3,
          2,
          3,
          1,
          3,
          3,
          1,
          2,
          4,
          1,
          1,
          3,
          2,
          3,
          1,
          1,
          2,
          1,
          0,
          2,
          2,
          0,
          2,
          1,
          2,
          1,
          4,
          3,
          2,
          2,
          1,
          1,
          2,
          2,
          1,
          2,
          2,
          1,
          4,
          2,
          2,
          0,
          0,
          0,
          2,
          3,
          1,
          3,
          4,
          4,
          1,
          2,
          2,
          1,
          2,
          2,
          1,
          1,
          2,
          3,
          0,
          2,
          3,
          2,
          2,
          1,
          5,
          2,
          0,
          1,
          1,
          2,
          1,
          1,
          5,
          3,
          1,
          1,
          2,
          0,
          1,
          1,
          4,
          3,
          2,
          3,
          4,
          6,
          4,
          0,
          4,
          1,
          1,
          1,
          2,
          3,
          1,
          3,
          4,
          1,
          2,
          7,
          2,
          2,
          0,
          1,
          2,
          2,
          3,
          3,
          5,
          0,
          2,
          4,
          5,
          5,
          2,
          5,
          1,
          2,
          1,
          5,
          0,
          2,
          1,
          2,
          4,
          4,
          1,
          2,
          1,
          3,
          2,
          4,
          4,
          0,
          3,
          8,
          5,
          1,
          1,
          0,
          4,
          3,
          2,
          1,
          3,
          4,
          2,
          5,
          5,
          1,
          2,
          2,
          0,
          1,
          4,
          0,
          4,
          1,
          3,
          4,
          2,
          1,
          3,
          1,
          0,
          1,
          0,
          1,
          1,
          2,
          1,
          3,
          4,
          0,
          1,
          1,
          3,
          2,
          1,
          1,
          4,
          2,
          2,
          1,
          0,
          2,
          1,
          0,
          1,
          3,
          3,
          4,
          2,
          6,
          0,
          6,
          1,
          3,
          0,
          2,
          1,
          5,
          0,
          3,
          0,
          2,
          2,
          6,
          5,
          2,
          4,
          1,
          4,
          1,
          2,
          3,
          4,
          0,
          3,
          2,
          5,
          3,
          2,
          4,
          6,
          1,
          2,
          1,
          0,
          3,
          2,
          0,
          0,
          4,
          1,
          1,
          2,
          1,
          4,
          2,
          4,
          3,
          1,
          3,
          1,
          0,
          2,
          1,
          2,
          1,
          3,
          1,
          2,
          4,
          1,
          2,
          0,
          1,
          2,
          3,
          2,
          2,
          2,
          4,
          2,
          2,
          0,
          1,
          3,
          3,
          1,
          5,
          3,
          1,
          0,
          2
         ],
         "yaxis": "y"
        }
       ],
       "layout": {
        "autosize": true,
        "coloraxis": {
         "colorbar": {
          "title": {
           "text": "parc_id"
          }
         },
         "colorscale": [
          [
           0,
           "#0d0887"
          ],
          [
           0.1111111111111111,
           "#46039f"
          ],
          [
           0.2222222222222222,
           "#7201a8"
          ],
          [
           0.3333333333333333,
           "#9c179e"
          ],
          [
           0.4444444444444444,
           "#bd3786"
          ],
          [
           0.5555555555555556,
           "#d8576b"
          ],
          [
           0.6666666666666666,
           "#ed7953"
          ],
          [
           0.7777777777777778,
           "#fb9f3a"
          ],
          [
           0.8888888888888888,
           "#fdca26"
          ],
          [
           1,
           "#f0f921"
          ]
         ]
        },
        "legend": {
         "tracegroupgap": 0
        },
        "template": {
         "data": {
          "bar": [
           {
            "error_x": {
             "color": "#2a3f5f"
            },
            "error_y": {
             "color": "#2a3f5f"
            },
            "marker": {
             "line": {
              "color": "#E5ECF6",
              "width": 0.5
             },
             "pattern": {
              "fillmode": "overlay",
              "size": 10,
              "solidity": 0.2
             }
            },
            "type": "bar"
           }
          ],
          "barpolar": [
           {
            "marker": {
             "line": {
              "color": "#E5ECF6",
              "width": 0.5
             },
             "pattern": {
              "fillmode": "overlay",
              "size": 10,
              "solidity": 0.2
             }
            },
            "type": "barpolar"
           }
          ],
          "carpet": [
           {
            "aaxis": {
             "endlinecolor": "#2a3f5f",
             "gridcolor": "white",
             "linecolor": "white",
             "minorgridcolor": "white",
             "startlinecolor": "#2a3f5f"
            },
            "baxis": {
             "endlinecolor": "#2a3f5f",
             "gridcolor": "white",
             "linecolor": "white",
             "minorgridcolor": "white",
             "startlinecolor": "#2a3f5f"
            },
            "type": "carpet"
           }
          ],
          "choropleth": [
           {
            "colorbar": {
             "outlinewidth": 0,
             "ticks": ""
            },
            "type": "choropleth"
           }
          ],
          "contour": [
           {
            "colorbar": {
             "outlinewidth": 0,
             "ticks": ""
            },
            "colorscale": [
             [
              0,
              "#0d0887"
             ],
             [
              0.1111111111111111,
              "#46039f"
             ],
             [
              0.2222222222222222,
              "#7201a8"
             ],
             [
              0.3333333333333333,
              "#9c179e"
             ],
             [
              0.4444444444444444,
              "#bd3786"
             ],
             [
              0.5555555555555556,
              "#d8576b"
             ],
             [
              0.6666666666666666,
              "#ed7953"
             ],
             [
              0.7777777777777778,
              "#fb9f3a"
             ],
             [
              0.8888888888888888,
              "#fdca26"
             ],
             [
              1,
              "#f0f921"
             ]
            ],
            "type": "contour"
           }
          ],
          "contourcarpet": [
           {
            "colorbar": {
             "outlinewidth": 0,
             "ticks": ""
            },
            "type": "contourcarpet"
           }
          ],
          "heatmap": [
           {
            "colorbar": {
             "outlinewidth": 0,
             "ticks": ""
            },
            "colorscale": [
             [
              0,
              "#0d0887"
             ],
             [
              0.1111111111111111,
              "#46039f"
             ],
             [
              0.2222222222222222,
              "#7201a8"
             ],
             [
              0.3333333333333333,
              "#9c179e"
             ],
             [
              0.4444444444444444,
              "#bd3786"
             ],
             [
              0.5555555555555556,
              "#d8576b"
             ],
             [
              0.6666666666666666,
              "#ed7953"
             ],
             [
              0.7777777777777778,
              "#fb9f3a"
             ],
             [
              0.8888888888888888,
              "#fdca26"
             ],
             [
              1,
              "#f0f921"
             ]
            ],
            "type": "heatmap"
           }
          ],
          "heatmapgl": [
           {
            "colorbar": {
             "outlinewidth": 0,
             "ticks": ""
            },
            "colorscale": [
             [
              0,
              "#0d0887"
             ],
             [
              0.1111111111111111,
              "#46039f"
             ],
             [
              0.2222222222222222,
              "#7201a8"
             ],
             [
              0.3333333333333333,
              "#9c179e"
             ],
             [
              0.4444444444444444,
              "#bd3786"
             ],
             [
              0.5555555555555556,
              "#d8576b"
             ],
             [
              0.6666666666666666,
              "#ed7953"
             ],
             [
              0.7777777777777778,
              "#fb9f3a"
             ],
             [
              0.8888888888888888,
              "#fdca26"
             ],
             [
              1,
              "#f0f921"
             ]
            ],
            "type": "heatmapgl"
           }
          ],
          "histogram": [
           {
            "marker": {
             "pattern": {
              "fillmode": "overlay",
              "size": 10,
              "solidity": 0.2
             }
            },
            "type": "histogram"
           }
          ],
          "histogram2d": [
           {
            "colorbar": {
             "outlinewidth": 0,
             "ticks": ""
            },
            "colorscale": [
             [
              0,
              "#0d0887"
             ],
             [
              0.1111111111111111,
              "#46039f"
             ],
             [
              0.2222222222222222,
              "#7201a8"
             ],
             [
              0.3333333333333333,
              "#9c179e"
             ],
             [
              0.4444444444444444,
              "#bd3786"
             ],
             [
              0.5555555555555556,
              "#d8576b"
             ],
             [
              0.6666666666666666,
              "#ed7953"
             ],
             [
              0.7777777777777778,
              "#fb9f3a"
             ],
             [
              0.8888888888888888,
              "#fdca26"
             ],
             [
              1,
              "#f0f921"
             ]
            ],
            "type": "histogram2d"
           }
          ],
          "histogram2dcontour": [
           {
            "colorbar": {
             "outlinewidth": 0,
             "ticks": ""
            },
            "colorscale": [
             [
              0,
              "#0d0887"
             ],
             [
              0.1111111111111111,
              "#46039f"
             ],
             [
              0.2222222222222222,
              "#7201a8"
             ],
             [
              0.3333333333333333,
              "#9c179e"
             ],
             [
              0.4444444444444444,
              "#bd3786"
             ],
             [
              0.5555555555555556,
              "#d8576b"
             ],
             [
              0.6666666666666666,
              "#ed7953"
             ],
             [
              0.7777777777777778,
              "#fb9f3a"
             ],
             [
              0.8888888888888888,
              "#fdca26"
             ],
             [
              1,
              "#f0f921"
             ]
            ],
            "type": "histogram2dcontour"
           }
          ],
          "mesh3d": [
           {
            "colorbar": {
             "outlinewidth": 0,
             "ticks": ""
            },
            "type": "mesh3d"
           }
          ],
          "parcoords": [
           {
            "line": {
             "colorbar": {
              "outlinewidth": 0,
              "ticks": ""
             }
            },
            "type": "parcoords"
           }
          ],
          "pie": [
           {
            "automargin": true,
            "type": "pie"
           }
          ],
          "scatter": [
           {
            "fillpattern": {
             "fillmode": "overlay",
             "size": 10,
             "solidity": 0.2
            },
            "type": "scatter"
           }
          ],
          "scatter3d": [
           {
            "line": {
             "colorbar": {
              "outlinewidth": 0,
              "ticks": ""
             }
            },
            "marker": {
             "colorbar": {
              "outlinewidth": 0,
              "ticks": ""
             }
            },
            "type": "scatter3d"
           }
          ],
          "scattercarpet": [
           {
            "marker": {
             "colorbar": {
              "outlinewidth": 0,
              "ticks": ""
             }
            },
            "type": "scattercarpet"
           }
          ],
          "scattergeo": [
           {
            "marker": {
             "colorbar": {
              "outlinewidth": 0,
              "ticks": ""
             }
            },
            "type": "scattergeo"
           }
          ],
          "scattergl": [
           {
            "marker": {
             "colorbar": {
              "outlinewidth": 0,
              "ticks": ""
             }
            },
            "type": "scattergl"
           }
          ],
          "scattermapbox": [
           {
            "marker": {
             "colorbar": {
              "outlinewidth": 0,
              "ticks": ""
             }
            },
            "type": "scattermapbox"
           }
          ],
          "scatterpolar": [
           {
            "marker": {
             "colorbar": {
              "outlinewidth": 0,
              "ticks": ""
             }
            },
            "type": "scatterpolar"
           }
          ],
          "scatterpolargl": [
           {
            "marker": {
             "colorbar": {
              "outlinewidth": 0,
              "ticks": ""
             }
            },
            "type": "scatterpolargl"
           }
          ],
          "scatterternary": [
           {
            "marker": {
             "colorbar": {
              "outlinewidth": 0,
              "ticks": ""
             }
            },
            "type": "scatterternary"
           }
          ],
          "surface": [
           {
            "colorbar": {
             "outlinewidth": 0,
             "ticks": ""
            },
            "colorscale": [
             [
              0,
              "#0d0887"
             ],
             [
              0.1111111111111111,
              "#46039f"
             ],
             [
              0.2222222222222222,
              "#7201a8"
             ],
             [
              0.3333333333333333,
              "#9c179e"
             ],
             [
              0.4444444444444444,
              "#bd3786"
             ],
             [
              0.5555555555555556,
              "#d8576b"
             ],
             [
              0.6666666666666666,
              "#ed7953"
             ],
             [
              0.7777777777777778,
              "#fb9f3a"
             ],
             [
              0.8888888888888888,
              "#fdca26"
             ],
             [
              1,
              "#f0f921"
             ]
            ],
            "type": "surface"
           }
          ],
          "table": [
           {
            "cells": {
             "fill": {
              "color": "#EBF0F8"
             },
             "line": {
              "color": "white"
             }
            },
            "header": {
             "fill": {
              "color": "#C8D4E3"
             },
             "line": {
              "color": "white"
             }
            },
            "type": "table"
           }
          ]
         },
         "layout": {
          "annotationdefaults": {
           "arrowcolor": "#2a3f5f",
           "arrowhead": 0,
           "arrowwidth": 1
          },
          "autotypenumbers": "strict",
          "coloraxis": {
           "colorbar": {
            "outlinewidth": 0,
            "ticks": ""
           }
          },
          "colorscale": {
           "diverging": [
            [
             0,
             "#8e0152"
            ],
            [
             0.1,
             "#c51b7d"
            ],
            [
             0.2,
             "#de77ae"
            ],
            [
             0.3,
             "#f1b6da"
            ],
            [
             0.4,
             "#fde0ef"
            ],
            [
             0.5,
             "#f7f7f7"
            ],
            [
             0.6,
             "#e6f5d0"
            ],
            [
             0.7,
             "#b8e186"
            ],
            [
             0.8,
             "#7fbc41"
            ],
            [
             0.9,
             "#4d9221"
            ],
            [
             1,
             "#276419"
            ]
           ],
           "sequential": [
            [
             0,
             "#0d0887"
            ],
            [
             0.1111111111111111,
             "#46039f"
            ],
            [
             0.2222222222222222,
             "#7201a8"
            ],
            [
             0.3333333333333333,
             "#9c179e"
            ],
            [
             0.4444444444444444,
             "#bd3786"
            ],
            [
             0.5555555555555556,
             "#d8576b"
            ],
            [
             0.6666666666666666,
             "#ed7953"
            ],
            [
             0.7777777777777778,
             "#fb9f3a"
            ],
            [
             0.8888888888888888,
             "#fdca26"
            ],
            [
             1,
             "#f0f921"
            ]
           ],
           "sequentialminus": [
            [
             0,
             "#0d0887"
            ],
            [
             0.1111111111111111,
             "#46039f"
            ],
            [
             0.2222222222222222,
             "#7201a8"
            ],
            [
             0.3333333333333333,
             "#9c179e"
            ],
            [
             0.4444444444444444,
             "#bd3786"
            ],
            [
             0.5555555555555556,
             "#d8576b"
            ],
            [
             0.6666666666666666,
             "#ed7953"
            ],
            [
             0.7777777777777778,
             "#fb9f3a"
            ],
            [
             0.8888888888888888,
             "#fdca26"
            ],
            [
             1,
             "#f0f921"
            ]
           ]
          },
          "colorway": [
           "#636efa",
           "#EF553B",
           "#00cc96",
           "#ab63fa",
           "#FFA15A",
           "#19d3f3",
           "#FF6692",
           "#B6E880",
           "#FF97FF",
           "#FECB52"
          ],
          "font": {
           "color": "#2a3f5f"
          },
          "geo": {
           "bgcolor": "white",
           "lakecolor": "white",
           "landcolor": "#E5ECF6",
           "showlakes": true,
           "showland": true,
           "subunitcolor": "white"
          },
          "hoverlabel": {
           "align": "left"
          },
          "hovermode": "closest",
          "mapbox": {
           "style": "light"
          },
          "paper_bgcolor": "white",
          "plot_bgcolor": "#E5ECF6",
          "polar": {
           "angularaxis": {
            "gridcolor": "white",
            "linecolor": "white",
            "ticks": ""
           },
           "bgcolor": "#E5ECF6",
           "radialaxis": {
            "gridcolor": "white",
            "linecolor": "white",
            "ticks": ""
           }
          },
          "scene": {
           "xaxis": {
            "backgroundcolor": "#E5ECF6",
            "gridcolor": "white",
            "gridwidth": 2,
            "linecolor": "white",
            "showbackground": true,
            "ticks": "",
            "zerolinecolor": "white"
           },
           "yaxis": {
            "backgroundcolor": "#E5ECF6",
            "gridcolor": "white",
            "gridwidth": 2,
            "linecolor": "white",
            "showbackground": true,
            "ticks": "",
            "zerolinecolor": "white"
           },
           "zaxis": {
            "backgroundcolor": "#E5ECF6",
            "gridcolor": "white",
            "gridwidth": 2,
            "linecolor": "white",
            "showbackground": true,
            "ticks": "",
            "zerolinecolor": "white"
           }
          },
          "shapedefaults": {
           "line": {
            "color": "#2a3f5f"
           }
          },
          "ternary": {
           "aaxis": {
            "gridcolor": "white",
            "linecolor": "white",
            "ticks": ""
           },
           "baxis": {
            "gridcolor": "white",
            "linecolor": "white",
            "ticks": ""
           },
           "bgcolor": "#E5ECF6",
           "caxis": {
            "gridcolor": "white",
            "linecolor": "white",
            "ticks": ""
           }
          },
          "title": {
           "x": 0.05
          },
          "xaxis": {
           "automargin": true,
           "gridcolor": "white",
           "linecolor": "white",
           "ticks": "",
           "title": {
            "standoff": 15
           },
           "zerolinecolor": "white",
           "zerolinewidth": 2
          },
          "yaxis": {
           "automargin": true,
           "gridcolor": "white",
           "linecolor": "white",
           "ticks": "",
           "title": {
            "standoff": 15
           },
           "zerolinecolor": "white",
           "zerolinewidth": 2
          }
         }
        },
        "title": {
         "text": "délai de réservation vs. fréquence de réservation par parc"
        },
        "xaxis": {
         "anchor": "y",
         "autorange": true,
         "domain": [
          0,
          1
         ],
         "range": [
          -0.6122448979591839,
          65.61224489795919
         ],
         "title": {
          "text": "Délai de réservation (jours)"
         },
         "type": "linear"
        },
        "yaxis": {
         "anchor": "x",
         "autorange": true,
         "domain": [
          0,
          1
         ],
         "range": [
          -0.6601941747572816,
          8.660194174757281
         ],
         "title": {
          "text": "Fréquence de réservation"
         },
         "type": "linear"
        }
       }
      },
      "image/png": "[encoded data removed]",
      "text/html": [
       "<div>                            <div id=\"7f9a3cce-645f-4161-85e8-27b8529a6a6c\" class=\"plotly-graph-div\" style=\"height:525px; width:100%;\"></div>            <script type=\"text/javascript\">                require([\"plotly\"], function(Plotly) {                    window.PLOTLYENV=window.PLOTLYENV || {};                                    if (document.getElementById(\"7f9a3cce-645f-4161-85e8-27b8529a6a6c\")) {                    Plotly.newPlot(                        \"7f9a3cce-645f-4161-85e8-27b8529a6a6c\",                        [{\"hovertemplate\":\"temps_reservation=%{x}<br>frequence_reservation=%{y}<br>parc_id=%{marker.color}<extra></extra>\",\"legendgroup\":\"\",\"marker\":{\"color\":[3,3,3,7,5,7,1,5,10,3,2,7,2,8,6,7,2,7,7,7,7,3,6,3,3,4,3,10,4,9,6,5,6,2,6,9,3,10,10,6,7,5,1,9,6,6,6,2,1,1,1,1,1,8,7,4,6,5,4,5,6,2,4,7,8,5,1,1,8,4,4,1,1,10,5,5,6,9,9,1,2,6,10,10,7,2,5,1,5,8,8,8,7,3,7,1,3,8,8,3,7,2,4,8,1,6,5,6,6,4,9,1,2,6,5,2,6,1,7,9,9,7,4,5,5,4,7,6,10,9,2,4,9,2,6,9,1,4,8,2,8,9,1,8,6,10,10,7,9,8,6,10,2,1,1,6,7,4,7,2,8,8,1,8,7,1,5,3,8,6,3,9,6,7,7,5,2,6,5,6,6,7,4,9,2,5,3,10,8,5,2,9,3,4,4,5,2,7,3,6,5,10,2,6,10,5,6,8,5,5,3,3,2,4,1,2,10,2,7,10,9,7,4,1,8,4,3,6,10,8,4,5,8,7,8,4,7,10,4,8,2,4,8,9,9,5,6,4,7,10,7,3,10,4,6,8,10,1,8,2,3,6,1,6,9,10,9,3,6,4,2,8,4,9,6,6,2,10,8,3,2,1,2,1,2,2,7,9,9,4,3,1,8,5,7,1,6,4,4,10,5,10,1,7,6,4,1,1,2,3,1,3,3,10,7,8,9,10,9,3,5,8,8,6,8,3,5,2,2,2,8,10,1,10,1,3,2,5,7,1,7,7,3,9,7,7,6,3,6,1,4,10,10,8,1,5,2,4,6,8,7,3,8,4,5,10,8,1,1,2,9,4,6,1,2,2,4,8,10,4,8,1,3,5,5,7,1,2,8,7,6,6,8,4,7,9,9,3,2,1,9,8,8,1,5,9,1,5,6,8,3,5,10,8,6,1,5,10,5,1,3,6,6,4,1,1,2,10,10,3,2,1,2,7,4,5,4,7,5,3,4,7,4,4,9,2,4,4,2,6,4,7,5,9,6,8,2,9,3,1,1,5,3,2,3,3,4,5,8,6,2,4,2,1,2,5,1,3,2,4,2,5,8,6,7,10,3,6,3,3,2,4,9,4,1,8,4,9,3,5,4,2,7,6,9,5,4,7,6,4,8,9,9,4,8,9,6,8,3,8,9,1,8,5,9,5,5,1,5,9,1,1,5,8,4,8,8,3,3,2,8,1,8,6,10,8,2,2,3,5,2,5,6,9,3,2,7,4,1,4,10,6,2,4,8,2,2,8,10,5,3,1,4,3,5,1,1,10,4,9,4,1,5,5,1,3,6,6,9,3,8,4,7,2,1,3,3,6,6,2,3,9,8,4,8,4,2,1,2,1,9,9,6,4,4,2,1,7,2,7,10,6,8,1,2,5,10,6,2,7,6,5,5,5,8,3,3,7,6,4,1,9,9,2,9,8,6,8,10,5,1,8,3,4,10,6,5,1,5,6,9,2,5,9,1,2,2,9,10,5,10,1,4,1,8,1,9,2,3,9,6,9,3,2,4,6,1,3,6,9,7,3,8,8,2,9,5,10,4,4,3,10,1,5,7,5,4,3,4,2,2,3,8,3,8,1,2,9,1,6,3,9,1,5,1,4,9,2,7,5,7,10,7,5,8,3,10,9,1,9,7,3,7,10,6,4,8,9,4,9,9,10,10,5,5,2,1,8,7,3,2,1,7,2,7,8,2,6,3,1,3,7,7,4,6,5,8,4,3,7,10,2,6,2,10,4,2,1,8,4,10,7,5,5,4,6,5,5,10,1,1,10,6,1,7,4,9,10,7,3,2,8,8,7,8,6,10,9,9,2,5,7,5,3,8,9,6,8,10,10,7,10,10,4,10,4,8,3,9,2,4,3,2,8,9,8,6,8,8,2,6,7,6,9,9,2,6,3,10,6,2,9,2,8,9,6,1,2,10,6,2,5,10,9,3,9,4,4,8,5,9,4,4,2,8,6,6,8,8,4,3,2,3,10,6,9,9,9,3,3,9,5,2,2,1,3,2,8,1,3,10,4,5,10,4,1,1,7,5,4,4,2,1,8,9,7,3,9,9,10,7,5,2,9,6,5,4,6,8,7,7,10,4,4,3,8,4,10,10,6,10,9,4,9,6,10,1,8,1,2,7,7,5,6,8,7,1,2,7,7,5,3,3,5,5,4,2,1,7,7,1,10,9,10,6,3,10,9,5,5,1,3,6,8,8,2,4,3,1,4],\"coloraxis\":\"coloraxis\",\"symbol\":\"circle\"},\"mode\":\"markers\",\"name\":\"\",\"orientation\":\"v\",\"showlegend\":false,\"x\":[22.0,38.0,13.0,31.0,43.0,41.0,31.0,24.0,39.0,49.0,21.0,23.0,35.0,24.0,32.0,44.0,8.0,35.0,27.0,34.0,49.0,21.0,14.0,33.0,41.0,23.0,15.0,31.0,32.0,14.0,38.0,30.0,16.0,30.0,36.0,4.0,26.0,52.0,44.0,36.0,44.0,13.0,48.0,28.0,40.0,31.0,34.0,35.0,36.0,36.0,47.0,35.0,44.0,28.0,36.0,34.0,38.0,30.0,12.0,12.0,9.0,53.0,34.0,49.0,50.0,35.0,23.0,30.0,24.0,39.0,33.0,38.0,22.0,41.0,34.0,20.0,22.0,11.0,18.0,30.0,19.0,27.0,19.0,21.0,32.0,45.0,25.0,44.0,32.0,27.0,19.0,32.0,45.0,42.0,29.0,37.0,39.0,30.0,22.0,21.0,28.0,36.0,23.0,42.0,23.0,20.0,15.0,30.0,27.0,32.0,51.0,45.0,28.0,29.0,23.0,30.0,25.0,27.0,21.0,24.0,23.0,40.0,32.0,31.0,37.0,38.0,14.0,43.0,19.0,33.0,29.0,26.0,28.0,28.0,17.0,29.0,33.0,17.0,48.0,27.0,11.0,26.0,27.0,53.0,29.0,32.0,22.0,45.0,25.0,33.0,20.0,43.0,26.0,18.0,29.0,43.0,31.0,34.0,42.0,33.0,26.0,12.0,39.0,38.0,30.0,21.0,26.0,24.0,37.0,38.0,22.0,28.0,32.0,34.0,37.0,36.0,26.0,41.0,29.0,37.0,31.0,15.0,16.0,41.0,29.0,20.0,46.0,29.0,32.0,25.0,34.0,21.0,40.0,26.0,14.0,27.0,21.0,33.0,25.0,18.0,26.0,30.0,3.0,10.0,12.0,24.0,31.0,33.0,31.0,45.0,16.0,16.0,34.0,13.0,38.0,37.0,45.0,24.0,14.0,21.0,37.0,24.0,38.0,14.0,48.0,22.0,26.0,21.0,53.0,35.0,21.0,21.0,29.0,28.0,30.0,17.0,29.0,33.0,47.0,46.0,31.0,28.0,37.0,39.0,28.0,18.0,14.0,15.0,20.0,37.0,33.0,41.0,22.0,37.0,37.0,35.0,25.0,30.0,39.0,13.0,31.0,25.0,7.0,40.0,37.0,31.0,20.0,29.0,29.0,35.0,36.0,40.0,33.0,29.0,42.0,37.0,31.0,27.0,36.0,25.0,28.0,35.0,36.0,32.0,30.0,21.0,36.0,42.0,35.0,31.0,42.0,34.0,56.0,27.0,24.0,31.0,17.0,11.0,33.0,14.0,49.0,23.0,32.0,23.0,43.0,24.0,25.0,27.0,30.0,20.0,15.0,33.0,47.0,34.0,33.0,33.0,36.0,28.0,25.0,39.0,14.0,46.0,28.0,20.0,31.0,42.0,14.0,42.0,33.0,17.0,36.0,31.0,29.0,31.0,26.0,18.0,11.0,25.0,12.0,23.0,24.0,30.0,19.0,33.0,30.0,31.0,39.0,22.0,33.0,23.0,9.0,47.0,58.0,53.0,27.0,8.0,49.0,26.0,7.0,31.0,36.0,17.0,38.0,19.0,37.0,42.0,46.0,22.0,20.0,19.0,16.0,11.0,9.0,40.0,34.0,40.0,28.0,37.0,34.0,45.0,36.0,42.0,35.0,30.0,33.0,32.0,37.0,16.0,52.0,21.0,44.0,34.0,51.0,48.0,16.0,34.0,52.0,24.0,22.0,23.0,14.0,27.0,21.0,24.0,30.0,21.0,28.0,41.0,36.0,27.0,30.0,38.0,25.0,32.0,19.0,14.0,42.0,30.0,26.0,19.0,55.0,33.0,34.0,22.0,28.0,33.0,33.0,30.0,23.0,33.0,30.0,46.0,30.0,20.0,25.0,33.0,23.0,28.0,27.0,15.0,37.0,40.0,32.0,30.0,39.0,29.0,22.0,12.0,45.0,14.0,35.0,35.0,36.0,40.0,29.0,26.0,23.0,27.0,23.0,27.0,30.0,18.0,37.0,36.0,38.0,35.0,19.0,21.0,20.0,23.0,29.0,23.0,24.0,40.0,37.0,37.0,30.0,30.0,37.0,31.0,25.0,26.0,38.0,28.0,27.0,45.0,42.0,40.0,48.0,35.0,44.0,41.0,33.0,26.0,16.0,30.0,40.0,15.0,33.0,38.0,7.0,30.0,27.0,25.0,26.0,36.0,36.0,28.0,55.0,25.0,27.0,32.0,21.0,31.0,53.0,40.0,9.0,37.0,25.0,38.0,27.0,45.0,36.0,36.0,36.0,39.0,38.0,37.0,24.0,44.0,35.0,25.0,37.0,29.0,33.0,52.0,43.0,54.0,34.0,22.0,34.0,26.0,28.0,28.0,11.0,40.0,28.0,36.0,35.0,26.0,25.0,23.0,42.0,12.0,15.0,23.0,60.0,18.0,31.0,32.0,36.0,23.0,40.0,19.0,23.0,27.0,43.0,36.0,47.0,20.0,48.0,41.0,22.0,4.0,33.0,43.0,60.0,38.0,36.0,38.0,37.0,24.0,17.0,36.0,14.0,31.0,20.0,41.0,40.0,30.0,25.0,34.0,35.0,30.0,20.0,26.0,32.0,16.0,17.0,25.0,39.0,24.0,28.0,31.0,26.0,34.0,28.0,28.0,30.0,29.0,20.0,26.0,30.0,41.0,35.0,9.0,25.0,34.0,32.0,40.0,44.0,48.0,24.0,24.0,8.0,27.0,35.0,15.0,32.0,41.0,33.0,35.0,30.0,31.0,12.0,41.0,27.0,46.0,19.0,27.0,44.0,18.0,62.0,45.0,17.0,39.0,40.0,43.0,23.0,28.0,27.0,29.0,38.0,29.0,47.0,35.0,43.0,30.0,30.0,33.0,27.0,19.0,31.0,34.0,29.0,10.0,26.0,14.0,44.0,41.0,15.0,16.0,35.0,29.0,39.0,21.0,29.0,17.0,18.0,34.0,47.0,33.0,41.0,45.0,33.0,20.0,31.0,19.0,33.0,39.0,33.0,37.0,12.0,6.0,21.0,14.0,29.0,26.0,28.0,28.0,29.0,45.0,25.0,39.0,41.0,26.0,36.0,19.0,45.0,32.0,34.0,45.0,46.0,35.0,41.0,51.0,36.0,30.0,27.0,15.0,47.0,14.0,19.0,37.0,38.0,31.0,26.0,27.0,34.0,13.0,9.0,13.0,36.0,32.0,25.0,19.0,19.0,26.0,33.0,29.0,24.0,42.0,34.0,40.0,11.0,9.0,41.0,36.0,23.0,7.0,41.0,48.0,37.0,34.0,36.0,31.0,27.0,28.0,34.0,29.0,23.0,36.0,29.0,48.0,37.0,39.0,11.0,43.0,37.0,23.0,35.0,31.0,26.0,48.0,20.0,24.0,34.0,36.0,22.0,13.0,31.0,35.0,18.0,39.0,22.0,18.0,17.0,26.0,19.0,24.0,38.0,22.0,38.0,20.0,19.0,33.0,36.0,34.0,20.0,40.0,29.0,26.0,31.0,31.0,31.0,20.0,24.0,30.0,39.0,34.0,46.0,3.0,29.0,29.0,45.0,38.0,30.0,11.0,26.0,28.0,35.0,23.0,20.0,18.0,32.0,34.0,28.0,43.0,22.0,26.0,45.0,40.0,33.0,47.0,46.0,27.0,21.0,32.0,38.0,38.0,32.0,34.0,27.0,41.0,35.0,29.0,28.0,46.0,26.0,30.0,28.0,14.0,30.0,20.0,35.0,16.0,32.0,40.0,17.0,39.0,30.0,10.0,45.0,52.0,23.0,26.0,42.0,24.0,18.0,34.0,33.0,28.0,41.0,27.0,30.0,31.0,40.0,30.0,25.0,23.0,19.0,29.0,15.0,36.0,36.0,33.0,29.0,28.0,33.0,29.0,43.0,28.0,27.0,12.0,35.0,36.0,22.0,22.0,37.0,31.0,33.0,26.0,37.0,35.0,35.0,28.0,32.0,35.0,18.0,44.0,36.0,45.0,25.0,34.0,36.0,38.0,13.0,33.0,30.0,21.0,34.0,24.0,21.0,26.0,36.0,21.0,20.0,55.0,31.0,19.0,31.0,26.0,28.0,17.0,39.0,30.0,21.0,28.0,13.0,41.0,27.0,36.0,19.0,25.0,38.0,16.0,47.0,26.0,16.0,40.0,40.0,24.0,19.0,31.0,19.0,33.0,37.0,33.0,31.0,21.0,28.0,12.0,21.0,22.0,27.0,17.0,26.0,34.0,25.0,53.0,19.0,47.0,22.0,41.0,49.0,41.0,13.0,59.0,35.0,21.0,41.0,51.0,21.0,14.0,49.0,22.0,21.0,41.0,15.0,44.0,22.0,30.0,39.0,32.0,29.0,34.0,23.0,39.0,30.0,36.0],\"xaxis\":\"x\",\"y\":[1,1,2,2,2,3,2,2,2,1,2,2,6,1,1,1,4,1,2,1,1,2,3,2,5,0,1,0,4,1,3,2,2,1,3,1,3,1,3,1,1,1,3,1,2,0,2,1,2,5,0,1,5,1,2,1,2,2,2,3,1,2,7,1,1,0,0,4,2,2,1,2,2,4,3,1,0,2,1,2,3,2,5,3,4,4,0,4,1,2,3,0,3,2,2,2,2,2,1,1,2,0,2,1,0,0,1,1,0,1,1,0,4,7,3,2,1,2,4,2,1,0,1,3,1,3,4,2,1,4,5,1,1,0,4,0,1,2,4,1,1,2,4,4,1,4,0,3,1,0,0,1,1,2,0,0,1,3,1,2,0,3,4,1,0,1,2,3,6,4,1,0,0,0,1,5,5,2,3,1,0,1,1,3,3,0,1,3,3,1,2,1,6,2,4,0,1,1,2,1,0,3,4,2,2,1,0,4,1,3,1,1,3,3,4,2,1,2,3,4,0,1,0,1,1,0,3,1,1,3,3,2,2,4,2,4,0,2,1,1,4,1,2,4,1,1,2,2,6,0,2,4,0,1,5,2,2,1,1,2,0,4,2,2,1,3,0,2,2,0,4,2,0,3,3,3,3,3,3,1,3,0,4,3,4,2,1,3,1,0,3,0,3,0,1,5,2,2,2,2,1,2,4,4,1,5,0,3,3,2,0,1,4,3,2,4,1,3,3,2,1,1,2,1,2,1,3,2,3,1,2,1,5,0,3,1,1,0,5,2,3,0,5,0,1,4,3,4,2,2,2,1,1,0,3,2,4,0,0,0,3,1,3,2,2,0,2,2,0,4,2,5,1,1,2,3,2,2,2,1,1,2,2,3,3,2,0,2,2,2,2,1,1,1,3,2,1,6,2,1,1,0,1,1,5,3,1,4,1,2,5,2,0,5,1,4,1,4,2,1,3,2,1,3,2,4,5,3,3,2,1,2,3,2,1,1,1,4,4,1,2,2,1,0,1,5,4,2,4,0,2,5,4,0,1,1,3,1,2,2,1,2,1,0,4,4,2,2,3,3,3,3,0,0,3,5,3,0,1,2,2,3,3,2,1,4,3,1,2,1,3,4,0,2,2,3,5,2,1,1,3,3,2,1,2,1,4,1,0,1,2,4,2,0,2,1,5,3,4,1,2,1,1,0,2,1,2,1,0,1,2,2,3,2,4,0,3,6,2,2,2,2,3,2,2,1,3,1,2,1,1,4,0,3,2,3,0,0,1,3,1,2,3,1,3,1,2,2,0,2,1,2,2,2,2,0,3,4,3,1,3,0,1,5,2,2,1,1,3,4,0,3,0,0,4,2,3,3,2,4,2,1,0,1,3,3,1,0,2,0,0,3,4,0,3,3,2,2,1,2,0,3,1,3,1,4,3,1,1,0,1,6,0,1,1,2,3,2,1,3,2,2,1,2,2,1,4,0,2,2,4,2,1,4,3,4,1,1,2,2,2,0,1,3,3,5,2,3,2,2,3,3,1,1,3,0,3,1,0,3,1,4,2,3,1,0,5,2,3,1,0,0,1,0,2,2,0,4,2,2,4,2,1,3,1,4,2,2,2,1,1,2,4,0,1,2,2,2,2,2,3,0,3,2,3,1,3,3,1,2,4,1,1,3,2,3,1,1,2,1,0,2,2,0,2,1,2,1,4,3,2,2,1,1,2,2,1,2,2,1,4,2,2,0,0,0,2,3,1,3,4,4,1,2,2,1,2,2,1,1,2,3,0,2,3,2,2,1,5,2,0,1,1,2,1,1,5,3,1,1,2,0,1,1,4,3,2,3,4,6,4,0,4,1,1,1,2,3,1,3,4,1,2,7,2,2,0,1,2,2,3,3,5,0,2,4,5,5,2,5,1,2,1,5,0,2,1,2,4,4,1,2,1,3,2,4,4,0,3,8,5,1,1,0,4,3,2,1,3,4,2,5,5,1,2,2,0,1,4,0,4,1,3,4,2,1,3,1,0,1,0,1,1,2,1,3,4,0,1,1,3,2,1,1,4,2,2,1,0,2,1,0,1,3,3,4,2,6,0,6,1,3,0,2,1,5,0,3,0,2,2,6,5,2,4,1,4,1,2,3,4,0,3,2,5,3,2,4,6,1,2,1,0,3,2,0,0,4,1,1,2,1,4,2,4,3,1,3,1,0,2,1,2,1,3,1,2,4,1,2,0,1,2,3,2,2,2,4,2,2,0,1,3,3,1,5,3,1,0,2],\"yaxis\":\"y\",\"type\":\"scatter\"}],                        {\"template\":{\"data\":{\"histogram2dcontour\":[{\"type\":\"histogram2dcontour\",\"colorbar\":{\"outlinewidth\":0,\"ticks\":\"\"},\"colorscale\":[[0.0,\"#0d0887\"],[0.1111111111111111,\"#46039f\"],[0.2222222222222222,\"#7201a8\"],[0.3333333333333333,\"#9c179e\"],[0.4444444444444444,\"#bd3786\"],[0.5555555555555556,\"#d8576b\"],[0.6666666666666666,\"#ed7953\"],[0.7777777777777778,\"#fb9f3a\"],[0.8888888888888888,\"#fdca26\"],[1.0,\"#f0f921\"]]}],\"choropleth\":[{\"type\":\"choropleth\",\"colorbar\":{\"outlinewidth\":0,\"ticks\":\"\"}}],\"histogram2d\":[{\"type\":\"histogram2d\",\"colorbar\":{\"outlinewidth\":0,\"ticks\":\"\"},\"colorscale\":[[0.0,\"#0d0887\"],[0.1111111111111111,\"#46039f\"],[0.2222222222222222,\"#7201a8\"],[0.3333333333333333,\"#9c179e\"],[0.4444444444444444,\"#bd3786\"],[0.5555555555555556,\"#d8576b\"],[0.6666666666666666,\"#ed7953\"],[0.7777777777777778,\"#fb9f3a\"],[0.8888888888888888,\"#fdca26\"],[1.0,\"#f0f921\"]]}],\"heatmap\":[{\"type\":\"heatmap\",\"colorbar\":{\"outlinewidth\":0,\"ticks\":\"\"},\"colorscale\":[[0.0,\"#0d0887\"],[0.1111111111111111,\"#46039f\"],[0.2222222222222222,\"#7201a8\"],[0.3333333333333333,\"#9c179e\"],[0.4444444444444444,\"#bd3786\"],[0.5555555555555556,\"#d8576b\"],[0.6666666666666666,\"#ed7953\"],[0.7777777777777778,\"#fb9f3a\"],[0.8888888888888888,\"#fdca26\"],[1.0,\"#f0f921\"]]}],\"heatmapgl\":[{\"type\":\"heatmapgl\",\"colorbar\":{\"outlinewidth\":0,\"ticks\":\"\"},\"colorscale\":[[0.0,\"#0d0887\"],[0.1111111111111111,\"#46039f\"],[0.2222222222222222,\"#7201a8\"],[0.3333333333333333,\"#9c179e\"],[0.4444444444444444,\"#bd3786\"],[0.5555555555555556,\"#d8576b\"],[0.6666666666666666,\"#ed7953\"],[0.7777777777777778,\"#fb9f3a\"],[0.8888888888888888,\"#fdca26\"],[1.0,\"#f0f921\"]]}],\"contourcarpet\":[{\"type\":\"contourcarpet\",\"colorbar\":{\"outlinewidth\":0,\"ticks\":\"\"}}],\"contour\":[{\"type\":\"contour\",\"colorbar\":{\"outlinewidth\":0,\"ticks\":\"\"},\"colorscale\":[[0.0,\"#0d0887\"],[0.1111111111111111,\"#46039f\"],[0.2222222222222222,\"#7201a8\"],[0.3333333333333333,\"#9c179e\"],[0.4444444444444444,\"#bd3786\"],[0.5555555555555556,\"#d8576b\"],[0.6666666666666666,\"#ed7953\"],[0.7777777777777778,\"#fb9f3a\"],[0.8888888888888888,\"#fdca26\"],[1.0,\"#f0f921\"]]}],\"surface\":[{\"type\":\"surface\",\"colorbar\":{\"outlinewidth\":0,\"ticks\":\"\"},\"colorscale\":[[0.0,\"#0d0887\"],[0.1111111111111111,\"#46039f\"],[0.2222222222222222,\"#7201a8\"],[0.3333333333333333,\"#9c179e\"],[0.4444444444444444,\"#bd3786\"],[0.5555555555555556,\"#d8576b\"],[0.6666666666666666,\"#ed7953\"],[0.7777777777777778,\"#fb9f3a\"],[0.8888888888888888,\"#fdca26\"],[1.0,\"#f0f921\"]]}],\"mesh3d\":[{\"type\":\"mesh3d\",\"colorbar\":{\"outlinewidth\":0,\"ticks\":\"\"}}],\"scatter\":[{\"fillpattern\":{\"fillmode\":\"overlay\",\"size\":10,\"solidity\":0.2},\"type\":\"scatter\"}],\"parcoords\":[{\"type\":\"parcoords\",\"line\":{\"colorbar\":{\"outlinewidth\":0,\"ticks\":\"\"}}}],\"scatterpolargl\":[{\"type\":\"scatterpolargl\",\"marker\":{\"colorbar\":{\"outlinewidth\":0,\"ticks\":\"\"}}}],\"bar\":[{\"error_x\":{\"color\":\"#2a3f5f\"},\"error_y\":{\"color\":\"#2a3f5f\"},\"marker\":{\"line\":{\"color\":\"#E5ECF6\",\"width\":0.5},\"pattern\":{\"fillmode\":\"overlay\",\"size\":10,\"solidity\":0.2}},\"type\":\"bar\"}],\"scattergeo\":[{\"type\":\"scattergeo\",\"marker\":{\"colorbar\":{\"outlinewidth\":0,\"ticks\":\"\"}}}],\"scatterpolar\":[{\"type\":\"scatterpolar\",\"marker\":{\"colorbar\":{\"outlinewidth\":0,\"ticks\":\"\"}}}],\"histogram\":[{\"marker\":{\"pattern\":{\"fillmode\":\"overlay\",\"size\":10,\"solidity\":0.2}},\"type\":\"histogram\"}],\"scattergl\":[{\"type\":\"scattergl\",\"marker\":{\"colorbar\":{\"outlinewidth\":0,\"ticks\":\"\"}}}],\"scatter3d\":[{\"type\":\"scatter3d\",\"line\":{\"colorbar\":{\"outlinewidth\":0,\"ticks\":\"\"}},\"marker\":{\"colorbar\":{\"outlinewidth\":0,\"ticks\":\"\"}}}],\"scattermapbox\":[{\"type\":\"scattermapbox\",\"marker\":{\"colorbar\":{\"outlinewidth\":0,\"ticks\":\"\"}}}],\"scatterternary\":[{\"type\":\"scatterternary\",\"marker\":{\"colorbar\":{\"outlinewidth\":0,\"ticks\":\"\"}}}],\"scattercarpet\":[{\"type\":\"scattercarpet\",\"marker\":{\"colorbar\":{\"outlinewidth\":0,\"ticks\":\"\"}}}],\"carpet\":[{\"aaxis\":{\"endlinecolor\":\"#2a3f5f\",\"gridcolor\":\"white\",\"linecolor\":\"white\",\"minorgridcolor\":\"white\",\"startlinecolor\":\"#2a3f5f\"},\"baxis\":{\"endlinecolor\":\"#2a3f5f\",\"gridcolor\":\"white\",\"linecolor\":\"white\",\"minorgridcolor\":\"white\",\"startlinecolor\":\"#2a3f5f\"},\"type\":\"carpet\"}],\"table\":[{\"cells\":{\"fill\":{\"color\":\"#EBF0F8\"},\"line\":{\"color\":\"white\"}},\"header\":{\"fill\":{\"color\":\"#C8D4E3\"},\"line\":{\"color\":\"white\"}},\"type\":\"table\"}],\"barpolar\":[{\"marker\":{\"line\":{\"color\":\"#E5ECF6\",\"width\":0.5},\"pattern\":{\"fillmode\":\"overlay\",\"size\":10,\"solidity\":0.2}},\"type\":\"barpolar\"}],\"pie\":[{\"automargin\":true,\"type\":\"pie\"}]},\"layout\":{\"autotypenumbers\":\"strict\",\"colorway\":[\"#636efa\",\"#EF553B\",\"#00cc96\",\"#ab63fa\",\"#FFA15A\",\"#19d3f3\",\"#FF6692\",\"#B6E880\",\"#FF97FF\",\"#FECB52\"],\"font\":{\"color\":\"#2a3f5f\"},\"hovermode\":\"closest\",\"hoverlabel\":{\"align\":\"left\"},\"paper_bgcolor\":\"white\",\"plot_bgcolor\":\"#E5ECF6\",\"polar\":{\"bgcolor\":\"#E5ECF6\",\"angularaxis\":{\"gridcolor\":\"white\",\"linecolor\":\"white\",\"ticks\":\"\"},\"radialaxis\":{\"gridcolor\":\"white\",\"linecolor\":\"white\",\"ticks\":\"\"}},\"ternary\":{\"bgcolor\":\"#E5ECF6\",\"aaxis\":{\"gridcolor\":\"white\",\"linecolor\":\"white\",\"ticks\":\"\"},\"baxis\":{\"gridcolor\":\"white\",\"linecolor\":\"white\",\"ticks\":\"\"},\"caxis\":{\"gridcolor\":\"white\",\"linecolor\":\"white\",\"ticks\":\"\"}},\"coloraxis\":{\"colorbar\":{\"outlinewidth\":0,\"ticks\":\"\"}},\"colorscale\":{\"sequential\":[[0.0,\"#0d0887\"],[0.1111111111111111,\"#46039f\"],[0.2222222222222222,\"#7201a8\"],[0.3333333333333333,\"#9c179e\"],[0.4444444444444444,\"#bd3786\"],[0.5555555555555556,\"#d8576b\"],[0.6666666666666666,\"#ed7953\"],[0.7777777777777778,\"#fb9f3a\"],[0.8888888888888888,\"#fdca26\"],[1.0,\"#f0f921\"]],\"sequentialminus\":[[0.0,\"#0d0887\"],[0.1111111111111111,\"#46039f\"],[0.2222222222222222,\"#7201a8\"],[0.3333333333333333,\"#9c179e\"],[0.4444444444444444,\"#bd3786\"],[0.5555555555555556,\"#d8576b\"],[0.6666666666666666,\"#ed7953\"],[0.7777777777777778,\"#fb9f3a\"],[0.8888888888888888,\"#fdca26\"],[1.0,\"#f0f921\"]],\"diverging\":[[0,\"#8e0152\"],[0.1,\"#c51b7d\"],[0.2,\"#de77ae\"],[0.3,\"#f1b6da\"],[0.4,\"#fde0ef\"],[0.5,\"#f7f7f7\"],[0.6,\"#e6f5d0\"],[0.7,\"#b8e186\"],[0.8,\"#7fbc41\"],[0.9,\"#4d9221\"],[1,\"#276419\"]]},\"xaxis\":{\"gridcolor\":\"white\",\"linecolor\":\"white\",\"ticks\":\"\",\"title\":{\"standoff\":15},\"zerolinecolor\":\"white\",\"automargin\":true,\"zerolinewidth\":2},\"yaxis\":{\"gridcolor\":\"white\",\"linecolor\":\"white\",\"ticks\":\"\",\"title\":{\"standoff\":15},\"zerolinecolor\":\"white\",\"automargin\":true,\"zerolinewidth\":2},\"scene\":{\"xaxis\":{\"backgroundcolor\":\"#E5ECF6\",\"gridcolor\":\"white\",\"linecolor\":\"white\",\"showbackground\":true,\"ticks\":\"\",\"zerolinecolor\":\"white\",\"gridwidth\":2},\"yaxis\":{\"backgroundcolor\":\"#E5ECF6\",\"gridcolor\":\"white\",\"linecolor\":\"white\",\"showbackground\":true,\"ticks\":\"\",\"zerolinecolor\":\"white\",\"gridwidth\":2},\"zaxis\":{\"backgroundcolor\":\"#E5ECF6\",\"gridcolor\":\"white\",\"linecolor\":\"white\",\"showbackground\":true,\"ticks\":\"\",\"zerolinecolor\":\"white\",\"gridwidth\":2}},\"shapedefaults\":{\"line\":{\"color\":\"#2a3f5f\"}},\"annotationdefaults\":{\"arrowcolor\":\"#2a3f5f\",\"arrowhead\":0,\"arrowwidth\":1},\"geo\":{\"bgcolor\":\"white\",\"landcolor\":\"#E5ECF6\",\"subunitcolor\":\"white\",\"showland\":true,\"showlakes\":true,\"lakecolor\":\"white\"},\"title\":{\"x\":0.05},\"mapbox\":{\"style\":\"light\"}}},\"xaxis\":{\"anchor\":\"y\",\"domain\":[0.0,1.0],\"title\":{\"text\":\"D\\u00e9lai de r\\u00e9servation (jours)\"}},\"yaxis\":{\"anchor\":\"x\",\"domain\":[0.0,1.0],\"title\":{\"text\":\"Fr\\u00e9quence de r\\u00e9servation\"}},\"coloraxis\":{\"colorbar\":{\"title\":{\"text\":\"parc_id\"}},\"colorscale\":[[0.0,\"#0d0887\"],[0.1111111111111111,\"#46039f\"],[0.2222222222222222,\"#7201a8\"],[0.3333333333333333,\"#9c179e\"],[0.4444444444444444,\"#bd3786\"],[0.5555555555555556,\"#d8576b\"],[0.6666666666666666,\"#ed7953\"],[0.7777777777777778,\"#fb9f3a\"],[0.8888888888888888,\"#fdca26\"],[1.0,\"#f0f921\"]]},\"legend\":{\"tracegroupgap\":0},\"title\":{\"text\":\"d\\u00e9lai de r\\u00e9servation vs. fr\\u00e9quence de r\\u00e9servation par parc\"}},                        {\"responsive\": true}                    ).then(function(){\n",
       "                            \n",
       "var gd = document.getElementById('7f9a3cce-645f-4161-85e8-27b8529a6a6c');\n",
       "var x = new MutationObserver(function (mutations, observer) {{\n",
       "        var display = window.getComputedStyle(gd).display;\n",
       "        if (!display || display === 'none') {{\n",
       "            console.log([gd, 'removed!']);\n",
       "            Plotly.purge(gd);\n",
       "            observer.disconnect();\n",
       "        }}\n",
       "}});\n",
       "\n",
       "// Listen for the removal of the full notebook cells\n",
       "var notebookContainer = gd.closest('#notebook-container');\n",
       "if (notebookContainer) {{\n",
       "    x.observe(notebookContainer, {childList: true});\n",
       "}}\n",
       "\n",
       "// Listen for the clearing of the current output cell\n",
       "var outputEl = gd.closest('.output');\n",
       "if (outputEl) {{\n",
       "    x.observe(outputEl, {childList: true});\n",
       "}}\n",
       "\n",
       "                        })                };                });            </script>        </div>"
      ]
     },
     "metadata": {},
     "output_type": "display_data"
    }
   ],
   "source": [
    "# graphique de dispersion des délais de réservation vs. fréquence de réservation par parc\n",
    "fig = px.scatter(df, x='temps_reservation', y='frequence_reservation', color='parc_id',\n",
    "                 title='délai de réservation vs. fréquence de réservation par parc')\n",
    "fig.update_layout(xaxis_title='Délai de réservation (jours)', yaxis_title='Fréquence de réservation')\n",
    "fig.show()"
   ]
  },
  {
   "cell_type": "code",
   "execution_count": 470,
   "id": "652e72b1-3e83-4a7c-99eb-5ae83e046fd0",
   "metadata": {},
   "outputs": [
    {
     "data": {
      "application/vnd.plotly.v1+json": {
       "config": {
        "plotlyServerURL": "https://plot.ly"
       },
       "data": [
        {
         "hovertemplate": "mois=%{x}<br>temps_reservation=%{y}<extra></extra>",
         "legendgroup": "",
         "line": {
          "color": "#636efa",
          "dash": "solid"
         },
         "marker": {
          "symbol": "circle"
         },
         "mode": "lines",
         "name": "",
         "orientation": "v",
         "showlegend": false,
         "type": "scatter",
         "x": [
          1,
          2,
          3,
          4,
          5,
          6,
          7,
          8,
          9,
          10,
          11,
          12
         ],
         "xaxis": "x",
         "y": [
          30.17948717948718,
          28.72222222222222,
          30.147727272727273,
          32.566265060240966,
          31.0875,
          29.692307692307693,
          29.703125,
          31.706521739130434,
          28.149425287356323,
          31.378048780487806,
          27.714285714285715,
          30.545454545454547
         ],
         "yaxis": "y"
        }
       ],
       "layout": {
        "autosize": true,
        "legend": {
         "tracegroupgap": 0
        },
        "template": {
         "data": {
          "bar": [
           {
            "error_x": {
             "color": "#2a3f5f"
            },
            "error_y": {
             "color": "#2a3f5f"
            },
            "marker": {
             "line": {
              "color": "#E5ECF6",
              "width": 0.5
             },
             "pattern": {
              "fillmode": "overlay",
              "size": 10,
              "solidity": 0.2
             }
            },
            "type": "bar"
           }
          ],
          "barpolar": [
           {
            "marker": {
             "line": {
              "color": "#E5ECF6",
              "width": 0.5
             },
             "pattern": {
              "fillmode": "overlay",
              "size": 10,
              "solidity": 0.2
             }
            },
            "type": "barpolar"
           }
          ],
          "carpet": [
           {
            "aaxis": {
             "endlinecolor": "#2a3f5f",
             "gridcolor": "white",
             "linecolor": "white",
             "minorgridcolor": "white",
             "startlinecolor": "#2a3f5f"
            },
            "baxis": {
             "endlinecolor": "#2a3f5f",
             "gridcolor": "white",
             "linecolor": "white",
             "minorgridcolor": "white",
             "startlinecolor": "#2a3f5f"
            },
            "type": "carpet"
           }
          ],
          "choropleth": [
           {
            "colorbar": {
             "outlinewidth": 0,
             "ticks": ""
            },
            "type": "choropleth"
           }
          ],
          "contour": [
           {
            "colorbar": {
             "outlinewidth": 0,
             "ticks": ""
            },
            "colorscale": [
             [
              0,
              "#0d0887"
             ],
             [
              0.1111111111111111,
              "#46039f"
             ],
             [
              0.2222222222222222,
              "#7201a8"
             ],
             [
              0.3333333333333333,
              "#9c179e"
             ],
             [
              0.4444444444444444,
              "#bd3786"
             ],
             [
              0.5555555555555556,
              "#d8576b"
             ],
             [
              0.6666666666666666,
              "#ed7953"
             ],
             [
              0.7777777777777778,
              "#fb9f3a"
             ],
             [
              0.8888888888888888,
              "#fdca26"
             ],
             [
              1,
              "#f0f921"
             ]
            ],
            "type": "contour"
           }
          ],
          "contourcarpet": [
           {
            "colorbar": {
             "outlinewidth": 0,
             "ticks": ""
            },
            "type": "contourcarpet"
           }
          ],
          "heatmap": [
           {
            "colorbar": {
             "outlinewidth": 0,
             "ticks": ""
            },
            "colorscale": [
             [
              0,
              "#0d0887"
             ],
             [
              0.1111111111111111,
              "#46039f"
             ],
             [
              0.2222222222222222,
              "#7201a8"
             ],
             [
              0.3333333333333333,
              "#9c179e"
             ],
             [
              0.4444444444444444,
              "#bd3786"
             ],
             [
              0.5555555555555556,
              "#d8576b"
             ],
             [
              0.6666666666666666,
              "#ed7953"
             ],
             [
              0.7777777777777778,
              "#fb9f3a"
             ],
             [
              0.8888888888888888,
              "#fdca26"
             ],
             [
              1,
              "#f0f921"
             ]
            ],
            "type": "heatmap"
           }
          ],
          "heatmapgl": [
           {
            "colorbar": {
             "outlinewidth": 0,
             "ticks": ""
            },
            "colorscale": [
             [
              0,
              "#0d0887"
             ],
             [
              0.1111111111111111,
              "#46039f"
             ],
             [
              0.2222222222222222,
              "#7201a8"
             ],
             [
              0.3333333333333333,
              "#9c179e"
             ],
             [
              0.4444444444444444,
              "#bd3786"
             ],
             [
              0.5555555555555556,
              "#d8576b"
             ],
             [
              0.6666666666666666,
              "#ed7953"
             ],
             [
              0.7777777777777778,
              "#fb9f3a"
             ],
             [
              0.8888888888888888,
              "#fdca26"
             ],
             [
              1,
              "#f0f921"
             ]
            ],
            "type": "heatmapgl"
           }
          ],
          "histogram": [
           {
            "marker": {
             "pattern": {
              "fillmode": "overlay",
              "size": 10,
              "solidity": 0.2
             }
            },
            "type": "histogram"
           }
          ],
          "histogram2d": [
           {
            "colorbar": {
             "outlinewidth": 0,
             "ticks": ""
            },
            "colorscale": [
             [
              0,
              "#0d0887"
             ],
             [
              0.1111111111111111,
              "#46039f"
             ],
             [
              0.2222222222222222,
              "#7201a8"
             ],
             [
              0.3333333333333333,
              "#9c179e"
             ],
             [
              0.4444444444444444,
              "#bd3786"
             ],
             [
              0.5555555555555556,
              "#d8576b"
             ],
             [
              0.6666666666666666,
              "#ed7953"
             ],
             [
              0.7777777777777778,
              "#fb9f3a"
             ],
             [
              0.8888888888888888,
              "#fdca26"
             ],
             [
              1,
              "#f0f921"
             ]
            ],
            "type": "histogram2d"
           }
          ],
          "histogram2dcontour": [
           {
            "colorbar": {
             "outlinewidth": 0,
             "ticks": ""
            },
            "colorscale": [
             [
              0,
              "#0d0887"
             ],
             [
              0.1111111111111111,
              "#46039f"
             ],
             [
              0.2222222222222222,
              "#7201a8"
             ],
             [
              0.3333333333333333,
              "#9c179e"
             ],
             [
              0.4444444444444444,
              "#bd3786"
             ],
             [
              0.5555555555555556,
              "#d8576b"
             ],
             [
              0.6666666666666666,
              "#ed7953"
             ],
             [
              0.7777777777777778,
              "#fb9f3a"
             ],
             [
              0.8888888888888888,
              "#fdca26"
             ],
             [
              1,
              "#f0f921"
             ]
            ],
            "type": "histogram2dcontour"
           }
          ],
          "mesh3d": [
           {
            "colorbar": {
             "outlinewidth": 0,
             "ticks": ""
            },
            "type": "mesh3d"
           }
          ],
          "parcoords": [
           {
            "line": {
             "colorbar": {
              "outlinewidth": 0,
              "ticks": ""
             }
            },
            "type": "parcoords"
           }
          ],
          "pie": [
           {
            "automargin": true,
            "type": "pie"
           }
          ],
          "scatter": [
           {
            "fillpattern": {
             "fillmode": "overlay",
             "size": 10,
             "solidity": 0.2
            },
            "type": "scatter"
           }
          ],
          "scatter3d": [
           {
            "line": {
             "colorbar": {
              "outlinewidth": 0,
              "ticks": ""
             }
            },
            "marker": {
             "colorbar": {
              "outlinewidth": 0,
              "ticks": ""
             }
            },
            "type": "scatter3d"
           }
          ],
          "scattercarpet": [
           {
            "marker": {
             "colorbar": {
              "outlinewidth": 0,
              "ticks": ""
             }
            },
            "type": "scattercarpet"
           }
          ],
          "scattergeo": [
           {
            "marker": {
             "colorbar": {
              "outlinewidth": 0,
              "ticks": ""
             }
            },
            "type": "scattergeo"
           }
          ],
          "scattergl": [
           {
            "marker": {
             "colorbar": {
              "outlinewidth": 0,
              "ticks": ""
             }
            },
            "type": "scattergl"
           }
          ],
          "scattermapbox": [
           {
            "marker": {
             "colorbar": {
              "outlinewidth": 0,
              "ticks": ""
             }
            },
            "type": "scattermapbox"
           }
          ],
          "scatterpolar": [
           {
            "marker": {
             "colorbar": {
              "outlinewidth": 0,
              "ticks": ""
             }
            },
            "type": "scatterpolar"
           }
          ],
          "scatterpolargl": [
           {
            "marker": {
             "colorbar": {
              "outlinewidth": 0,
              "ticks": ""
             }
            },
            "type": "scatterpolargl"
           }
          ],
          "scatterternary": [
           {
            "marker": {
             "colorbar": {
              "outlinewidth": 0,
              "ticks": ""
             }
            },
            "type": "scatterternary"
           }
          ],
          "surface": [
           {
            "colorbar": {
             "outlinewidth": 0,
             "ticks": ""
            },
            "colorscale": [
             [
              0,
              "#0d0887"
             ],
             [
              0.1111111111111111,
              "#46039f"
             ],
             [
              0.2222222222222222,
              "#7201a8"
             ],
             [
              0.3333333333333333,
              "#9c179e"
             ],
             [
              0.4444444444444444,
              "#bd3786"
             ],
             [
              0.5555555555555556,
              "#d8576b"
             ],
             [
              0.6666666666666666,
              "#ed7953"
             ],
             [
              0.7777777777777778,
              "#fb9f3a"
             ],
             [
              0.8888888888888888,
              "#fdca26"
             ],
             [
              1,
              "#f0f921"
             ]
            ],
            "type": "surface"
           }
          ],
          "table": [
           {
            "cells": {
             "fill": {
              "color": "#EBF0F8"
             },
             "line": {
              "color": "white"
             }
            },
            "header": {
             "fill": {
              "color": "#C8D4E3"
             },
             "line": {
              "color": "white"
             }
            },
            "type": "table"
           }
          ]
         },
         "layout": {
          "annotationdefaults": {
           "arrowcolor": "#2a3f5f",
           "arrowhead": 0,
           "arrowwidth": 1
          },
          "autotypenumbers": "strict",
          "coloraxis": {
           "colorbar": {
            "outlinewidth": 0,
            "ticks": ""
           }
          },
          "colorscale": {
           "diverging": [
            [
             0,
             "#8e0152"
            ],
            [
             0.1,
             "#c51b7d"
            ],
            [
             0.2,
             "#de77ae"
            ],
            [
             0.3,
             "#f1b6da"
            ],
            [
             0.4,
             "#fde0ef"
            ],
            [
             0.5,
             "#f7f7f7"
            ],
            [
             0.6,
             "#e6f5d0"
            ],
            [
             0.7,
             "#b8e186"
            ],
            [
             0.8,
             "#7fbc41"
            ],
            [
             0.9,
             "#4d9221"
            ],
            [
             1,
             "#276419"
            ]
           ],
           "sequential": [
            [
             0,
             "#0d0887"
            ],
            [
             0.1111111111111111,
             "#46039f"
            ],
            [
             0.2222222222222222,
             "#7201a8"
            ],
            [
             0.3333333333333333,
             "#9c179e"
            ],
            [
             0.4444444444444444,
             "#bd3786"
            ],
            [
             0.5555555555555556,
             "#d8576b"
            ],
            [
             0.6666666666666666,
             "#ed7953"
            ],
            [
             0.7777777777777778,
             "#fb9f3a"
            ],
            [
             0.8888888888888888,
             "#fdca26"
            ],
            [
             1,
             "#f0f921"
            ]
           ],
           "sequentialminus": [
            [
             0,
             "#0d0887"
            ],
            [
             0.1111111111111111,
             "#46039f"
            ],
            [
             0.2222222222222222,
             "#7201a8"
            ],
            [
             0.3333333333333333,
             "#9c179e"
            ],
            [
             0.4444444444444444,
             "#bd3786"
            ],
            [
             0.5555555555555556,
             "#d8576b"
            ],
            [
             0.6666666666666666,
             "#ed7953"
            ],
            [
             0.7777777777777778,
             "#fb9f3a"
            ],
            [
             0.8888888888888888,
             "#fdca26"
            ],
            [
             1,
             "#f0f921"
            ]
           ]
          },
          "colorway": [
           "#636efa",
           "#EF553B",
           "#00cc96",
           "#ab63fa",
           "#FFA15A",
           "#19d3f3",
           "#FF6692",
           "#B6E880",
           "#FF97FF",
           "#FECB52"
          ],
          "font": {
           "color": "#2a3f5f"
          },
          "geo": {
           "bgcolor": "white",
           "lakecolor": "white",
           "landcolor": "#E5ECF6",
           "showlakes": true,
           "showland": true,
           "subunitcolor": "white"
          },
          "hoverlabel": {
           "align": "left"
          },
          "hovermode": "closest",
          "mapbox": {
           "style": "light"
          },
          "paper_bgcolor": "white",
          "plot_bgcolor": "#E5ECF6",
          "polar": {
           "angularaxis": {
            "gridcolor": "white",
            "linecolor": "white",
            "ticks": ""
           },
           "bgcolor": "#E5ECF6",
           "radialaxis": {
            "gridcolor": "white",
            "linecolor": "white",
            "ticks": ""
           }
          },
          "scene": {
           "xaxis": {
            "backgroundcolor": "#E5ECF6",
            "gridcolor": "white",
            "gridwidth": 2,
            "linecolor": "white",
            "showbackground": true,
            "ticks": "",
            "zerolinecolor": "white"
           },
           "yaxis": {
            "backgroundcolor": "#E5ECF6",
            "gridcolor": "white",
            "gridwidth": 2,
            "linecolor": "white",
            "showbackground": true,
            "ticks": "",
            "zerolinecolor": "white"
           },
           "zaxis": {
            "backgroundcolor": "#E5ECF6",
            "gridcolor": "white",
            "gridwidth": 2,
            "linecolor": "white",
            "showbackground": true,
            "ticks": "",
            "zerolinecolor": "white"
           }
          },
          "shapedefaults": {
           "line": {
            "color": "#2a3f5f"
           }
          },
          "ternary": {
           "aaxis": {
            "gridcolor": "white",
            "linecolor": "white",
            "ticks": ""
           },
           "baxis": {
            "gridcolor": "white",
            "linecolor": "white",
            "ticks": ""
           },
           "bgcolor": "#E5ECF6",
           "caxis": {
            "gridcolor": "white",
            "linecolor": "white",
            "ticks": ""
           }
          },
          "title": {
           "x": 0.05
          },
          "xaxis": {
           "automargin": true,
           "gridcolor": "white",
           "linecolor": "white",
           "ticks": "",
           "title": {
            "standoff": 15
           },
           "zerolinecolor": "white",
           "zerolinewidth": 2
          },
          "yaxis": {
           "automargin": true,
           "gridcolor": "white",
           "linecolor": "white",
           "ticks": "",
           "title": {
            "standoff": 15
           },
           "zerolinecolor": "white",
           "zerolinewidth": 2
          }
         }
        },
        "title": {
         "text": "temps de réservation moyen par mois"
        },
        "xaxis": {
         "anchor": "y",
         "autorange": true,
         "domain": [
          0,
          1
         ],
         "range": [
          1,
          12
         ],
         "title": {
          "text": "Mois"
         },
         "type": "linear"
        },
        "yaxis": {
         "anchor": "x",
         "autorange": true,
         "domain": [
          0,
          1
         ],
         "range": [
          27.44473130617709,
          32.83581946834959
         ],
         "title": {
          "text": "Temps de réservation moyen (jours)"
         },
         "type": "linear"
        }
       }
      },
      "image/png": "[encoded data removed]",
      "text/html": [
       "<div>                            <div id=\"89e74f84-bc6e-4403-93ea-c72b5bb7ac0e\" class=\"plotly-graph-div\" style=\"height:525px; width:100%;\"></div>            <script type=\"text/javascript\">                require([\"plotly\"], function(Plotly) {                    window.PLOTLYENV=window.PLOTLYENV || {};                                    if (document.getElementById(\"89e74f84-bc6e-4403-93ea-c72b5bb7ac0e\")) {                    Plotly.newPlot(                        \"89e74f84-bc6e-4403-93ea-c72b5bb7ac0e\",                        [{\"hovertemplate\":\"mois=%{x}<br>temps_reservation=%{y}<extra></extra>\",\"legendgroup\":\"\",\"line\":{\"color\":\"#636efa\",\"dash\":\"solid\"},\"marker\":{\"symbol\":\"circle\"},\"mode\":\"lines\",\"name\":\"\",\"orientation\":\"v\",\"showlegend\":false,\"x\":[1,2,3,4,5,6,7,8,9,10,11,12],\"xaxis\":\"x\",\"y\":[30.17948717948718,28.72222222222222,30.147727272727273,32.566265060240966,31.0875,29.692307692307693,29.703125,31.706521739130434,28.149425287356323,31.378048780487806,27.714285714285715,30.545454545454547],\"yaxis\":\"y\",\"type\":\"scatter\"}],                        {\"template\":{\"data\":{\"histogram2dcontour\":[{\"type\":\"histogram2dcontour\",\"colorbar\":{\"outlinewidth\":0,\"ticks\":\"\"},\"colorscale\":[[0.0,\"#0d0887\"],[0.1111111111111111,\"#46039f\"],[0.2222222222222222,\"#7201a8\"],[0.3333333333333333,\"#9c179e\"],[0.4444444444444444,\"#bd3786\"],[0.5555555555555556,\"#d8576b\"],[0.6666666666666666,\"#ed7953\"],[0.7777777777777778,\"#fb9f3a\"],[0.8888888888888888,\"#fdca26\"],[1.0,\"#f0f921\"]]}],\"choropleth\":[{\"type\":\"choropleth\",\"colorbar\":{\"outlinewidth\":0,\"ticks\":\"\"}}],\"histogram2d\":[{\"type\":\"histogram2d\",\"colorbar\":{\"outlinewidth\":0,\"ticks\":\"\"},\"colorscale\":[[0.0,\"#0d0887\"],[0.1111111111111111,\"#46039f\"],[0.2222222222222222,\"#7201a8\"],[0.3333333333333333,\"#9c179e\"],[0.4444444444444444,\"#bd3786\"],[0.5555555555555556,\"#d8576b\"],[0.6666666666666666,\"#ed7953\"],[0.7777777777777778,\"#fb9f3a\"],[0.8888888888888888,\"#fdca26\"],[1.0,\"#f0f921\"]]}],\"heatmap\":[{\"type\":\"heatmap\",\"colorbar\":{\"outlinewidth\":0,\"ticks\":\"\"},\"colorscale\":[[0.0,\"#0d0887\"],[0.1111111111111111,\"#46039f\"],[0.2222222222222222,\"#7201a8\"],[0.3333333333333333,\"#9c179e\"],[0.4444444444444444,\"#bd3786\"],[0.5555555555555556,\"#d8576b\"],[0.6666666666666666,\"#ed7953\"],[0.7777777777777778,\"#fb9f3a\"],[0.8888888888888888,\"#fdca26\"],[1.0,\"#f0f921\"]]}],\"heatmapgl\":[{\"type\":\"heatmapgl\",\"colorbar\":{\"outlinewidth\":0,\"ticks\":\"\"},\"colorscale\":[[0.0,\"#0d0887\"],[0.1111111111111111,\"#46039f\"],[0.2222222222222222,\"#7201a8\"],[0.3333333333333333,\"#9c179e\"],[0.4444444444444444,\"#bd3786\"],[0.5555555555555556,\"#d8576b\"],[0.6666666666666666,\"#ed7953\"],[0.7777777777777778,\"#fb9f3a\"],[0.8888888888888888,\"#fdca26\"],[1.0,\"#f0f921\"]]}],\"contourcarpet\":[{\"type\":\"contourcarpet\",\"colorbar\":{\"outlinewidth\":0,\"ticks\":\"\"}}],\"contour\":[{\"type\":\"contour\",\"colorbar\":{\"outlinewidth\":0,\"ticks\":\"\"},\"colorscale\":[[0.0,\"#0d0887\"],[0.1111111111111111,\"#46039f\"],[0.2222222222222222,\"#7201a8\"],[0.3333333333333333,\"#9c179e\"],[0.4444444444444444,\"#bd3786\"],[0.5555555555555556,\"#d8576b\"],[0.6666666666666666,\"#ed7953\"],[0.7777777777777778,\"#fb9f3a\"],[0.8888888888888888,\"#fdca26\"],[1.0,\"#f0f921\"]]}],\"surface\":[{\"type\":\"surface\",\"colorbar\":{\"outlinewidth\":0,\"ticks\":\"\"},\"colorscale\":[[0.0,\"#0d0887\"],[0.1111111111111111,\"#46039f\"],[0.2222222222222222,\"#7201a8\"],[0.3333333333333333,\"#9c179e\"],[0.4444444444444444,\"#bd3786\"],[0.5555555555555556,\"#d8576b\"],[0.6666666666666666,\"#ed7953\"],[0.7777777777777778,\"#fb9f3a\"],[0.8888888888888888,\"#fdca26\"],[1.0,\"#f0f921\"]]}],\"mesh3d\":[{\"type\":\"mesh3d\",\"colorbar\":{\"outlinewidth\":0,\"ticks\":\"\"}}],\"scatter\":[{\"fillpattern\":{\"fillmode\":\"overlay\",\"size\":10,\"solidity\":0.2},\"type\":\"scatter\"}],\"parcoords\":[{\"type\":\"parcoords\",\"line\":{\"colorbar\":{\"outlinewidth\":0,\"ticks\":\"\"}}}],\"scatterpolargl\":[{\"type\":\"scatterpolargl\",\"marker\":{\"colorbar\":{\"outlinewidth\":0,\"ticks\":\"\"}}}],\"bar\":[{\"error_x\":{\"color\":\"#2a3f5f\"},\"error_y\":{\"color\":\"#2a3f5f\"},\"marker\":{\"line\":{\"color\":\"#E5ECF6\",\"width\":0.5},\"pattern\":{\"fillmode\":\"overlay\",\"size\":10,\"solidity\":0.2}},\"type\":\"bar\"}],\"scattergeo\":[{\"type\":\"scattergeo\",\"marker\":{\"colorbar\":{\"outlinewidth\":0,\"ticks\":\"\"}}}],\"scatterpolar\":[{\"type\":\"scatterpolar\",\"marker\":{\"colorbar\":{\"outlinewidth\":0,\"ticks\":\"\"}}}],\"histogram\":[{\"marker\":{\"pattern\":{\"fillmode\":\"overlay\",\"size\":10,\"solidity\":0.2}},\"type\":\"histogram\"}],\"scattergl\":[{\"type\":\"scattergl\",\"marker\":{\"colorbar\":{\"outlinewidth\":0,\"ticks\":\"\"}}}],\"scatter3d\":[{\"type\":\"scatter3d\",\"line\":{\"colorbar\":{\"outlinewidth\":0,\"ticks\":\"\"}},\"marker\":{\"colorbar\":{\"outlinewidth\":0,\"ticks\":\"\"}}}],\"scattermapbox\":[{\"type\":\"scattermapbox\",\"marker\":{\"colorbar\":{\"outlinewidth\":0,\"ticks\":\"\"}}}],\"scatterternary\":[{\"type\":\"scatterternary\",\"marker\":{\"colorbar\":{\"outlinewidth\":0,\"ticks\":\"\"}}}],\"scattercarpet\":[{\"type\":\"scattercarpet\",\"marker\":{\"colorbar\":{\"outlinewidth\":0,\"ticks\":\"\"}}}],\"carpet\":[{\"aaxis\":{\"endlinecolor\":\"#2a3f5f\",\"gridcolor\":\"white\",\"linecolor\":\"white\",\"minorgridcolor\":\"white\",\"startlinecolor\":\"#2a3f5f\"},\"baxis\":{\"endlinecolor\":\"#2a3f5f\",\"gridcolor\":\"white\",\"linecolor\":\"white\",\"minorgridcolor\":\"white\",\"startlinecolor\":\"#2a3f5f\"},\"type\":\"carpet\"}],\"table\":[{\"cells\":{\"fill\":{\"color\":\"#EBF0F8\"},\"line\":{\"color\":\"white\"}},\"header\":{\"fill\":{\"color\":\"#C8D4E3\"},\"line\":{\"color\":\"white\"}},\"type\":\"table\"}],\"barpolar\":[{\"marker\":{\"line\":{\"color\":\"#E5ECF6\",\"width\":0.5},\"pattern\":{\"fillmode\":\"overlay\",\"size\":10,\"solidity\":0.2}},\"type\":\"barpolar\"}],\"pie\":[{\"automargin\":true,\"type\":\"pie\"}]},\"layout\":{\"autotypenumbers\":\"strict\",\"colorway\":[\"#636efa\",\"#EF553B\",\"#00cc96\",\"#ab63fa\",\"#FFA15A\",\"#19d3f3\",\"#FF6692\",\"#B6E880\",\"#FF97FF\",\"#FECB52\"],\"font\":{\"color\":\"#2a3f5f\"},\"hovermode\":\"closest\",\"hoverlabel\":{\"align\":\"left\"},\"paper_bgcolor\":\"white\",\"plot_bgcolor\":\"#E5ECF6\",\"polar\":{\"bgcolor\":\"#E5ECF6\",\"angularaxis\":{\"gridcolor\":\"white\",\"linecolor\":\"white\",\"ticks\":\"\"},\"radialaxis\":{\"gridcolor\":\"white\",\"linecolor\":\"white\",\"ticks\":\"\"}},\"ternary\":{\"bgcolor\":\"#E5ECF6\",\"aaxis\":{\"gridcolor\":\"white\",\"linecolor\":\"white\",\"ticks\":\"\"},\"baxis\":{\"gridcolor\":\"white\",\"linecolor\":\"white\",\"ticks\":\"\"},\"caxis\":{\"gridcolor\":\"white\",\"linecolor\":\"white\",\"ticks\":\"\"}},\"coloraxis\":{\"colorbar\":{\"outlinewidth\":0,\"ticks\":\"\"}},\"colorscale\":{\"sequential\":[[0.0,\"#0d0887\"],[0.1111111111111111,\"#46039f\"],[0.2222222222222222,\"#7201a8\"],[0.3333333333333333,\"#9c179e\"],[0.4444444444444444,\"#bd3786\"],[0.5555555555555556,\"#d8576b\"],[0.6666666666666666,\"#ed7953\"],[0.7777777777777778,\"#fb9f3a\"],[0.8888888888888888,\"#fdca26\"],[1.0,\"#f0f921\"]],\"sequentialminus\":[[0.0,\"#0d0887\"],[0.1111111111111111,\"#46039f\"],[0.2222222222222222,\"#7201a8\"],[0.3333333333333333,\"#9c179e\"],[0.4444444444444444,\"#bd3786\"],[0.5555555555555556,\"#d8576b\"],[0.6666666666666666,\"#ed7953\"],[0.7777777777777778,\"#fb9f3a\"],[0.8888888888888888,\"#fdca26\"],[1.0,\"#f0f921\"]],\"diverging\":[[0,\"#8e0152\"],[0.1,\"#c51b7d\"],[0.2,\"#de77ae\"],[0.3,\"#f1b6da\"],[0.4,\"#fde0ef\"],[0.5,\"#f7f7f7\"],[0.6,\"#e6f5d0\"],[0.7,\"#b8e186\"],[0.8,\"#7fbc41\"],[0.9,\"#4d9221\"],[1,\"#276419\"]]},\"xaxis\":{\"gridcolor\":\"white\",\"linecolor\":\"white\",\"ticks\":\"\",\"title\":{\"standoff\":15},\"zerolinecolor\":\"white\",\"automargin\":true,\"zerolinewidth\":2},\"yaxis\":{\"gridcolor\":\"white\",\"linecolor\":\"white\",\"ticks\":\"\",\"title\":{\"standoff\":15},\"zerolinecolor\":\"white\",\"automargin\":true,\"zerolinewidth\":2},\"scene\":{\"xaxis\":{\"backgroundcolor\":\"#E5ECF6\",\"gridcolor\":\"white\",\"linecolor\":\"white\",\"showbackground\":true,\"ticks\":\"\",\"zerolinecolor\":\"white\",\"gridwidth\":2},\"yaxis\":{\"backgroundcolor\":\"#E5ECF6\",\"gridcolor\":\"white\",\"linecolor\":\"white\",\"showbackground\":true,\"ticks\":\"\",\"zerolinecolor\":\"white\",\"gridwidth\":2},\"zaxis\":{\"backgroundcolor\":\"#E5ECF6\",\"gridcolor\":\"white\",\"linecolor\":\"white\",\"showbackground\":true,\"ticks\":\"\",\"zerolinecolor\":\"white\",\"gridwidth\":2}},\"shapedefaults\":{\"line\":{\"color\":\"#2a3f5f\"}},\"annotationdefaults\":{\"arrowcolor\":\"#2a3f5f\",\"arrowhead\":0,\"arrowwidth\":1},\"geo\":{\"bgcolor\":\"white\",\"landcolor\":\"#E5ECF6\",\"subunitcolor\":\"white\",\"showland\":true,\"showlakes\":true,\"lakecolor\":\"white\"},\"title\":{\"x\":0.05},\"mapbox\":{\"style\":\"light\"}}},\"xaxis\":{\"anchor\":\"y\",\"domain\":[0.0,1.0],\"title\":{\"text\":\"Mois\"}},\"yaxis\":{\"anchor\":\"x\",\"domain\":[0.0,1.0],\"title\":{\"text\":\"Temps de r\\u00e9servation moyen (jours)\"}},\"legend\":{\"tracegroupgap\":0},\"title\":{\"text\":\"temps de r\\u00e9servation moyen par mois\"}},                        {\"responsive\": true}                    ).then(function(){\n",
       "                            \n",
       "var gd = document.getElementById('89e74f84-bc6e-4403-93ea-c72b5bb7ac0e');\n",
       "var x = new MutationObserver(function (mutations, observer) {{\n",
       "        var display = window.getComputedStyle(gd).display;\n",
       "        if (!display || display === 'none') {{\n",
       "            console.log([gd, 'removed!']);\n",
       "            Plotly.purge(gd);\n",
       "            observer.disconnect();\n",
       "        }}\n",
       "}});\n",
       "\n",
       "// Listen for the removal of the full notebook cells\n",
       "var notebookContainer = gd.closest('#notebook-container');\n",
       "if (notebookContainer) {{\n",
       "    x.observe(notebookContainer, {childList: true});\n",
       "}}\n",
       "\n",
       "// Listen for the clearing of the current output cell\n",
       "var outputEl = gd.closest('.output');\n",
       "if (outputEl) {{\n",
       "    x.observe(outputEl, {childList: true});\n",
       "}}\n",
       "\n",
       "                        })                };                });            </script>        </div>"
      ]
     },
     "metadata": {},
     "output_type": "display_data"
    }
   ],
   "source": [
    "# Ajouter une colonne 'mois' au DataFrame\n",
    "df['mois'] = np.random.choice(range(1, 13), 1000)\n",
    "\n",
    "fig = px.line(df.groupby('mois')['temps_reservation'].mean().reset_index(),\n",
    "              x='mois', y='temps_reservation',\n",
    "              title='temps de réservation moyen par mois')\n",
    "fig.update_layout(xaxis_title='Mois', yaxis_title='Temps de réservation moyen (jours)')\n",
    "fig.show()\n"
   ]
  },
  {
   "cell_type": "code",
   "execution_count": 476,
   "id": "51104a46-a933-45ce-a0da-2c093ed7c0f1",
   "metadata": {
    "scrolled": true
   },
   "outputs": [
    {
     "data": {
      "application/vnd.plotly.v1+json": {
       "config": {
        "plotlyServerURL": "https://plot.ly"
       },
       "data": [
        {
         "alignmentgroup": "True",
         "hovertemplate": "sexe=%{x}<br>frequence_reservation=%{y}<extra></extra>",
         "legendgroup": "",
         "marker": {
          "color": "#636efa",
          "pattern": {
           "shape": ""
          }
         },
         "name": "",
         "offsetgroup": "",
         "orientation": "v",
         "showlegend": false,
         "textposition": "auto",
         "type": "bar",
         "x": [
          "Femme",
          "Homme"
         ],
         "xaxis": "x",
         "y": [
          2.026262626262626,
          2.017821782178218
         ],
         "yaxis": "y"
        }
       ],
       "layout": {
        "autosize": true,
        "barmode": "relative",
        "legend": {
         "tracegroupgap": 0
        },
        "template": {
         "data": {
          "bar": [
           {
            "error_x": {
             "color": "#2a3f5f"
            },
            "error_y": {
             "color": "#2a3f5f"
            },
            "marker": {
             "line": {
              "color": "#E5ECF6",
              "width": 0.5
             },
             "pattern": {
              "fillmode": "overlay",
              "size": 10,
              "solidity": 0.2
             }
            },
            "type": "bar"
           }
          ],
          "barpolar": [
           {
            "marker": {
             "line": {
              "color": "#E5ECF6",
              "width": 0.5
             },
             "pattern": {
              "fillmode": "overlay",
              "size": 10,
              "solidity": 0.2
             }
            },
            "type": "barpolar"
           }
          ],
          "carpet": [
           {
            "aaxis": {
             "endlinecolor": "#2a3f5f",
             "gridcolor": "white",
             "linecolor": "white",
             "minorgridcolor": "white",
             "startlinecolor": "#2a3f5f"
            },
            "baxis": {
             "endlinecolor": "#2a3f5f",
             "gridcolor": "white",
             "linecolor": "white",
             "minorgridcolor": "white",
             "startlinecolor": "#2a3f5f"
            },
            "type": "carpet"
           }
          ],
          "choropleth": [
           {
            "colorbar": {
             "outlinewidth": 0,
             "ticks": ""
            },
            "type": "choropleth"
           }
          ],
          "contour": [
           {
            "colorbar": {
             "outlinewidth": 0,
             "ticks": ""
            },
            "colorscale": [
             [
              0,
              "#0d0887"
             ],
             [
              0.1111111111111111,
              "#46039f"
             ],
             [
              0.2222222222222222,
              "#7201a8"
             ],
             [
              0.3333333333333333,
              "#9c179e"
             ],
             [
              0.4444444444444444,
              "#bd3786"
             ],
             [
              0.5555555555555556,
              "#d8576b"
             ],
             [
              0.6666666666666666,
              "#ed7953"
             ],
             [
              0.7777777777777778,
              "#fb9f3a"
             ],
             [
              0.8888888888888888,
              "#fdca26"
             ],
             [
              1,
              "#f0f921"
             ]
            ],
            "type": "contour"
           }
          ],
          "contourcarpet": [
           {
            "colorbar": {
             "outlinewidth": 0,
             "ticks": ""
            },
            "type": "contourcarpet"
           }
          ],
          "heatmap": [
           {
            "colorbar": {
             "outlinewidth": 0,
             "ticks": ""
            },
            "colorscale": [
             [
              0,
              "#0d0887"
             ],
             [
              0.1111111111111111,
              "#46039f"
             ],
             [
              0.2222222222222222,
              "#7201a8"
             ],
             [
              0.3333333333333333,
              "#9c179e"
             ],
             [
              0.4444444444444444,
              "#bd3786"
             ],
             [
              0.5555555555555556,
              "#d8576b"
             ],
             [
              0.6666666666666666,
              "#ed7953"
             ],
             [
              0.7777777777777778,
              "#fb9f3a"
             ],
             [
              0.8888888888888888,
              "#fdca26"
             ],
             [
              1,
              "#f0f921"
             ]
            ],
            "type": "heatmap"
           }
          ],
          "heatmapgl": [
           {
            "colorbar": {
             "outlinewidth": 0,
             "ticks": ""
            },
            "colorscale": [
             [
              0,
              "#0d0887"
             ],
             [
              0.1111111111111111,
              "#46039f"
             ],
             [
              0.2222222222222222,
              "#7201a8"
             ],
             [
              0.3333333333333333,
              "#9c179e"
             ],
             [
              0.4444444444444444,
              "#bd3786"
             ],
             [
              0.5555555555555556,
              "#d8576b"
             ],
             [
              0.6666666666666666,
              "#ed7953"
             ],
             [
              0.7777777777777778,
              "#fb9f3a"
             ],
             [
              0.8888888888888888,
              "#fdca26"
             ],
             [
              1,
              "#f0f921"
             ]
            ],
            "type": "heatmapgl"
           }
          ],
          "histogram": [
           {
            "marker": {
             "pattern": {
              "fillmode": "overlay",
              "size": 10,
              "solidity": 0.2
             }
            },
            "type": "histogram"
           }
          ],
          "histogram2d": [
           {
            "colorbar": {
             "outlinewidth": 0,
             "ticks": ""
            },
            "colorscale": [
             [
              0,
              "#0d0887"
             ],
             [
              0.1111111111111111,
              "#46039f"
             ],
             [
              0.2222222222222222,
              "#7201a8"
             ],
             [
              0.3333333333333333,
              "#9c179e"
             ],
             [
              0.4444444444444444,
              "#bd3786"
             ],
             [
              0.5555555555555556,
              "#d8576b"
             ],
             [
              0.6666666666666666,
              "#ed7953"
             ],
             [
              0.7777777777777778,
              "#fb9f3a"
             ],
             [
              0.8888888888888888,
              "#fdca26"
             ],
             [
              1,
              "#f0f921"
             ]
            ],
            "type": "histogram2d"
           }
          ],
          "histogram2dcontour": [
           {
            "colorbar": {
             "outlinewidth": 0,
             "ticks": ""
            },
            "colorscale": [
             [
              0,
              "#0d0887"
             ],
             [
              0.1111111111111111,
              "#46039f"
             ],
             [
              0.2222222222222222,
              "#7201a8"
             ],
             [
              0.3333333333333333,
              "#9c179e"
             ],
             [
              0.4444444444444444,
              "#bd3786"
             ],
             [
              0.5555555555555556,
              "#d8576b"
             ],
             [
              0.6666666666666666,
              "#ed7953"
             ],
             [
              0.7777777777777778,
              "#fb9f3a"
             ],
             [
              0.8888888888888888,
              "#fdca26"
             ],
             [
              1,
              "#f0f921"
             ]
            ],
            "type": "histogram2dcontour"
           }
          ],
          "mesh3d": [
           {
            "colorbar": {
             "outlinewidth": 0,
             "ticks": ""
            },
            "type": "mesh3d"
           }
          ],
          "parcoords": [
           {
            "line": {
             "colorbar": {
              "outlinewidth": 0,
              "ticks": ""
             }
            },
            "type": "parcoords"
           }
          ],
          "pie": [
           {
            "automargin": true,
            "type": "pie"
           }
          ],
          "scatter": [
           {
            "fillpattern": {
             "fillmode": "overlay",
             "size": 10,
             "solidity": 0.2
            },
            "type": "scatter"
           }
          ],
          "scatter3d": [
           {
            "line": {
             "colorbar": {
              "outlinewidth": 0,
              "ticks": ""
             }
            },
            "marker": {
             "colorbar": {
              "outlinewidth": 0,
              "ticks": ""
             }
            },
            "type": "scatter3d"
           }
          ],
          "scattercarpet": [
           {
            "marker": {
             "colorbar": {
              "outlinewidth": 0,
              "ticks": ""
             }
            },
            "type": "scattercarpet"
           }
          ],
          "scattergeo": [
           {
            "marker": {
             "colorbar": {
              "outlinewidth": 0,
              "ticks": ""
             }
            },
            "type": "scattergeo"
           }
          ],
          "scattergl": [
           {
            "marker": {
             "colorbar": {
              "outlinewidth": 0,
              "ticks": ""
             }
            },
            "type": "scattergl"
           }
          ],
          "scattermapbox": [
           {
            "marker": {
             "colorbar": {
              "outlinewidth": 0,
              "ticks": ""
             }
            },
            "type": "scattermapbox"
           }
          ],
          "scatterpolar": [
           {
            "marker": {
             "colorbar": {
              "outlinewidth": 0,
              "ticks": ""
             }
            },
            "type": "scatterpolar"
           }
          ],
          "scatterpolargl": [
           {
            "marker": {
             "colorbar": {
              "outlinewidth": 0,
              "ticks": ""
             }
            },
            "type": "scatterpolargl"
           }
          ],
          "scatterternary": [
           {
            "marker": {
             "colorbar": {
              "outlinewidth": 0,
              "ticks": ""
             }
            },
            "type": "scatterternary"
           }
          ],
          "surface": [
           {
            "colorbar": {
             "outlinewidth": 0,
             "ticks": ""
            },
            "colorscale": [
             [
              0,
              "#0d0887"
             ],
             [
              0.1111111111111111,
              "#46039f"
             ],
             [
              0.2222222222222222,
              "#7201a8"
             ],
             [
              0.3333333333333333,
              "#9c179e"
             ],
             [
              0.4444444444444444,
              "#bd3786"
             ],
             [
              0.5555555555555556,
              "#d8576b"
             ],
             [
              0.6666666666666666,
              "#ed7953"
             ],
             [
              0.7777777777777778,
              "#fb9f3a"
             ],
             [
              0.8888888888888888,
              "#fdca26"
             ],
             [
              1,
              "#f0f921"
             ]
            ],
            "type": "surface"
           }
          ],
          "table": [
           {
            "cells": {
             "fill": {
              "color": "#EBF0F8"
             },
             "line": {
              "color": "white"
             }
            },
            "header": {
             "fill": {
              "color": "#C8D4E3"
             },
             "line": {
              "color": "white"
             }
            },
            "type": "table"
           }
          ]
         },
         "layout": {
          "annotationdefaults": {
           "arrowcolor": "#2a3f5f",
           "arrowhead": 0,
           "arrowwidth": 1
          },
          "autotypenumbers": "strict",
          "coloraxis": {
           "colorbar": {
            "outlinewidth": 0,
            "ticks": ""
           }
          },
          "colorscale": {
           "diverging": [
            [
             0,
             "#8e0152"
            ],
            [
             0.1,
             "#c51b7d"
            ],
            [
             0.2,
             "#de77ae"
            ],
            [
             0.3,
             "#f1b6da"
            ],
            [
             0.4,
             "#fde0ef"
            ],
            [
             0.5,
             "#f7f7f7"
            ],
            [
             0.6,
             "#e6f5d0"
            ],
            [
             0.7,
             "#b8e186"
            ],
            [
             0.8,
             "#7fbc41"
            ],
            [
             0.9,
             "#4d9221"
            ],
            [
             1,
             "#276419"
            ]
           ],
           "sequential": [
            [
             0,
             "#0d0887"
            ],
            [
             0.1111111111111111,
             "#46039f"
            ],
            [
             0.2222222222222222,
             "#7201a8"
            ],
            [
             0.3333333333333333,
             "#9c179e"
            ],
            [
             0.4444444444444444,
             "#bd3786"
            ],
            [
             0.5555555555555556,
             "#d8576b"
            ],
            [
             0.6666666666666666,
             "#ed7953"
            ],
            [
             0.7777777777777778,
             "#fb9f3a"
            ],
            [
             0.8888888888888888,
             "#fdca26"
            ],
            [
             1,
             "#f0f921"
            ]
           ],
           "sequentialminus": [
            [
             0,
             "#0d0887"
            ],
            [
             0.1111111111111111,
             "#46039f"
            ],
            [
             0.2222222222222222,
             "#7201a8"
            ],
            [
             0.3333333333333333,
             "#9c179e"
            ],
            [
             0.4444444444444444,
             "#bd3786"
            ],
            [
             0.5555555555555556,
             "#d8576b"
            ],
            [
             0.6666666666666666,
             "#ed7953"
            ],
            [
             0.7777777777777778,
             "#fb9f3a"
            ],
            [
             0.8888888888888888,
             "#fdca26"
            ],
            [
             1,
             "#f0f921"
            ]
           ]
          },
          "colorway": [
           "#636efa",
           "#EF553B",
           "#00cc96",
           "#ab63fa",
           "#FFA15A",
           "#19d3f3",
           "#FF6692",
           "#B6E880",
           "#FF97FF",
           "#FECB52"
          ],
          "font": {
           "color": "#2a3f5f"
          },
          "geo": {
           "bgcolor": "white",
           "lakecolor": "white",
           "landcolor": "#E5ECF6",
           "showlakes": true,
           "showland": true,
           "subunitcolor": "white"
          },
          "hoverlabel": {
           "align": "left"
          },
          "hovermode": "closest",
          "mapbox": {
           "style": "light"
          },
          "paper_bgcolor": "white",
          "plot_bgcolor": "#E5ECF6",
          "polar": {
           "angularaxis": {
            "gridcolor": "white",
            "linecolor": "white",
            "ticks": ""
           },
           "bgcolor": "#E5ECF6",
           "radialaxis": {
            "gridcolor": "white",
            "linecolor": "white",
            "ticks": ""
           }
          },
          "scene": {
           "xaxis": {
            "backgroundcolor": "#E5ECF6",
            "gridcolor": "white",
            "gridwidth": 2,
            "linecolor": "white",
            "showbackground": true,
            "ticks": "",
            "zerolinecolor": "white"
           },
           "yaxis": {
            "backgroundcolor": "#E5ECF6",
            "gridcolor": "white",
            "gridwidth": 2,
            "linecolor": "white",
            "showbackground": true,
            "ticks": "",
            "zerolinecolor": "white"
           },
           "zaxis": {
            "backgroundcolor": "#E5ECF6",
            "gridcolor": "white",
            "gridwidth": 2,
            "linecolor": "white",
            "showbackground": true,
            "ticks": "",
            "zerolinecolor": "white"
           }
          },
          "shapedefaults": {
           "line": {
            "color": "#2a3f5f"
           }
          },
          "ternary": {
           "aaxis": {
            "gridcolor": "white",
            "linecolor": "white",
            "ticks": ""
           },
           "baxis": {
            "gridcolor": "white",
            "linecolor": "white",
            "ticks": ""
           },
           "bgcolor": "#E5ECF6",
           "caxis": {
            "gridcolor": "white",
            "linecolor": "white",
            "ticks": ""
           }
          },
          "title": {
           "x": 0.05
          },
          "xaxis": {
           "automargin": true,
           "gridcolor": "white",
           "linecolor": "white",
           "ticks": "",
           "title": {
            "standoff": 15
           },
           "zerolinecolor": "white",
           "zerolinewidth": 2
          },
          "yaxis": {
           "automargin": true,
           "gridcolor": "white",
           "linecolor": "white",
           "ticks": "",
           "title": {
            "standoff": 15
           },
           "zerolinecolor": "white",
           "zerolinewidth": 2
          }
         }
        },
        "title": {
         "text": "fréquence de réservation moyenne par sexe"
        },
        "xaxis": {
         "anchor": "y",
         "autorange": true,
         "domain": [
          0,
          1
         ],
         "range": [
          -0.5,
          1.5
         ],
         "title": {
          "text": "Sexe"
         },
         "type": "category"
        },
        "yaxis": {
         "anchor": "x",
         "autorange": true,
         "domain": [
          0,
          1
         ],
         "range": [
          0,
          2.1329080276448695
         ],
         "title": {
          "text": "Fréquence de réservation moyenne"
         },
         "type": "linear"
        }
       }
      },
      "image/png": "[encoded data removed]",
      "text/html": [
       "<div>                            <div id=\"99a8baf3-7faf-455a-8a4b-db709182c457\" class=\"plotly-graph-div\" style=\"height:525px; width:100%;\"></div>            <script type=\"text/javascript\">                require([\"plotly\"], function(Plotly) {                    window.PLOTLYENV=window.PLOTLYENV || {};                                    if (document.getElementById(\"99a8baf3-7faf-455a-8a4b-db709182c457\")) {                    Plotly.newPlot(                        \"99a8baf3-7faf-455a-8a4b-db709182c457\",                        [{\"alignmentgroup\":\"True\",\"hovertemplate\":\"sexe=%{x}<br>frequence_reservation=%{y}<extra></extra>\",\"legendgroup\":\"\",\"marker\":{\"color\":\"#636efa\",\"pattern\":{\"shape\":\"\"}},\"name\":\"\",\"offsetgroup\":\"\",\"orientation\":\"v\",\"showlegend\":false,\"textposition\":\"auto\",\"x\":[\"Femme\",\"Homme\"],\"xaxis\":\"x\",\"y\":[2.026262626262626,2.017821782178218],\"yaxis\":\"y\",\"type\":\"bar\"}],                        {\"template\":{\"data\":{\"histogram2dcontour\":[{\"type\":\"histogram2dcontour\",\"colorbar\":{\"outlinewidth\":0,\"ticks\":\"\"},\"colorscale\":[[0.0,\"#0d0887\"],[0.1111111111111111,\"#46039f\"],[0.2222222222222222,\"#7201a8\"],[0.3333333333333333,\"#9c179e\"],[0.4444444444444444,\"#bd3786\"],[0.5555555555555556,\"#d8576b\"],[0.6666666666666666,\"#ed7953\"],[0.7777777777777778,\"#fb9f3a\"],[0.8888888888888888,\"#fdca26\"],[1.0,\"#f0f921\"]]}],\"choropleth\":[{\"type\":\"choropleth\",\"colorbar\":{\"outlinewidth\":0,\"ticks\":\"\"}}],\"histogram2d\":[{\"type\":\"histogram2d\",\"colorbar\":{\"outlinewidth\":0,\"ticks\":\"\"},\"colorscale\":[[0.0,\"#0d0887\"],[0.1111111111111111,\"#46039f\"],[0.2222222222222222,\"#7201a8\"],[0.3333333333333333,\"#9c179e\"],[0.4444444444444444,\"#bd3786\"],[0.5555555555555556,\"#d8576b\"],[0.6666666666666666,\"#ed7953\"],[0.7777777777777778,\"#fb9f3a\"],[0.8888888888888888,\"#fdca26\"],[1.0,\"#f0f921\"]]}],\"heatmap\":[{\"type\":\"heatmap\",\"colorbar\":{\"outlinewidth\":0,\"ticks\":\"\"},\"colorscale\":[[0.0,\"#0d0887\"],[0.1111111111111111,\"#46039f\"],[0.2222222222222222,\"#7201a8\"],[0.3333333333333333,\"#9c179e\"],[0.4444444444444444,\"#bd3786\"],[0.5555555555555556,\"#d8576b\"],[0.6666666666666666,\"#ed7953\"],[0.7777777777777778,\"#fb9f3a\"],[0.8888888888888888,\"#fdca26\"],[1.0,\"#f0f921\"]]}],\"heatmapgl\":[{\"type\":\"heatmapgl\",\"colorbar\":{\"outlinewidth\":0,\"ticks\":\"\"},\"colorscale\":[[0.0,\"#0d0887\"],[0.1111111111111111,\"#46039f\"],[0.2222222222222222,\"#7201a8\"],[0.3333333333333333,\"#9c179e\"],[0.4444444444444444,\"#bd3786\"],[0.5555555555555556,\"#d8576b\"],[0.6666666666666666,\"#ed7953\"],[0.7777777777777778,\"#fb9f3a\"],[0.8888888888888888,\"#fdca26\"],[1.0,\"#f0f921\"]]}],\"contourcarpet\":[{\"type\":\"contourcarpet\",\"colorbar\":{\"outlinewidth\":0,\"ticks\":\"\"}}],\"contour\":[{\"type\":\"contour\",\"colorbar\":{\"outlinewidth\":0,\"ticks\":\"\"},\"colorscale\":[[0.0,\"#0d0887\"],[0.1111111111111111,\"#46039f\"],[0.2222222222222222,\"#7201a8\"],[0.3333333333333333,\"#9c179e\"],[0.4444444444444444,\"#bd3786\"],[0.5555555555555556,\"#d8576b\"],[0.6666666666666666,\"#ed7953\"],[0.7777777777777778,\"#fb9f3a\"],[0.8888888888888888,\"#fdca26\"],[1.0,\"#f0f921\"]]}],\"surface\":[{\"type\":\"surface\",\"colorbar\":{\"outlinewidth\":0,\"ticks\":\"\"},\"colorscale\":[[0.0,\"#0d0887\"],[0.1111111111111111,\"#46039f\"],[0.2222222222222222,\"#7201a8\"],[0.3333333333333333,\"#9c179e\"],[0.4444444444444444,\"#bd3786\"],[0.5555555555555556,\"#d8576b\"],[0.6666666666666666,\"#ed7953\"],[0.7777777777777778,\"#fb9f3a\"],[0.8888888888888888,\"#fdca26\"],[1.0,\"#f0f921\"]]}],\"mesh3d\":[{\"type\":\"mesh3d\",\"colorbar\":{\"outlinewidth\":0,\"ticks\":\"\"}}],\"scatter\":[{\"fillpattern\":{\"fillmode\":\"overlay\",\"size\":10,\"solidity\":0.2},\"type\":\"scatter\"}],\"parcoords\":[{\"type\":\"parcoords\",\"line\":{\"colorbar\":{\"outlinewidth\":0,\"ticks\":\"\"}}}],\"scatterpolargl\":[{\"type\":\"scatterpolargl\",\"marker\":{\"colorbar\":{\"outlinewidth\":0,\"ticks\":\"\"}}}],\"bar\":[{\"error_x\":{\"color\":\"#2a3f5f\"},\"error_y\":{\"color\":\"#2a3f5f\"},\"marker\":{\"line\":{\"color\":\"#E5ECF6\",\"width\":0.5},\"pattern\":{\"fillmode\":\"overlay\",\"size\":10,\"solidity\":0.2}},\"type\":\"bar\"}],\"scattergeo\":[{\"type\":\"scattergeo\",\"marker\":{\"colorbar\":{\"outlinewidth\":0,\"ticks\":\"\"}}}],\"scatterpolar\":[{\"type\":\"scatterpolar\",\"marker\":{\"colorbar\":{\"outlinewidth\":0,\"ticks\":\"\"}}}],\"histogram\":[{\"marker\":{\"pattern\":{\"fillmode\":\"overlay\",\"size\":10,\"solidity\":0.2}},\"type\":\"histogram\"}],\"scattergl\":[{\"type\":\"scattergl\",\"marker\":{\"colorbar\":{\"outlinewidth\":0,\"ticks\":\"\"}}}],\"scatter3d\":[{\"type\":\"scatter3d\",\"line\":{\"colorbar\":{\"outlinewidth\":0,\"ticks\":\"\"}},\"marker\":{\"colorbar\":{\"outlinewidth\":0,\"ticks\":\"\"}}}],\"scattermapbox\":[{\"type\":\"scattermapbox\",\"marker\":{\"colorbar\":{\"outlinewidth\":0,\"ticks\":\"\"}}}],\"scatterternary\":[{\"type\":\"scatterternary\",\"marker\":{\"colorbar\":{\"outlinewidth\":0,\"ticks\":\"\"}}}],\"scattercarpet\":[{\"type\":\"scattercarpet\",\"marker\":{\"colorbar\":{\"outlinewidth\":0,\"ticks\":\"\"}}}],\"carpet\":[{\"aaxis\":{\"endlinecolor\":\"#2a3f5f\",\"gridcolor\":\"white\",\"linecolor\":\"white\",\"minorgridcolor\":\"white\",\"startlinecolor\":\"#2a3f5f\"},\"baxis\":{\"endlinecolor\":\"#2a3f5f\",\"gridcolor\":\"white\",\"linecolor\":\"white\",\"minorgridcolor\":\"white\",\"startlinecolor\":\"#2a3f5f\"},\"type\":\"carpet\"}],\"table\":[{\"cells\":{\"fill\":{\"color\":\"#EBF0F8\"},\"line\":{\"color\":\"white\"}},\"header\":{\"fill\":{\"color\":\"#C8D4E3\"},\"line\":{\"color\":\"white\"}},\"type\":\"table\"}],\"barpolar\":[{\"marker\":{\"line\":{\"color\":\"#E5ECF6\",\"width\":0.5},\"pattern\":{\"fillmode\":\"overlay\",\"size\":10,\"solidity\":0.2}},\"type\":\"barpolar\"}],\"pie\":[{\"automargin\":true,\"type\":\"pie\"}]},\"layout\":{\"autotypenumbers\":\"strict\",\"colorway\":[\"#636efa\",\"#EF553B\",\"#00cc96\",\"#ab63fa\",\"#FFA15A\",\"#19d3f3\",\"#FF6692\",\"#B6E880\",\"#FF97FF\",\"#FECB52\"],\"font\":{\"color\":\"#2a3f5f\"},\"hovermode\":\"closest\",\"hoverlabel\":{\"align\":\"left\"},\"paper_bgcolor\":\"white\",\"plot_bgcolor\":\"#E5ECF6\",\"polar\":{\"bgcolor\":\"#E5ECF6\",\"angularaxis\":{\"gridcolor\":\"white\",\"linecolor\":\"white\",\"ticks\":\"\"},\"radialaxis\":{\"gridcolor\":\"white\",\"linecolor\":\"white\",\"ticks\":\"\"}},\"ternary\":{\"bgcolor\":\"#E5ECF6\",\"aaxis\":{\"gridcolor\":\"white\",\"linecolor\":\"white\",\"ticks\":\"\"},\"baxis\":{\"gridcolor\":\"white\",\"linecolor\":\"white\",\"ticks\":\"\"},\"caxis\":{\"gridcolor\":\"white\",\"linecolor\":\"white\",\"ticks\":\"\"}},\"coloraxis\":{\"colorbar\":{\"outlinewidth\":0,\"ticks\":\"\"}},\"colorscale\":{\"sequential\":[[0.0,\"#0d0887\"],[0.1111111111111111,\"#46039f\"],[0.2222222222222222,\"#7201a8\"],[0.3333333333333333,\"#9c179e\"],[0.4444444444444444,\"#bd3786\"],[0.5555555555555556,\"#d8576b\"],[0.6666666666666666,\"#ed7953\"],[0.7777777777777778,\"#fb9f3a\"],[0.8888888888888888,\"#fdca26\"],[1.0,\"#f0f921\"]],\"sequentialminus\":[[0.0,\"#0d0887\"],[0.1111111111111111,\"#46039f\"],[0.2222222222222222,\"#7201a8\"],[0.3333333333333333,\"#9c179e\"],[0.4444444444444444,\"#bd3786\"],[0.5555555555555556,\"#d8576b\"],[0.6666666666666666,\"#ed7953\"],[0.7777777777777778,\"#fb9f3a\"],[0.8888888888888888,\"#fdca26\"],[1.0,\"#f0f921\"]],\"diverging\":[[0,\"#8e0152\"],[0.1,\"#c51b7d\"],[0.2,\"#de77ae\"],[0.3,\"#f1b6da\"],[0.4,\"#fde0ef\"],[0.5,\"#f7f7f7\"],[0.6,\"#e6f5d0\"],[0.7,\"#b8e186\"],[0.8,\"#7fbc41\"],[0.9,\"#4d9221\"],[1,\"#276419\"]]},\"xaxis\":{\"gridcolor\":\"white\",\"linecolor\":\"white\",\"ticks\":\"\",\"title\":{\"standoff\":15},\"zerolinecolor\":\"white\",\"automargin\":true,\"zerolinewidth\":2},\"yaxis\":{\"gridcolor\":\"white\",\"linecolor\":\"white\",\"ticks\":\"\",\"title\":{\"standoff\":15},\"zerolinecolor\":\"white\",\"automargin\":true,\"zerolinewidth\":2},\"scene\":{\"xaxis\":{\"backgroundcolor\":\"#E5ECF6\",\"gridcolor\":\"white\",\"linecolor\":\"white\",\"showbackground\":true,\"ticks\":\"\",\"zerolinecolor\":\"white\",\"gridwidth\":2},\"yaxis\":{\"backgroundcolor\":\"#E5ECF6\",\"gridcolor\":\"white\",\"linecolor\":\"white\",\"showbackground\":true,\"ticks\":\"\",\"zerolinecolor\":\"white\",\"gridwidth\":2},\"zaxis\":{\"backgroundcolor\":\"#E5ECF6\",\"gridcolor\":\"white\",\"linecolor\":\"white\",\"showbackground\":true,\"ticks\":\"\",\"zerolinecolor\":\"white\",\"gridwidth\":2}},\"shapedefaults\":{\"line\":{\"color\":\"#2a3f5f\"}},\"annotationdefaults\":{\"arrowcolor\":\"#2a3f5f\",\"arrowhead\":0,\"arrowwidth\":1},\"geo\":{\"bgcolor\":\"white\",\"landcolor\":\"#E5ECF6\",\"subunitcolor\":\"white\",\"showland\":true,\"showlakes\":true,\"lakecolor\":\"white\"},\"title\":{\"x\":0.05},\"mapbox\":{\"style\":\"light\"}}},\"xaxis\":{\"anchor\":\"y\",\"domain\":[0.0,1.0],\"title\":{\"text\":\"Sexe\"}},\"yaxis\":{\"anchor\":\"x\",\"domain\":[0.0,1.0],\"title\":{\"text\":\"Fr\\u00e9quence de r\\u00e9servation moyenne\"}},\"legend\":{\"tracegroupgap\":0},\"title\":{\"text\":\"fr\\u00e9quence de r\\u00e9servation moyenne par sexe\"},\"barmode\":\"relative\"},                        {\"responsive\": true}                    ).then(function(){\n",
       "                            \n",
       "var gd = document.getElementById('99a8baf3-7faf-455a-8a4b-db709182c457');\n",
       "var x = new MutationObserver(function (mutations, observer) {{\n",
       "        var display = window.getComputedStyle(gd).display;\n",
       "        if (!display || display === 'none') {{\n",
       "            console.log([gd, 'removed!']);\n",
       "            Plotly.purge(gd);\n",
       "            observer.disconnect();\n",
       "        }}\n",
       "}});\n",
       "\n",
       "// Listen for the removal of the full notebook cells\n",
       "var notebookContainer = gd.closest('#notebook-container');\n",
       "if (notebookContainer) {{\n",
       "    x.observe(notebookContainer, {childList: true});\n",
       "}}\n",
       "\n",
       "// Listen for the clearing of the current output cell\n",
       "var outputEl = gd.closest('.output');\n",
       "if (outputEl) {{\n",
       "    x.observe(outputEl, {childList: true});\n",
       "}}\n",
       "\n",
       "                        })                };                });            </script>        </div>"
      ]
     },
     "metadata": {},
     "output_type": "display_data"
    }
   ],
   "source": [
    "# Ajouter une colonne 'sexe' au DataFrame\n",
    "df['sexe'] = np.random.choice(['Homme', 'Femme'], 1000)\n",
    "\n",
    "fig = px.bar(df.groupby('sexe')['frequence_reservation'].mean().reset_index(),\n",
    "             x='sexe', y='frequence_reservation',\n",
    "             title='fréquence de réservation moyenne par sexe')\n",
    "fig.update_layout(xaxis_title='Sexe', yaxis_title='Fréquence de réservation moyenne')\n",
    "fig.show()\n"
   ]
  },
  {
   "cell_type": "code",
   "execution_count": 474,
   "id": "758846fe-6617-4682-a6f6-8d78f3dfb9c8",
   "metadata": {},
   "outputs": [
    {
     "data": {
      "application/vnd.plotly.v1+json": {
       "config": {
        "plotlyServerURL": "https://plot.ly"
       },
       "data": [
        {
         "domain": {
          "x": [
           0,
           1
          ],
          "y": [
           0,
           1
          ]
         },
         "hovertemplate": "parc_id=%{label}<br>client_id=%{value}<extra></extra>",
         "labels": [
          1,
          2,
          3,
          4,
          5,
          6,
          7,
          8,
          9,
          10
         ],
         "legendgroup": "",
         "name": "",
         "showlegend": true,
         "type": "pie",
         "values": [
          108,
          112,
          98,
          107,
          98,
          104,
          90,
          107,
          94,
          82
         ]
        }
       ],
       "layout": {
        "autosize": true,
        "legend": {
         "tracegroupgap": 0
        },
        "template": {
         "data": {
          "bar": [
           {
            "error_x": {
             "color": "#2a3f5f"
            },
            "error_y": {
             "color": "#2a3f5f"
            },
            "marker": {
             "line": {
              "color": "#E5ECF6",
              "width": 0.5
             },
             "pattern": {
              "fillmode": "overlay",
              "size": 10,
              "solidity": 0.2
             }
            },
            "type": "bar"
           }
          ],
          "barpolar": [
           {
            "marker": {
             "line": {
              "color": "#E5ECF6",
              "width": 0.5
             },
             "pattern": {
              "fillmode": "overlay",
              "size": 10,
              "solidity": 0.2
             }
            },
            "type": "barpolar"
           }
          ],
          "carpet": [
           {
            "aaxis": {
             "endlinecolor": "#2a3f5f",
             "gridcolor": "white",
             "linecolor": "white",
             "minorgridcolor": "white",
             "startlinecolor": "#2a3f5f"
            },
            "baxis": {
             "endlinecolor": "#2a3f5f",
             "gridcolor": "white",
             "linecolor": "white",
             "minorgridcolor": "white",
             "startlinecolor": "#2a3f5f"
            },
            "type": "carpet"
           }
          ],
          "choropleth": [
           {
            "colorbar": {
             "outlinewidth": 0,
             "ticks": ""
            },
            "type": "choropleth"
           }
          ],
          "contour": [
           {
            "colorbar": {
             "outlinewidth": 0,
             "ticks": ""
            },
            "colorscale": [
             [
              0,
              "#0d0887"
             ],
             [
              0.1111111111111111,
              "#46039f"
             ],
             [
              0.2222222222222222,
              "#7201a8"
             ],
             [
              0.3333333333333333,
              "#9c179e"
             ],
             [
              0.4444444444444444,
              "#bd3786"
             ],
             [
              0.5555555555555556,
              "#d8576b"
             ],
             [
              0.6666666666666666,
              "#ed7953"
             ],
             [
              0.7777777777777778,
              "#fb9f3a"
             ],
             [
              0.8888888888888888,
              "#fdca26"
             ],
             [
              1,
              "#f0f921"
             ]
            ],
            "type": "contour"
           }
          ],
          "contourcarpet": [
           {
            "colorbar": {
             "outlinewidth": 0,
             "ticks": ""
            },
            "type": "contourcarpet"
           }
          ],
          "heatmap": [
           {
            "colorbar": {
             "outlinewidth": 0,
             "ticks": ""
            },
            "colorscale": [
             [
              0,
              "#0d0887"
             ],
             [
              0.1111111111111111,
              "#46039f"
             ],
             [
              0.2222222222222222,
              "#7201a8"
             ],
             [
              0.3333333333333333,
              "#9c179e"
             ],
             [
              0.4444444444444444,
              "#bd3786"
             ],
             [
              0.5555555555555556,
              "#d8576b"
             ],
             [
              0.6666666666666666,
              "#ed7953"
             ],
             [
              0.7777777777777778,
              "#fb9f3a"
             ],
             [
              0.8888888888888888,
              "#fdca26"
             ],
             [
              1,
              "#f0f921"
             ]
            ],
            "type": "heatmap"
           }
          ],
          "heatmapgl": [
           {
            "colorbar": {
             "outlinewidth": 0,
             "ticks": ""
            },
            "colorscale": [
             [
              0,
              "#0d0887"
             ],
             [
              0.1111111111111111,
              "#46039f"
             ],
             [
              0.2222222222222222,
              "#7201a8"
             ],
             [
              0.3333333333333333,
              "#9c179e"
             ],
             [
              0.4444444444444444,
              "#bd3786"
             ],
             [
              0.5555555555555556,
              "#d8576b"
             ],
             [
              0.6666666666666666,
              "#ed7953"
             ],
             [
              0.7777777777777778,
              "#fb9f3a"
             ],
             [
              0.8888888888888888,
              "#fdca26"
             ],
             [
              1,
              "#f0f921"
             ]
            ],
            "type": "heatmapgl"
           }
          ],
          "histogram": [
           {
            "marker": {
             "pattern": {
              "fillmode": "overlay",
              "size": 10,
              "solidity": 0.2
             }
            },
            "type": "histogram"
           }
          ],
          "histogram2d": [
           {
            "colorbar": {
             "outlinewidth": 0,
             "ticks": ""
            },
            "colorscale": [
             [
              0,
              "#0d0887"
             ],
             [
              0.1111111111111111,
              "#46039f"
             ],
             [
              0.2222222222222222,
              "#7201a8"
             ],
             [
              0.3333333333333333,
              "#9c179e"
             ],
             [
              0.4444444444444444,
              "#bd3786"
             ],
             [
              0.5555555555555556,
              "#d8576b"
             ],
             [
              0.6666666666666666,
              "#ed7953"
             ],
             [
              0.7777777777777778,
              "#fb9f3a"
             ],
             [
              0.8888888888888888,
              "#fdca26"
             ],
             [
              1,
              "#f0f921"
             ]
            ],
            "type": "histogram2d"
           }
          ],
          "histogram2dcontour": [
           {
            "colorbar": {
             "outlinewidth": 0,
             "ticks": ""
            },
            "colorscale": [
             [
              0,
              "#0d0887"
             ],
             [
              0.1111111111111111,
              "#46039f"
             ],
             [
              0.2222222222222222,
              "#7201a8"
             ],
             [
              0.3333333333333333,
              "#9c179e"
             ],
             [
              0.4444444444444444,
              "#bd3786"
             ],
             [
              0.5555555555555556,
              "#d8576b"
             ],
             [
              0.6666666666666666,
              "#ed7953"
             ],
             [
              0.7777777777777778,
              "#fb9f3a"
             ],
             [
              0.8888888888888888,
              "#fdca26"
             ],
             [
              1,
              "#f0f921"
             ]
            ],
            "type": "histogram2dcontour"
           }
          ],
          "mesh3d": [
           {
            "colorbar": {
             "outlinewidth": 0,
             "ticks": ""
            },
            "type": "mesh3d"
           }
          ],
          "parcoords": [
           {
            "line": {
             "colorbar": {
              "outlinewidth": 0,
              "ticks": ""
             }
            },
            "type": "parcoords"
           }
          ],
          "pie": [
           {
            "automargin": true,
            "type": "pie"
           }
          ],
          "scatter": [
           {
            "fillpattern": {
             "fillmode": "overlay",
             "size": 10,
             "solidity": 0.2
            },
            "type": "scatter"
           }
          ],
          "scatter3d": [
           {
            "line": {
             "colorbar": {
              "outlinewidth": 0,
              "ticks": ""
             }
            },
            "marker": {
             "colorbar": {
              "outlinewidth": 0,
              "ticks": ""
             }
            },
            "type": "scatter3d"
           }
          ],
          "scattercarpet": [
           {
            "marker": {
             "colorbar": {
              "outlinewidth": 0,
              "ticks": ""
             }
            },
            "type": "scattercarpet"
           }
          ],
          "scattergeo": [
           {
            "marker": {
             "colorbar": {
              "outlinewidth": 0,
              "ticks": ""
             }
            },
            "type": "scattergeo"
           }
          ],
          "scattergl": [
           {
            "marker": {
             "colorbar": {
              "outlinewidth": 0,
              "ticks": ""
             }
            },
            "type": "scattergl"
           }
          ],
          "scattermapbox": [
           {
            "marker": {
             "colorbar": {
              "outlinewidth": 0,
              "ticks": ""
             }
            },
            "type": "scattermapbox"
           }
          ],
          "scatterpolar": [
           {
            "marker": {
             "colorbar": {
              "outlinewidth": 0,
              "ticks": ""
             }
            },
            "type": "scatterpolar"
           }
          ],
          "scatterpolargl": [
           {
            "marker": {
             "colorbar": {
              "outlinewidth": 0,
              "ticks": ""
             }
            },
            "type": "scatterpolargl"
           }
          ],
          "scatterternary": [
           {
            "marker": {
             "colorbar": {
              "outlinewidth": 0,
              "ticks": ""
             }
            },
            "type": "scatterternary"
           }
          ],
          "surface": [
           {
            "colorbar": {
             "outlinewidth": 0,
             "ticks": ""
            },
            "colorscale": [
             [
              0,
              "#0d0887"
             ],
             [
              0.1111111111111111,
              "#46039f"
             ],
             [
              0.2222222222222222,
              "#7201a8"
             ],
             [
              0.3333333333333333,
              "#9c179e"
             ],
             [
              0.4444444444444444,
              "#bd3786"
             ],
             [
              0.5555555555555556,
              "#d8576b"
             ],
             [
              0.6666666666666666,
              "#ed7953"
             ],
             [
              0.7777777777777778,
              "#fb9f3a"
             ],
             [
              0.8888888888888888,
              "#fdca26"
             ],
             [
              1,
              "#f0f921"
             ]
            ],
            "type": "surface"
           }
          ],
          "table": [
           {
            "cells": {
             "fill": {
              "color": "#EBF0F8"
             },
             "line": {
              "color": "white"
             }
            },
            "header": {
             "fill": {
              "color": "#C8D4E3"
             },
             "line": {
              "color": "white"
             }
            },
            "type": "table"
           }
          ]
         },
         "layout": {
          "annotationdefaults": {
           "arrowcolor": "#2a3f5f",
           "arrowhead": 0,
           "arrowwidth": 1
          },
          "autotypenumbers": "strict",
          "coloraxis": {
           "colorbar": {
            "outlinewidth": 0,
            "ticks": ""
           }
          },
          "colorscale": {
           "diverging": [
            [
             0,
             "#8e0152"
            ],
            [
             0.1,
             "#c51b7d"
            ],
            [
             0.2,
             "#de77ae"
            ],
            [
             0.3,
             "#f1b6da"
            ],
            [
             0.4,
             "#fde0ef"
            ],
            [
             0.5,
             "#f7f7f7"
            ],
            [
             0.6,
             "#e6f5d0"
            ],
            [
             0.7,
             "#b8e186"
            ],
            [
             0.8,
             "#7fbc41"
            ],
            [
             0.9,
             "#4d9221"
            ],
            [
             1,
             "#276419"
            ]
           ],
           "sequential": [
            [
             0,
             "#0d0887"
            ],
            [
             0.1111111111111111,
             "#46039f"
            ],
            [
             0.2222222222222222,
             "#7201a8"
            ],
            [
             0.3333333333333333,
             "#9c179e"
            ],
            [
             0.4444444444444444,
             "#bd3786"
            ],
            [
             0.5555555555555556,
             "#d8576b"
            ],
            [
             0.6666666666666666,
             "#ed7953"
            ],
            [
             0.7777777777777778,
             "#fb9f3a"
            ],
            [
             0.8888888888888888,
             "#fdca26"
            ],
            [
             1,
             "#f0f921"
            ]
           ],
           "sequentialminus": [
            [
             0,
             "#0d0887"
            ],
            [
             0.1111111111111111,
             "#46039f"
            ],
            [
             0.2222222222222222,
             "#7201a8"
            ],
            [
             0.3333333333333333,
             "#9c179e"
            ],
            [
             0.4444444444444444,
             "#bd3786"
            ],
            [
             0.5555555555555556,
             "#d8576b"
            ],
            [
             0.6666666666666666,
             "#ed7953"
            ],
            [
             0.7777777777777778,
             "#fb9f3a"
            ],
            [
             0.8888888888888888,
             "#fdca26"
            ],
            [
             1,
             "#f0f921"
            ]
           ]
          },
          "colorway": [
           "#636efa",
           "#EF553B",
           "#00cc96",
           "#ab63fa",
           "#FFA15A",
           "#19d3f3",
           "#FF6692",
           "#B6E880",
           "#FF97FF",
           "#FECB52"
          ],
          "font": {
           "color": "#2a3f5f"
          },
          "geo": {
           "bgcolor": "white",
           "lakecolor": "white",
           "landcolor": "#E5ECF6",
           "showlakes": true,
           "showland": true,
           "subunitcolor": "white"
          },
          "hoverlabel": {
           "align": "left"
          },
          "hovermode": "closest",
          "mapbox": {
           "style": "light"
          },
          "paper_bgcolor": "white",
          "plot_bgcolor": "#E5ECF6",
          "polar": {
           "angularaxis": {
            "gridcolor": "white",
            "linecolor": "white",
            "ticks": ""
           },
           "bgcolor": "#E5ECF6",
           "radialaxis": {
            "gridcolor": "white",
            "linecolor": "white",
            "ticks": ""
           }
          },
          "scene": {
           "xaxis": {
            "backgroundcolor": "#E5ECF6",
            "gridcolor": "white",
            "gridwidth": 2,
            "linecolor": "white",
            "showbackground": true,
            "ticks": "",
            "zerolinecolor": "white"
           },
           "yaxis": {
            "backgroundcolor": "#E5ECF6",
            "gridcolor": "white",
            "gridwidth": 2,
            "linecolor": "white",
            "showbackground": true,
            "ticks": "",
            "zerolinecolor": "white"
           },
           "zaxis": {
            "backgroundcolor": "#E5ECF6",
            "gridcolor": "white",
            "gridwidth": 2,
            "linecolor": "white",
            "showbackground": true,
            "ticks": "",
            "zerolinecolor": "white"
           }
          },
          "shapedefaults": {
           "line": {
            "color": "#2a3f5f"
           }
          },
          "ternary": {
           "aaxis": {
            "gridcolor": "white",
            "linecolor": "white",
            "ticks": ""
           },
           "baxis": {
            "gridcolor": "white",
            "linecolor": "white",
            "ticks": ""
           },
           "bgcolor": "#E5ECF6",
           "caxis": {
            "gridcolor": "white",
            "linecolor": "white",
            "ticks": ""
           }
          },
          "title": {
           "x": 0.05
          },
          "xaxis": {
           "automargin": true,
           "gridcolor": "white",
           "linecolor": "white",
           "ticks": "",
           "title": {
            "standoff": 15
           },
           "zerolinecolor": "white",
           "zerolinewidth": 2
          },
          "yaxis": {
           "automargin": true,
           "gridcolor": "white",
           "linecolor": "white",
           "ticks": "",
           "title": {
            "standoff": 15
           },
           "zerolinecolor": "white",
           "zerolinewidth": 2
          }
         }
        },
        "title": {
         "text": "répartition des réservations par parc"
        }
       }
      },
      "image/png": "[encoded data removed]",
      "text/html": [
       "<div>                            <div id=\"7d9fa0e9-ac48-494b-9cd9-f5b349b92f38\" class=\"plotly-graph-div\" style=\"height:525px; width:100%;\"></div>            <script type=\"text/javascript\">                require([\"plotly\"], function(Plotly) {                    window.PLOTLYENV=window.PLOTLYENV || {};                                    if (document.getElementById(\"7d9fa0e9-ac48-494b-9cd9-f5b349b92f38\")) {                    Plotly.newPlot(                        \"7d9fa0e9-ac48-494b-9cd9-f5b349b92f38\",                        [{\"domain\":{\"x\":[0.0,1.0],\"y\":[0.0,1.0]},\"hovertemplate\":\"parc_id=%{label}<br>client_id=%{value}<extra></extra>\",\"labels\":[1,2,3,4,5,6,7,8,9,10],\"legendgroup\":\"\",\"name\":\"\",\"showlegend\":true,\"values\":[108,112,98,107,98,104,90,107,94,82],\"type\":\"pie\"}],                        {\"template\":{\"data\":{\"histogram2dcontour\":[{\"type\":\"histogram2dcontour\",\"colorbar\":{\"outlinewidth\":0,\"ticks\":\"\"},\"colorscale\":[[0.0,\"#0d0887\"],[0.1111111111111111,\"#46039f\"],[0.2222222222222222,\"#7201a8\"],[0.3333333333333333,\"#9c179e\"],[0.4444444444444444,\"#bd3786\"],[0.5555555555555556,\"#d8576b\"],[0.6666666666666666,\"#ed7953\"],[0.7777777777777778,\"#fb9f3a\"],[0.8888888888888888,\"#fdca26\"],[1.0,\"#f0f921\"]]}],\"choropleth\":[{\"type\":\"choropleth\",\"colorbar\":{\"outlinewidth\":0,\"ticks\":\"\"}}],\"histogram2d\":[{\"type\":\"histogram2d\",\"colorbar\":{\"outlinewidth\":0,\"ticks\":\"\"},\"colorscale\":[[0.0,\"#0d0887\"],[0.1111111111111111,\"#46039f\"],[0.2222222222222222,\"#7201a8\"],[0.3333333333333333,\"#9c179e\"],[0.4444444444444444,\"#bd3786\"],[0.5555555555555556,\"#d8576b\"],[0.6666666666666666,\"#ed7953\"],[0.7777777777777778,\"#fb9f3a\"],[0.8888888888888888,\"#fdca26\"],[1.0,\"#f0f921\"]]}],\"heatmap\":[{\"type\":\"heatmap\",\"colorbar\":{\"outlinewidth\":0,\"ticks\":\"\"},\"colorscale\":[[0.0,\"#0d0887\"],[0.1111111111111111,\"#46039f\"],[0.2222222222222222,\"#7201a8\"],[0.3333333333333333,\"#9c179e\"],[0.4444444444444444,\"#bd3786\"],[0.5555555555555556,\"#d8576b\"],[0.6666666666666666,\"#ed7953\"],[0.7777777777777778,\"#fb9f3a\"],[0.8888888888888888,\"#fdca26\"],[1.0,\"#f0f921\"]]}],\"heatmapgl\":[{\"type\":\"heatmapgl\",\"colorbar\":{\"outlinewidth\":0,\"ticks\":\"\"},\"colorscale\":[[0.0,\"#0d0887\"],[0.1111111111111111,\"#46039f\"],[0.2222222222222222,\"#7201a8\"],[0.3333333333333333,\"#9c179e\"],[0.4444444444444444,\"#bd3786\"],[0.5555555555555556,\"#d8576b\"],[0.6666666666666666,\"#ed7953\"],[0.7777777777777778,\"#fb9f3a\"],[0.8888888888888888,\"#fdca26\"],[1.0,\"#f0f921\"]]}],\"contourcarpet\":[{\"type\":\"contourcarpet\",\"colorbar\":{\"outlinewidth\":0,\"ticks\":\"\"}}],\"contour\":[{\"type\":\"contour\",\"colorbar\":{\"outlinewidth\":0,\"ticks\":\"\"},\"colorscale\":[[0.0,\"#0d0887\"],[0.1111111111111111,\"#46039f\"],[0.2222222222222222,\"#7201a8\"],[0.3333333333333333,\"#9c179e\"],[0.4444444444444444,\"#bd3786\"],[0.5555555555555556,\"#d8576b\"],[0.6666666666666666,\"#ed7953\"],[0.7777777777777778,\"#fb9f3a\"],[0.8888888888888888,\"#fdca26\"],[1.0,\"#f0f921\"]]}],\"surface\":[{\"type\":\"surface\",\"colorbar\":{\"outlinewidth\":0,\"ticks\":\"\"},\"colorscale\":[[0.0,\"#0d0887\"],[0.1111111111111111,\"#46039f\"],[0.2222222222222222,\"#7201a8\"],[0.3333333333333333,\"#9c179e\"],[0.4444444444444444,\"#bd3786\"],[0.5555555555555556,\"#d8576b\"],[0.6666666666666666,\"#ed7953\"],[0.7777777777777778,\"#fb9f3a\"],[0.8888888888888888,\"#fdca26\"],[1.0,\"#f0f921\"]]}],\"mesh3d\":[{\"type\":\"mesh3d\",\"colorbar\":{\"outlinewidth\":0,\"ticks\":\"\"}}],\"scatter\":[{\"fillpattern\":{\"fillmode\":\"overlay\",\"size\":10,\"solidity\":0.2},\"type\":\"scatter\"}],\"parcoords\":[{\"type\":\"parcoords\",\"line\":{\"colorbar\":{\"outlinewidth\":0,\"ticks\":\"\"}}}],\"scatterpolargl\":[{\"type\":\"scatterpolargl\",\"marker\":{\"colorbar\":{\"outlinewidth\":0,\"ticks\":\"\"}}}],\"bar\":[{\"error_x\":{\"color\":\"#2a3f5f\"},\"error_y\":{\"color\":\"#2a3f5f\"},\"marker\":{\"line\":{\"color\":\"#E5ECF6\",\"width\":0.5},\"pattern\":{\"fillmode\":\"overlay\",\"size\":10,\"solidity\":0.2}},\"type\":\"bar\"}],\"scattergeo\":[{\"type\":\"scattergeo\",\"marker\":{\"colorbar\":{\"outlinewidth\":0,\"ticks\":\"\"}}}],\"scatterpolar\":[{\"type\":\"scatterpolar\",\"marker\":{\"colorbar\":{\"outlinewidth\":0,\"ticks\":\"\"}}}],\"histogram\":[{\"marker\":{\"pattern\":{\"fillmode\":\"overlay\",\"size\":10,\"solidity\":0.2}},\"type\":\"histogram\"}],\"scattergl\":[{\"type\":\"scattergl\",\"marker\":{\"colorbar\":{\"outlinewidth\":0,\"ticks\":\"\"}}}],\"scatter3d\":[{\"type\":\"scatter3d\",\"line\":{\"colorbar\":{\"outlinewidth\":0,\"ticks\":\"\"}},\"marker\":{\"colorbar\":{\"outlinewidth\":0,\"ticks\":\"\"}}}],\"scattermapbox\":[{\"type\":\"scattermapbox\",\"marker\":{\"colorbar\":{\"outlinewidth\":0,\"ticks\":\"\"}}}],\"scatterternary\":[{\"type\":\"scatterternary\",\"marker\":{\"colorbar\":{\"outlinewidth\":0,\"ticks\":\"\"}}}],\"scattercarpet\":[{\"type\":\"scattercarpet\",\"marker\":{\"colorbar\":{\"outlinewidth\":0,\"ticks\":\"\"}}}],\"carpet\":[{\"aaxis\":{\"endlinecolor\":\"#2a3f5f\",\"gridcolor\":\"white\",\"linecolor\":\"white\",\"minorgridcolor\":\"white\",\"startlinecolor\":\"#2a3f5f\"},\"baxis\":{\"endlinecolor\":\"#2a3f5f\",\"gridcolor\":\"white\",\"linecolor\":\"white\",\"minorgridcolor\":\"white\",\"startlinecolor\":\"#2a3f5f\"},\"type\":\"carpet\"}],\"table\":[{\"cells\":{\"fill\":{\"color\":\"#EBF0F8\"},\"line\":{\"color\":\"white\"}},\"header\":{\"fill\":{\"color\":\"#C8D4E3\"},\"line\":{\"color\":\"white\"}},\"type\":\"table\"}],\"barpolar\":[{\"marker\":{\"line\":{\"color\":\"#E5ECF6\",\"width\":0.5},\"pattern\":{\"fillmode\":\"overlay\",\"size\":10,\"solidity\":0.2}},\"type\":\"barpolar\"}],\"pie\":[{\"automargin\":true,\"type\":\"pie\"}]},\"layout\":{\"autotypenumbers\":\"strict\",\"colorway\":[\"#636efa\",\"#EF553B\",\"#00cc96\",\"#ab63fa\",\"#FFA15A\",\"#19d3f3\",\"#FF6692\",\"#B6E880\",\"#FF97FF\",\"#FECB52\"],\"font\":{\"color\":\"#2a3f5f\"},\"hovermode\":\"closest\",\"hoverlabel\":{\"align\":\"left\"},\"paper_bgcolor\":\"white\",\"plot_bgcolor\":\"#E5ECF6\",\"polar\":{\"bgcolor\":\"#E5ECF6\",\"angularaxis\":{\"gridcolor\":\"white\",\"linecolor\":\"white\",\"ticks\":\"\"},\"radialaxis\":{\"gridcolor\":\"white\",\"linecolor\":\"white\",\"ticks\":\"\"}},\"ternary\":{\"bgcolor\":\"#E5ECF6\",\"aaxis\":{\"gridcolor\":\"white\",\"linecolor\":\"white\",\"ticks\":\"\"},\"baxis\":{\"gridcolor\":\"white\",\"linecolor\":\"white\",\"ticks\":\"\"},\"caxis\":{\"gridcolor\":\"white\",\"linecolor\":\"white\",\"ticks\":\"\"}},\"coloraxis\":{\"colorbar\":{\"outlinewidth\":0,\"ticks\":\"\"}},\"colorscale\":{\"sequential\":[[0.0,\"#0d0887\"],[0.1111111111111111,\"#46039f\"],[0.2222222222222222,\"#7201a8\"],[0.3333333333333333,\"#9c179e\"],[0.4444444444444444,\"#bd3786\"],[0.5555555555555556,\"#d8576b\"],[0.6666666666666666,\"#ed7953\"],[0.7777777777777778,\"#fb9f3a\"],[0.8888888888888888,\"#fdca26\"],[1.0,\"#f0f921\"]],\"sequentialminus\":[[0.0,\"#0d0887\"],[0.1111111111111111,\"#46039f\"],[0.2222222222222222,\"#7201a8\"],[0.3333333333333333,\"#9c179e\"],[0.4444444444444444,\"#bd3786\"],[0.5555555555555556,\"#d8576b\"],[0.6666666666666666,\"#ed7953\"],[0.7777777777777778,\"#fb9f3a\"],[0.8888888888888888,\"#fdca26\"],[1.0,\"#f0f921\"]],\"diverging\":[[0,\"#8e0152\"],[0.1,\"#c51b7d\"],[0.2,\"#de77ae\"],[0.3,\"#f1b6da\"],[0.4,\"#fde0ef\"],[0.5,\"#f7f7f7\"],[0.6,\"#e6f5d0\"],[0.7,\"#b8e186\"],[0.8,\"#7fbc41\"],[0.9,\"#4d9221\"],[1,\"#276419\"]]},\"xaxis\":{\"gridcolor\":\"white\",\"linecolor\":\"white\",\"ticks\":\"\",\"title\":{\"standoff\":15},\"zerolinecolor\":\"white\",\"automargin\":true,\"zerolinewidth\":2},\"yaxis\":{\"gridcolor\":\"white\",\"linecolor\":\"white\",\"ticks\":\"\",\"title\":{\"standoff\":15},\"zerolinecolor\":\"white\",\"automargin\":true,\"zerolinewidth\":2},\"scene\":{\"xaxis\":{\"backgroundcolor\":\"#E5ECF6\",\"gridcolor\":\"white\",\"linecolor\":\"white\",\"showbackground\":true,\"ticks\":\"\",\"zerolinecolor\":\"white\",\"gridwidth\":2},\"yaxis\":{\"backgroundcolor\":\"#E5ECF6\",\"gridcolor\":\"white\",\"linecolor\":\"white\",\"showbackground\":true,\"ticks\":\"\",\"zerolinecolor\":\"white\",\"gridwidth\":2},\"zaxis\":{\"backgroundcolor\":\"#E5ECF6\",\"gridcolor\":\"white\",\"linecolor\":\"white\",\"showbackground\":true,\"ticks\":\"\",\"zerolinecolor\":\"white\",\"gridwidth\":2}},\"shapedefaults\":{\"line\":{\"color\":\"#2a3f5f\"}},\"annotationdefaults\":{\"arrowcolor\":\"#2a3f5f\",\"arrowhead\":0,\"arrowwidth\":1},\"geo\":{\"bgcolor\":\"white\",\"landcolor\":\"#E5ECF6\",\"subunitcolor\":\"white\",\"showland\":true,\"showlakes\":true,\"lakecolor\":\"white\"},\"title\":{\"x\":0.05},\"mapbox\":{\"style\":\"light\"}}},\"legend\":{\"tracegroupgap\":0},\"title\":{\"text\":\"r\\u00e9partition des r\\u00e9servations par parc\"}},                        {\"responsive\": true}                    ).then(function(){\n",
       "                            \n",
       "var gd = document.getElementById('7d9fa0e9-ac48-494b-9cd9-f5b349b92f38');\n",
       "var x = new MutationObserver(function (mutations, observer) {{\n",
       "        var display = window.getComputedStyle(gd).display;\n",
       "        if (!display || display === 'none') {{\n",
       "            console.log([gd, 'removed!']);\n",
       "            Plotly.purge(gd);\n",
       "            observer.disconnect();\n",
       "        }}\n",
       "}});\n",
       "\n",
       "// Listen for the removal of the full notebook cells\n",
       "var notebookContainer = gd.closest('#notebook-container');\n",
       "if (notebookContainer) {{\n",
       "    x.observe(notebookContainer, {childList: true});\n",
       "}}\n",
       "\n",
       "// Listen for the clearing of the current output cell\n",
       "var outputEl = gd.closest('.output');\n",
       "if (outputEl) {{\n",
       "    x.observe(outputEl, {childList: true});\n",
       "}}\n",
       "\n",
       "                        })                };                });            </script>        </div>"
      ]
     },
     "metadata": {},
     "output_type": "display_data"
    }
   ],
   "source": [
    "fig = px.pie(df.groupby('parc_id')['client_id'].count().reset_index(),\n",
    "             values='client_id', names='parc_id',\n",
    "             title='répartition des réservations par parc')\n",
    "fig.show()"
   ]
  },
  {
   "cell_type": "code",
   "execution_count": null,
   "id": "38734e29-4b77-43e5-a5cc-9f7ac591ae4f",
   "metadata": {},
   "outputs": [],
   "source": []
  }
 ],
 "metadata": {
  "kernelspec": {
   "display_name": "Python 3 (ipykernel)",
   "language": "python",
   "name": "python3"
  },
  "language_info": {
   "codemirror_mode": {
    "name": "ipython",
    "version": 3
   },
   "file_extension": ".py",
   "mimetype": "text/x-python",
   "name": "python",
   "nbconvert_exporter": "python",
   "pygments_lexer": "ipython3",
   "version": "3.11.7"
  }
 },
 "nbformat": 4,
 "nbformat_minor": 5
}
